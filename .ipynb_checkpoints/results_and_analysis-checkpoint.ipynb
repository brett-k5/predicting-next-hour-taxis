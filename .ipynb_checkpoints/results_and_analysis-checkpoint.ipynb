{
 "cells": [
  {
   "cell_type": "code",
   "execution_count": 1,
   "id": "1ccf64c4-dc83-405c-acac-1706a6e74ba3",
   "metadata": {},
   "outputs": [],
   "source": [
    "import pandas as pd \n",
    "from src.model_io import rmse_comp\n",
    "from test_runner import avg_rmse_dfs"
   ]
  },
  {
   "cell_type": "code",
   "execution_count": 2,
   "id": "42d6ffed-9513-45a2-b201-3b440f5adacb",
   "metadata": {},
   "outputs": [],
   "source": [
    "blocked_cv_hour = pd.read_csv('cv_rmse_scores/cv_avg_rmse_scores/blocked_avg_rmse_1h.csv')\n",
    "blocked_cv_12_hours = pd.read_csv('cv_rmse_scores/cv_avg_rmse_scores/blocked_avg_rmse_12h.csv')\n",
    "blocked_cv_day = pd.read_csv('cv_rmse_scores/cv_avg_rmse_scores/blocked_avg_rmse_24h.csv')\n",
    "blocked_cv_3_days = pd.read_csv('cv_rmse_scores/cv_avg_rmse_scores/blocked_avg_rmse_72h.csv')\n",
    "blocked_cv_week = pd.read_csv('cv_rmse_scores/cv_avg_rmse_scores/blocked_avg_rmse_168h.csv')\n",
    "expanded_w_cv_hour = pd.read_csv('cv_rmse_scores/cv_avg_rmse_scores/expanded_w_avg_rmse_1h.csv')\n",
    "expanded_w_cv_12_hours = pd.read_csv('cv_rmse_scores/cv_avg_rmse_scores/expanded_w_avg_rmse_12h.csv')\n",
    "expanded_w_cv_day = pd.read_csv('cv_rmse_scores/cv_avg_rmse_scores/expanded_w_avg_rmse_24h.csv')\n",
    "expanded_w_cv_3_days = pd.read_csv('cv_rmse_scores/cv_avg_rmse_scores/expanded_w_avg_rmse_72h.csv')\n",
    "expanded_w_cv_week = pd.read_csv('cv_rmse_scores/cv_avg_rmse_scores/expanded_w_avg_rmse_168h.csv')"
   ]
  },
  {
   "cell_type": "code",
   "execution_count": 3,
   "id": "f8bf9e37-776c-448a-adc5-f68d112e56a8",
   "metadata": {
    "scrolled": true
   },
   "outputs": [
    {
     "data": {
      "text/html": [
       "<div>\n",
       "<style scoped>\n",
       "    .dataframe tbody tr th:only-of-type {\n",
       "        vertical-align: middle;\n",
       "    }\n",
       "\n",
       "    .dataframe tbody tr th {\n",
       "        vertical-align: top;\n",
       "    }\n",
       "\n",
       "    .dataframe thead th {\n",
       "        text-align: right;\n",
       "    }\n",
       "</style>\n",
       "<table border=\"1\" class=\"dataframe\">\n",
       "  <thead>\n",
       "    <tr style=\"text-align: right;\">\n",
       "      <th></th>\n",
       "      <th>model_lin_rmse</th>\n",
       "      <th>model_sarima_rmse</th>\n",
       "      <th>model_tbats_rmse</th>\n",
       "    </tr>\n",
       "  </thead>\n",
       "  <tbody>\n",
       "    <tr>\n",
       "      <th>0</th>\n",
       "      <td>21.71205</td>\n",
       "      <td>24.131243</td>\n",
       "      <td>23.798406</td>\n",
       "    </tr>\n",
       "  </tbody>\n",
       "</table>\n",
       "</div>"
      ],
      "text/plain": [
       "   model_lin_rmse  model_sarima_rmse  model_tbats_rmse\n",
       "0        21.71205          24.131243         23.798406"
      ]
     },
     "execution_count": 3,
     "metadata": {},
     "output_type": "execute_result"
    }
   ],
   "source": [
    "blocked_cv_hour"
   ]
  },
  {
   "cell_type": "code",
   "execution_count": 4,
   "id": "f733cd6f-6d8f-4db6-b3e8-1e97296a9f8b",
   "metadata": {},
   "outputs": [
    {
     "data": {
      "text/html": [
       "<div>\n",
       "<style scoped>\n",
       "    .dataframe tbody tr th:only-of-type {\n",
       "        vertical-align: middle;\n",
       "    }\n",
       "\n",
       "    .dataframe tbody tr th {\n",
       "        vertical-align: top;\n",
       "    }\n",
       "\n",
       "    .dataframe thead th {\n",
       "        text-align: right;\n",
       "    }\n",
       "</style>\n",
       "<table border=\"1\" class=\"dataframe\">\n",
       "  <thead>\n",
       "    <tr style=\"text-align: right;\">\n",
       "      <th></th>\n",
       "      <th>model_lin_rmse</th>\n",
       "      <th>model_sarima_rmse</th>\n",
       "      <th>model_tbats_rmse</th>\n",
       "    </tr>\n",
       "  </thead>\n",
       "  <tbody>\n",
       "    <tr>\n",
       "      <th>0</th>\n",
       "      <td>22.065125</td>\n",
       "      <td>23.986036</td>\n",
       "      <td>23.350236</td>\n",
       "    </tr>\n",
       "  </tbody>\n",
       "</table>\n",
       "</div>"
      ],
      "text/plain": [
       "   model_lin_rmse  model_sarima_rmse  model_tbats_rmse\n",
       "0       22.065125          23.986036         23.350236"
      ]
     },
     "execution_count": 4,
     "metadata": {},
     "output_type": "execute_result"
    }
   ],
   "source": [
    "expanded_w_cv_hour"
   ]
  },
  {
   "cell_type": "code",
   "execution_count": 5,
   "id": "dced0736-4b92-4148-adac-08904f45a6af",
   "metadata": {},
   "outputs": [
    {
     "data": {
      "text/html": [
       "<div>\n",
       "<style scoped>\n",
       "    .dataframe tbody tr th:only-of-type {\n",
       "        vertical-align: middle;\n",
       "    }\n",
       "\n",
       "    .dataframe tbody tr th {\n",
       "        vertical-align: top;\n",
       "    }\n",
       "\n",
       "    .dataframe thead th {\n",
       "        text-align: right;\n",
       "    }\n",
       "</style>\n",
       "<table border=\"1\" class=\"dataframe\">\n",
       "  <thead>\n",
       "    <tr style=\"text-align: right;\">\n",
       "      <th></th>\n",
       "      <th>model_lin_rmse</th>\n",
       "      <th>model_sarima_rmse</th>\n",
       "      <th>model_tbats_rmse</th>\n",
       "    </tr>\n",
       "  </thead>\n",
       "  <tbody>\n",
       "    <tr>\n",
       "      <th>0</th>\n",
       "      <td>23.219898</td>\n",
       "      <td>33.174992</td>\n",
       "      <td>26.845681</td>\n",
       "    </tr>\n",
       "  </tbody>\n",
       "</table>\n",
       "</div>"
      ],
      "text/plain": [
       "   model_lin_rmse  model_sarima_rmse  model_tbats_rmse\n",
       "0       23.219898          33.174992         26.845681"
      ]
     },
     "execution_count": 5,
     "metadata": {},
     "output_type": "execute_result"
    }
   ],
   "source": [
    "blocked_cv_12_hours"
   ]
  },
  {
   "cell_type": "code",
   "execution_count": 6,
   "id": "65659ed6-d991-4961-93ed-f9fe8e179023",
   "metadata": {},
   "outputs": [
    {
     "data": {
      "text/html": [
       "<div>\n",
       "<style scoped>\n",
       "    .dataframe tbody tr th:only-of-type {\n",
       "        vertical-align: middle;\n",
       "    }\n",
       "\n",
       "    .dataframe tbody tr th {\n",
       "        vertical-align: top;\n",
       "    }\n",
       "\n",
       "    .dataframe thead th {\n",
       "        text-align: right;\n",
       "    }\n",
       "</style>\n",
       "<table border=\"1\" class=\"dataframe\">\n",
       "  <thead>\n",
       "    <tr style=\"text-align: right;\">\n",
       "      <th></th>\n",
       "      <th>model_lin_rmse</th>\n",
       "      <th>model_sarima_rmse</th>\n",
       "      <th>model_tbats_rmse</th>\n",
       "    </tr>\n",
       "  </thead>\n",
       "  <tbody>\n",
       "    <tr>\n",
       "      <th>0</th>\n",
       "      <td>23.5157</td>\n",
       "      <td>33.040719</td>\n",
       "      <td>25.173986</td>\n",
       "    </tr>\n",
       "  </tbody>\n",
       "</table>\n",
       "</div>"
      ],
      "text/plain": [
       "   model_lin_rmse  model_sarima_rmse  model_tbats_rmse\n",
       "0         23.5157          33.040719         25.173986"
      ]
     },
     "execution_count": 6,
     "metadata": {},
     "output_type": "execute_result"
    }
   ],
   "source": [
    "expanded_w_cv_12_hours"
   ]
  },
  {
   "cell_type": "code",
   "execution_count": 7,
   "id": "4d3efea3-174d-4d82-95dc-8891b5757f45",
   "metadata": {},
   "outputs": [
    {
     "data": {
      "text/html": [
       "<div>\n",
       "<style scoped>\n",
       "    .dataframe tbody tr th:only-of-type {\n",
       "        vertical-align: middle;\n",
       "    }\n",
       "\n",
       "    .dataframe tbody tr th {\n",
       "        vertical-align: top;\n",
       "    }\n",
       "\n",
       "    .dataframe thead th {\n",
       "        text-align: right;\n",
       "    }\n",
       "</style>\n",
       "<table border=\"1\" class=\"dataframe\">\n",
       "  <thead>\n",
       "    <tr style=\"text-align: right;\">\n",
       "      <th></th>\n",
       "      <th>model_lin_rmse</th>\n",
       "      <th>model_sarima_rmse</th>\n",
       "      <th>model_tbats_rmse</th>\n",
       "    </tr>\n",
       "  </thead>\n",
       "  <tbody>\n",
       "    <tr>\n",
       "      <th>0</th>\n",
       "      <td>23.976543</td>\n",
       "      <td>34.386833</td>\n",
       "      <td>25.682856</td>\n",
       "    </tr>\n",
       "  </tbody>\n",
       "</table>\n",
       "</div>"
      ],
      "text/plain": [
       "   model_lin_rmse  model_sarima_rmse  model_tbats_rmse\n",
       "0       23.976543          34.386833         25.682856"
      ]
     },
     "execution_count": 7,
     "metadata": {},
     "output_type": "execute_result"
    }
   ],
   "source": [
    "blocked_cv_day"
   ]
  },
  {
   "cell_type": "code",
   "execution_count": 8,
   "id": "7a65979b-40cc-4133-90a2-603fbed67627",
   "metadata": {},
   "outputs": [
    {
     "data": {
      "text/html": [
       "<div>\n",
       "<style scoped>\n",
       "    .dataframe tbody tr th:only-of-type {\n",
       "        vertical-align: middle;\n",
       "    }\n",
       "\n",
       "    .dataframe tbody tr th {\n",
       "        vertical-align: top;\n",
       "    }\n",
       "\n",
       "    .dataframe thead th {\n",
       "        text-align: right;\n",
       "    }\n",
       "</style>\n",
       "<table border=\"1\" class=\"dataframe\">\n",
       "  <thead>\n",
       "    <tr style=\"text-align: right;\">\n",
       "      <th></th>\n",
       "      <th>model_lin_rmse</th>\n",
       "      <th>model_sarima_rmse</th>\n",
       "      <th>model_tbats_rmse</th>\n",
       "    </tr>\n",
       "  </thead>\n",
       "  <tbody>\n",
       "    <tr>\n",
       "      <th>0</th>\n",
       "      <td>23.820579</td>\n",
       "      <td>34.355598</td>\n",
       "      <td>24.686339</td>\n",
       "    </tr>\n",
       "  </tbody>\n",
       "</table>\n",
       "</div>"
      ],
      "text/plain": [
       "   model_lin_rmse  model_sarima_rmse  model_tbats_rmse\n",
       "0       23.820579          34.355598         24.686339"
      ]
     },
     "execution_count": 8,
     "metadata": {},
     "output_type": "execute_result"
    }
   ],
   "source": [
    "expanded_w_cv_day"
   ]
  },
  {
   "cell_type": "code",
   "execution_count": 9,
   "id": "def96b81-7e02-48da-bd57-8a1b32ae7ed0",
   "metadata": {},
   "outputs": [
    {
     "data": {
      "text/html": [
       "<div>\n",
       "<style scoped>\n",
       "    .dataframe tbody tr th:only-of-type {\n",
       "        vertical-align: middle;\n",
       "    }\n",
       "\n",
       "    .dataframe tbody tr th {\n",
       "        vertical-align: top;\n",
       "    }\n",
       "\n",
       "    .dataframe thead th {\n",
       "        text-align: right;\n",
       "    }\n",
       "</style>\n",
       "<table border=\"1\" class=\"dataframe\">\n",
       "  <thead>\n",
       "    <tr style=\"text-align: right;\">\n",
       "      <th></th>\n",
       "      <th>model_lin_rmse</th>\n",
       "      <th>model_sarima_rmse</th>\n",
       "      <th>model_tbats_rmse</th>\n",
       "    </tr>\n",
       "  </thead>\n",
       "  <tbody>\n",
       "    <tr>\n",
       "      <th>0</th>\n",
       "      <td>24.010533</td>\n",
       "      <td>39.154279</td>\n",
       "      <td>29.3312</td>\n",
       "    </tr>\n",
       "  </tbody>\n",
       "</table>\n",
       "</div>"
      ],
      "text/plain": [
       "   model_lin_rmse  model_sarima_rmse  model_tbats_rmse\n",
       "0       24.010533          39.154279           29.3312"
      ]
     },
     "execution_count": 9,
     "metadata": {},
     "output_type": "execute_result"
    }
   ],
   "source": [
    "blocked_cv_3_days"
   ]
  },
  {
   "cell_type": "code",
   "execution_count": 10,
   "id": "2cb4aeef-62cb-4101-834b-2430fea40ed5",
   "metadata": {},
   "outputs": [
    {
     "data": {
      "text/html": [
       "<div>\n",
       "<style scoped>\n",
       "    .dataframe tbody tr th:only-of-type {\n",
       "        vertical-align: middle;\n",
       "    }\n",
       "\n",
       "    .dataframe tbody tr th {\n",
       "        vertical-align: top;\n",
       "    }\n",
       "\n",
       "    .dataframe thead th {\n",
       "        text-align: right;\n",
       "    }\n",
       "</style>\n",
       "<table border=\"1\" class=\"dataframe\">\n",
       "  <thead>\n",
       "    <tr style=\"text-align: right;\">\n",
       "      <th></th>\n",
       "      <th>model_lin_rmse</th>\n",
       "      <th>model_sarima_rmse</th>\n",
       "      <th>model_tbats_rmse</th>\n",
       "    </tr>\n",
       "  </thead>\n",
       "  <tbody>\n",
       "    <tr>\n",
       "      <th>0</th>\n",
       "      <td>24.033459</td>\n",
       "      <td>39.782587</td>\n",
       "      <td>23.650284</td>\n",
       "    </tr>\n",
       "  </tbody>\n",
       "</table>\n",
       "</div>"
      ],
      "text/plain": [
       "   model_lin_rmse  model_sarima_rmse  model_tbats_rmse\n",
       "0       24.033459          39.782587         23.650284"
      ]
     },
     "execution_count": 10,
     "metadata": {},
     "output_type": "execute_result"
    }
   ],
   "source": [
    "expanded_w_cv_3_days"
   ]
  },
  {
   "cell_type": "code",
   "execution_count": 11,
   "id": "837232a7-a04d-4736-9e63-23b53e20456b",
   "metadata": {},
   "outputs": [
    {
     "data": {
      "text/html": [
       "<div>\n",
       "<style scoped>\n",
       "    .dataframe tbody tr th:only-of-type {\n",
       "        vertical-align: middle;\n",
       "    }\n",
       "\n",
       "    .dataframe tbody tr th {\n",
       "        vertical-align: top;\n",
       "    }\n",
       "\n",
       "    .dataframe thead th {\n",
       "        text-align: right;\n",
       "    }\n",
       "</style>\n",
       "<table border=\"1\" class=\"dataframe\">\n",
       "  <thead>\n",
       "    <tr style=\"text-align: right;\">\n",
       "      <th></th>\n",
       "      <th>model_lin_rmse</th>\n",
       "      <th>model_sarima_rmse</th>\n",
       "      <th>model_tbats_rmse</th>\n",
       "    </tr>\n",
       "  </thead>\n",
       "  <tbody>\n",
       "    <tr>\n",
       "      <th>0</th>\n",
       "      <td>25.712999</td>\n",
       "      <td>52.39466</td>\n",
       "      <td>27.681694</td>\n",
       "    </tr>\n",
       "  </tbody>\n",
       "</table>\n",
       "</div>"
      ],
      "text/plain": [
       "   model_lin_rmse  model_sarima_rmse  model_tbats_rmse\n",
       "0       25.712999           52.39466         27.681694"
      ]
     },
     "execution_count": 11,
     "metadata": {},
     "output_type": "execute_result"
    }
   ],
   "source": [
    "blocked_cv_week"
   ]
  },
  {
   "cell_type": "code",
   "execution_count": 12,
   "id": "fbf07bd5-9f1c-44cf-bce8-49425fa293c5",
   "metadata": {},
   "outputs": [
    {
     "data": {
      "text/html": [
       "<div>\n",
       "<style scoped>\n",
       "    .dataframe tbody tr th:only-of-type {\n",
       "        vertical-align: middle;\n",
       "    }\n",
       "\n",
       "    .dataframe tbody tr th {\n",
       "        vertical-align: top;\n",
       "    }\n",
       "\n",
       "    .dataframe thead th {\n",
       "        text-align: right;\n",
       "    }\n",
       "</style>\n",
       "<table border=\"1\" class=\"dataframe\">\n",
       "  <thead>\n",
       "    <tr style=\"text-align: right;\">\n",
       "      <th></th>\n",
       "      <th>model_lin_rmse</th>\n",
       "      <th>model_sarima_rmse</th>\n",
       "      <th>model_tbats_rmse</th>\n",
       "    </tr>\n",
       "  </thead>\n",
       "  <tbody>\n",
       "    <tr>\n",
       "      <th>0</th>\n",
       "      <td>25.978239</td>\n",
       "      <td>52.961845</td>\n",
       "      <td>27.900077</td>\n",
       "    </tr>\n",
       "  </tbody>\n",
       "</table>\n",
       "</div>"
      ],
      "text/plain": [
       "   model_lin_rmse  model_sarima_rmse  model_tbats_rmse\n",
       "0       25.978239          52.961845         27.900077"
      ]
     },
     "execution_count": 12,
     "metadata": {},
     "output_type": "execute_result"
    }
   ],
   "source": [
    "expanded_w_cv_week"
   ]
  },
  {
   "cell_type": "markdown",
   "id": "898ce03a-9f52-4599-b80c-5320f46d0815",
   "metadata": {},
   "source": [
    "LinearRegression and TBATS outperform SARIMA by a wide margin for every cross validation type and forecast length, and LinearRegression edges out TBATS for every forecast length and cross validation type except for expanding window cross validation for a 72 hour forecast. Let's get a look at the cross validation folds for both blocked and expanding window cross validation for a 72 hour forecast length. "
   ]
  },
  {
   "cell_type": "markdown",
   "id": "ee66101a-fd8b-4093-a12e-fb1a31ec0231",
   "metadata": {},
   "source": [
    "Note that the second value for each fold number is the one that corrsponds to rmses for expanding window cross validation. "
   ]
  },
  {
   "cell_type": "code",
   "execution_count": 13,
   "id": "f2c0bee4-fdc3-45aa-acf4-601680abc793",
   "metadata": {
    "scrolled": true
   },
   "outputs": [],
   "source": [
    "paths_fold_rmses = ['cv_rmse_scores/cv_fold_rmse_scores/blocked_cv_fold_0_72h.csv', 'cv_rmse_scores/cv_fold_rmse_scores/expanded_w_cv_fold_0_72h.csv',\n",
    "                'cv_rmse_scores/cv_fold_rmse_scores/blocked_cv_fold_1_72h.csv', 'cv_rmse_scores/cv_fold_rmse_scores/expanded_w_cv_fold_1_72h.csv',\n",
    "                'cv_rmse_scores/cv_fold_rmse_scores/blocked_cv_fold_2_72h.csv', 'cv_rmse_scores/cv_fold_rmse_scores/expanded_w_cv_fold_2_72h.csv',\n",
    "                'cv_rmse_scores/cv_fold_rmse_scores/blocked_cv_fold_3_72h.csv', 'cv_rmse_scores/cv_fold_rmse_scores/expanded_w_cv_fold_3_72h.csv',\n",
    "                'cv_rmse_scores/cv_fold_rmse_scores/blocked_cv_fold_4_72h.csv', 'cv_rmse_scores/cv_fold_rmse_scores/expanded_w_cv_fold_4_72h.csv']\n",
    "    \n",
    "fold_rmse_names = ['df_blocked_fold_0_72h', 'df_exp_w_fold_0_72h',\n",
    "                'df_blocked_fold_1_72h', 'df_exp_w_fold_1_72h',\n",
    "                'df_blocked_fold_2_72h', 'df_exp_w_fold_2_72h',\n",
    "                'df_blocked_fold_3_72h', 'df_exp_w_fold_3_72h',\n",
    "                'df_blocked_fold_4_72h', 'df_exp_w_fold_4_72h']\n",
    "\n",
    "    \n",
    "fold_rmse_dfs = {}\n",
    "\n",
    "for file_path, name in zip(paths_fold_rmses, fold_rmse_names):\n",
    "    fold_rmse_dfs[name] = pd.read_csv(file_path)"
   ]
  },
  {
   "cell_type": "code",
   "execution_count": 14,
   "id": "5d1685e8-13c2-4bfe-8918-ce5520e0b0a2",
   "metadata": {},
   "outputs": [
    {
     "data": {
      "text/html": [
       "<div>\n",
       "<style scoped>\n",
       "    .dataframe tbody tr th:only-of-type {\n",
       "        vertical-align: middle;\n",
       "    }\n",
       "\n",
       "    .dataframe tbody tr th {\n",
       "        vertical-align: top;\n",
       "    }\n",
       "\n",
       "    .dataframe thead th {\n",
       "        text-align: right;\n",
       "    }\n",
       "</style>\n",
       "<table border=\"1\" class=\"dataframe\">\n",
       "  <thead>\n",
       "    <tr style=\"text-align: right;\">\n",
       "      <th></th>\n",
       "      <th>fold</th>\n",
       "      <th>model_lin_rmse</th>\n",
       "      <th>model_sarima_rmse</th>\n",
       "      <th>model_tbats_rmse</th>\n",
       "    </tr>\n",
       "  </thead>\n",
       "  <tbody>\n",
       "    <tr>\n",
       "      <th>0</th>\n",
       "      <td>0</td>\n",
       "      <td>17.556118</td>\n",
       "      <td>35.049616</td>\n",
       "      <td>18.212633</td>\n",
       "    </tr>\n",
       "  </tbody>\n",
       "</table>\n",
       "</div>"
      ],
      "text/plain": [
       "   fold  model_lin_rmse  model_sarima_rmse  model_tbats_rmse\n",
       "0     0       17.556118          35.049616         18.212633"
      ]
     },
     "execution_count": 14,
     "metadata": {},
     "output_type": "execute_result"
    }
   ],
   "source": [
    "fold_rmse_dfs['df_blocked_fold_0_72h']"
   ]
  },
  {
   "cell_type": "code",
   "execution_count": 15,
   "id": "e640c8a8-08d4-4a56-871b-523e99a5871d",
   "metadata": {},
   "outputs": [
    {
     "data": {
      "text/html": [
       "<div>\n",
       "<style scoped>\n",
       "    .dataframe tbody tr th:only-of-type {\n",
       "        vertical-align: middle;\n",
       "    }\n",
       "\n",
       "    .dataframe tbody tr th {\n",
       "        vertical-align: top;\n",
       "    }\n",
       "\n",
       "    .dataframe thead th {\n",
       "        text-align: right;\n",
       "    }\n",
       "</style>\n",
       "<table border=\"1\" class=\"dataframe\">\n",
       "  <thead>\n",
       "    <tr style=\"text-align: right;\">\n",
       "      <th></th>\n",
       "      <th>fold</th>\n",
       "      <th>model_lin_rmse</th>\n",
       "      <th>model_sarima_rmse</th>\n",
       "      <th>model_tbats_rmse</th>\n",
       "    </tr>\n",
       "  </thead>\n",
       "  <tbody>\n",
       "    <tr>\n",
       "      <th>0</th>\n",
       "      <td>0</td>\n",
       "      <td>17.556118</td>\n",
       "      <td>35.049616</td>\n",
       "      <td>18.212633</td>\n",
       "    </tr>\n",
       "  </tbody>\n",
       "</table>\n",
       "</div>"
      ],
      "text/plain": [
       "   fold  model_lin_rmse  model_sarima_rmse  model_tbats_rmse\n",
       "0     0       17.556118          35.049616         18.212633"
      ]
     },
     "execution_count": 15,
     "metadata": {},
     "output_type": "execute_result"
    }
   ],
   "source": [
    "fold_rmse_dfs['df_exp_w_fold_0_72h']"
   ]
  },
  {
   "cell_type": "code",
   "execution_count": 16,
   "id": "0593655b-5de5-4270-b47b-e2f512dc7d24",
   "metadata": {},
   "outputs": [
    {
     "data": {
      "text/html": [
       "<div>\n",
       "<style scoped>\n",
       "    .dataframe tbody tr th:only-of-type {\n",
       "        vertical-align: middle;\n",
       "    }\n",
       "\n",
       "    .dataframe tbody tr th {\n",
       "        vertical-align: top;\n",
       "    }\n",
       "\n",
       "    .dataframe thead th {\n",
       "        text-align: right;\n",
       "    }\n",
       "</style>\n",
       "<table border=\"1\" class=\"dataframe\">\n",
       "  <thead>\n",
       "    <tr style=\"text-align: right;\">\n",
       "      <th></th>\n",
       "      <th>fold</th>\n",
       "      <th>model_lin_rmse</th>\n",
       "      <th>model_sarima_rmse</th>\n",
       "      <th>model_tbats_rmse</th>\n",
       "    </tr>\n",
       "  </thead>\n",
       "  <tbody>\n",
       "    <tr>\n",
       "      <th>0</th>\n",
       "      <td>1</td>\n",
       "      <td>20.279421</td>\n",
       "      <td>28.897679</td>\n",
       "      <td>25.480492</td>\n",
       "    </tr>\n",
       "  </tbody>\n",
       "</table>\n",
       "</div>"
      ],
      "text/plain": [
       "   fold  model_lin_rmse  model_sarima_rmse  model_tbats_rmse\n",
       "0     1       20.279421          28.897679         25.480492"
      ]
     },
     "execution_count": 16,
     "metadata": {},
     "output_type": "execute_result"
    }
   ],
   "source": [
    "fold_rmse_dfs['df_blocked_fold_1_72h']"
   ]
  },
  {
   "cell_type": "code",
   "execution_count": 17,
   "id": "2d56370a-f0f3-4d87-b9ec-f4927402515d",
   "metadata": {},
   "outputs": [
    {
     "data": {
      "text/html": [
       "<div>\n",
       "<style scoped>\n",
       "    .dataframe tbody tr th:only-of-type {\n",
       "        vertical-align: middle;\n",
       "    }\n",
       "\n",
       "    .dataframe tbody tr th {\n",
       "        vertical-align: top;\n",
       "    }\n",
       "\n",
       "    .dataframe thead th {\n",
       "        text-align: right;\n",
       "    }\n",
       "</style>\n",
       "<table border=\"1\" class=\"dataframe\">\n",
       "  <thead>\n",
       "    <tr style=\"text-align: right;\">\n",
       "      <th></th>\n",
       "      <th>fold</th>\n",
       "      <th>model_lin_rmse</th>\n",
       "      <th>model_sarima_rmse</th>\n",
       "      <th>model_tbats_rmse</th>\n",
       "    </tr>\n",
       "  </thead>\n",
       "  <tbody>\n",
       "    <tr>\n",
       "      <th>0</th>\n",
       "      <td>1</td>\n",
       "      <td>20.52698</td>\n",
       "      <td>29.354151</td>\n",
       "      <td>21.554702</td>\n",
       "    </tr>\n",
       "  </tbody>\n",
       "</table>\n",
       "</div>"
      ],
      "text/plain": [
       "   fold  model_lin_rmse  model_sarima_rmse  model_tbats_rmse\n",
       "0     1        20.52698          29.354151         21.554702"
      ]
     },
     "execution_count": 17,
     "metadata": {},
     "output_type": "execute_result"
    }
   ],
   "source": [
    "fold_rmse_dfs['df_exp_w_fold_1_72h']"
   ]
  },
  {
   "cell_type": "code",
   "execution_count": 18,
   "id": "38736708-b00e-44f5-8a5d-19d78c49442c",
   "metadata": {},
   "outputs": [
    {
     "data": {
      "text/html": [
       "<div>\n",
       "<style scoped>\n",
       "    .dataframe tbody tr th:only-of-type {\n",
       "        vertical-align: middle;\n",
       "    }\n",
       "\n",
       "    .dataframe tbody tr th {\n",
       "        vertical-align: top;\n",
       "    }\n",
       "\n",
       "    .dataframe thead th {\n",
       "        text-align: right;\n",
       "    }\n",
       "</style>\n",
       "<table border=\"1\" class=\"dataframe\">\n",
       "  <thead>\n",
       "    <tr style=\"text-align: right;\">\n",
       "      <th></th>\n",
       "      <th>fold</th>\n",
       "      <th>model_lin_rmse</th>\n",
       "      <th>model_sarima_rmse</th>\n",
       "      <th>model_tbats_rmse</th>\n",
       "    </tr>\n",
       "  </thead>\n",
       "  <tbody>\n",
       "    <tr>\n",
       "      <th>0</th>\n",
       "      <td>2</td>\n",
       "      <td>23.747469</td>\n",
       "      <td>44.840111</td>\n",
       "      <td>21.470975</td>\n",
       "    </tr>\n",
       "  </tbody>\n",
       "</table>\n",
       "</div>"
      ],
      "text/plain": [
       "   fold  model_lin_rmse  model_sarima_rmse  model_tbats_rmse\n",
       "0     2       23.747469          44.840111         21.470975"
      ]
     },
     "execution_count": 18,
     "metadata": {},
     "output_type": "execute_result"
    }
   ],
   "source": [
    "fold_rmse_dfs['df_blocked_fold_2_72h']"
   ]
  },
  {
   "cell_type": "code",
   "execution_count": 19,
   "id": "36bca439-1437-43f3-a7a0-e7a3e8e15864",
   "metadata": {},
   "outputs": [
    {
     "data": {
      "text/html": [
       "<div>\n",
       "<style scoped>\n",
       "    .dataframe tbody tr th:only-of-type {\n",
       "        vertical-align: middle;\n",
       "    }\n",
       "\n",
       "    .dataframe tbody tr th {\n",
       "        vertical-align: top;\n",
       "    }\n",
       "\n",
       "    .dataframe thead th {\n",
       "        text-align: right;\n",
       "    }\n",
       "</style>\n",
       "<table border=\"1\" class=\"dataframe\">\n",
       "  <thead>\n",
       "    <tr style=\"text-align: right;\">\n",
       "      <th></th>\n",
       "      <th>fold</th>\n",
       "      <th>model_lin_rmse</th>\n",
       "      <th>model_sarima_rmse</th>\n",
       "      <th>model_tbats_rmse</th>\n",
       "    </tr>\n",
       "  </thead>\n",
       "  <tbody>\n",
       "    <tr>\n",
       "      <th>0</th>\n",
       "      <td>2</td>\n",
       "      <td>22.545097</td>\n",
       "      <td>45.223532</td>\n",
       "      <td>20.412523</td>\n",
       "    </tr>\n",
       "  </tbody>\n",
       "</table>\n",
       "</div>"
      ],
      "text/plain": [
       "   fold  model_lin_rmse  model_sarima_rmse  model_tbats_rmse\n",
       "0     2       22.545097          45.223532         20.412523"
      ]
     },
     "execution_count": 19,
     "metadata": {},
     "output_type": "execute_result"
    }
   ],
   "source": [
    "fold_rmse_dfs['df_exp_w_fold_2_72h']"
   ]
  },
  {
   "cell_type": "code",
   "execution_count": 20,
   "id": "9fe8962b-ae28-4ee9-bd22-c02de148b498",
   "metadata": {},
   "outputs": [
    {
     "data": {
      "text/html": [
       "<div>\n",
       "<style scoped>\n",
       "    .dataframe tbody tr th:only-of-type {\n",
       "        vertical-align: middle;\n",
       "    }\n",
       "\n",
       "    .dataframe tbody tr th {\n",
       "        vertical-align: top;\n",
       "    }\n",
       "\n",
       "    .dataframe thead th {\n",
       "        text-align: right;\n",
       "    }\n",
       "</style>\n",
       "<table border=\"1\" class=\"dataframe\">\n",
       "  <thead>\n",
       "    <tr style=\"text-align: right;\">\n",
       "      <th></th>\n",
       "      <th>fold</th>\n",
       "      <th>model_lin_rmse</th>\n",
       "      <th>model_sarima_rmse</th>\n",
       "      <th>model_tbats_rmse</th>\n",
       "    </tr>\n",
       "  </thead>\n",
       "  <tbody>\n",
       "    <tr>\n",
       "      <th>0</th>\n",
       "      <td>3</td>\n",
       "      <td>26.444753</td>\n",
       "      <td>38.458172</td>\n",
       "      <td>50.987015</td>\n",
       "    </tr>\n",
       "  </tbody>\n",
       "</table>\n",
       "</div>"
      ],
      "text/plain": [
       "   fold  model_lin_rmse  model_sarima_rmse  model_tbats_rmse\n",
       "0     3       26.444753          38.458172         50.987015"
      ]
     },
     "execution_count": 20,
     "metadata": {},
     "output_type": "execute_result"
    }
   ],
   "source": [
    "fold_rmse_dfs['df_blocked_fold_3_72h']"
   ]
  },
  {
   "cell_type": "code",
   "execution_count": 21,
   "id": "5304ca9b-8c06-4a44-a7a3-189688eb7069",
   "metadata": {},
   "outputs": [
    {
     "data": {
      "text/html": [
       "<div>\n",
       "<style scoped>\n",
       "    .dataframe tbody tr th:only-of-type {\n",
       "        vertical-align: middle;\n",
       "    }\n",
       "\n",
       "    .dataframe tbody tr th {\n",
       "        vertical-align: top;\n",
       "    }\n",
       "\n",
       "    .dataframe thead th {\n",
       "        text-align: right;\n",
       "    }\n",
       "</style>\n",
       "<table border=\"1\" class=\"dataframe\">\n",
       "  <thead>\n",
       "    <tr style=\"text-align: right;\">\n",
       "      <th></th>\n",
       "      <th>fold</th>\n",
       "      <th>model_lin_rmse</th>\n",
       "      <th>model_sarima_rmse</th>\n",
       "      <th>model_tbats_rmse</th>\n",
       "    </tr>\n",
       "  </thead>\n",
       "  <tbody>\n",
       "    <tr>\n",
       "      <th>0</th>\n",
       "      <td>3</td>\n",
       "      <td>26.445547</td>\n",
       "      <td>40.652044</td>\n",
       "      <td>26.256044</td>\n",
       "    </tr>\n",
       "  </tbody>\n",
       "</table>\n",
       "</div>"
      ],
      "text/plain": [
       "   fold  model_lin_rmse  model_sarima_rmse  model_tbats_rmse\n",
       "0     3       26.445547          40.652044         26.256044"
      ]
     },
     "execution_count": 21,
     "metadata": {},
     "output_type": "execute_result"
    }
   ],
   "source": [
    "fold_rmse_dfs['df_exp_w_fold_3_72h']"
   ]
  },
  {
   "cell_type": "code",
   "execution_count": 22,
   "id": "7150347c-11ac-4a51-8365-3fffcc017b92",
   "metadata": {},
   "outputs": [
    {
     "data": {
      "text/html": [
       "<div>\n",
       "<style scoped>\n",
       "    .dataframe tbody tr th:only-of-type {\n",
       "        vertical-align: middle;\n",
       "    }\n",
       "\n",
       "    .dataframe tbody tr th {\n",
       "        vertical-align: top;\n",
       "    }\n",
       "\n",
       "    .dataframe thead th {\n",
       "        text-align: right;\n",
       "    }\n",
       "</style>\n",
       "<table border=\"1\" class=\"dataframe\">\n",
       "  <thead>\n",
       "    <tr style=\"text-align: right;\">\n",
       "      <th></th>\n",
       "      <th>fold</th>\n",
       "      <th>model_lin_rmse</th>\n",
       "      <th>model_sarima_rmse</th>\n",
       "      <th>model_tbats_rmse</th>\n",
       "    </tr>\n",
       "  </thead>\n",
       "  <tbody>\n",
       "    <tr>\n",
       "      <th>0</th>\n",
       "      <td>4</td>\n",
       "      <td>32.024906</td>\n",
       "      <td>48.525819</td>\n",
       "      <td>30.504884</td>\n",
       "    </tr>\n",
       "  </tbody>\n",
       "</table>\n",
       "</div>"
      ],
      "text/plain": [
       "   fold  model_lin_rmse  model_sarima_rmse  model_tbats_rmse\n",
       "0     4       32.024906          48.525819         30.504884"
      ]
     },
     "execution_count": 22,
     "metadata": {},
     "output_type": "execute_result"
    }
   ],
   "source": [
    "fold_rmse_dfs['df_blocked_fold_4_72h']"
   ]
  },
  {
   "cell_type": "code",
   "execution_count": 24,
   "id": "ae603d67-8b44-4e7e-9efd-596c6e24d19c",
   "metadata": {},
   "outputs": [
    {
     "data": {
      "text/html": [
       "<div>\n",
       "<style scoped>\n",
       "    .dataframe tbody tr th:only-of-type {\n",
       "        vertical-align: middle;\n",
       "    }\n",
       "\n",
       "    .dataframe tbody tr th {\n",
       "        vertical-align: top;\n",
       "    }\n",
       "\n",
       "    .dataframe thead th {\n",
       "        text-align: right;\n",
       "    }\n",
       "</style>\n",
       "<table border=\"1\" class=\"dataframe\">\n",
       "  <thead>\n",
       "    <tr style=\"text-align: right;\">\n",
       "      <th></th>\n",
       "      <th>fold</th>\n",
       "      <th>model_lin_rmse</th>\n",
       "      <th>model_sarima_rmse</th>\n",
       "      <th>model_tbats_rmse</th>\n",
       "    </tr>\n",
       "  </thead>\n",
       "  <tbody>\n",
       "    <tr>\n",
       "      <th>0</th>\n",
       "      <td>4</td>\n",
       "      <td>33.093553</td>\n",
       "      <td>48.633593</td>\n",
       "      <td>31.815516</td>\n",
       "    </tr>\n",
       "  </tbody>\n",
       "</table>\n",
       "</div>"
      ],
      "text/plain": [
       "   fold  model_lin_rmse  model_sarima_rmse  model_tbats_rmse\n",
       "0     4       33.093553          48.633593         31.815516"
      ]
     },
     "execution_count": 24,
     "metadata": {},
     "output_type": "execute_result"
    }
   ],
   "source": [
    "fold_rmse_dfs['df_exp_w_fold_4_72h']"
   ]
  },
  {
   "cell_type": "markdown",
   "id": "7f9bef0a-643c-4c0f-bf61-077808112570",
   "metadata": {},
   "source": [
    "We can see that TBATs outperformed LinearRegression on both cross validation types for fold 2, was slightly better for expanded window cv on fold 3, and is better across the board for fold 3. However, our rmse_comp function is set up to pick the model with the lowest standard devation across all folds and cross validation types which would be LinearRegression in this case. The reasons in favor of sticking with the default result would be that, of course, the default result showed more consistent performance during cross validation, and that blocked cross validation is more robust than expanding window cross validation because a given piece of training data that leads to poor performance may be drowned out in expanding window cross validation because in larger training sets, training data a model does not utilize well can be drowned out by training sets the model does utilize well. Of course, we see this occur in the 72 hour forecast window for our TBATS model. The model performs comparably very bad for blocked CV on fold 3, and comparably good for expanding window cv on fold 3. \n",
    "\n",
    "These results favor the default selection of a the more cosistent LinearRegression model. However, in practice, real world implementation with dynamic model training is more closely approximated by expanding window cross validation. The only risk would be that we get a fold like fold 3 as our first set of training data the model performs on, leading to comparably poor early performance. In principle, it's possible we might try to deploy a model with only 6 weeks worth of training for a time series foreasting situation like this, but if we were to deploy a model with the amount of training data we have in this set, it would appear to be a non-issue. Therefore, we would be justified in overwriting the default selection of LinearRegression for this 3 day forecasting window, especially because the performance gap for expanding window cross validation appears to be improving as the amount of data trained on increases. Therefore, we have to set the override parameter to True, and pass the rmse_comp function the name of the model we want to be tested on the test set. Therefore our rmse_comp function call will look like this for a 3 day forecast length:\n",
    "```\n",
    "best_model_3_days = rmse_comp(avg_rmse_dfs['df_72_hours_blocked'], \n",
    "                                  avg_rmse_dfs['df_72_hours_exp_w'], \n",
    "                                  '3_days', \n",
    "                                  72, \n",
    "                                  override=True, \n",
    "                                  override_model=TBATS)\n",
    "```\n",
    "This is different from the call we used when we were happy with the default result which looked like this:\n",
    "```\n",
    "best_model_3_days = rmse_comp(avg_rmse_dfs['df_72_hours_blocked'], \n",
    "                                  avg_rmse_dfs['df_72_hours_exp_w'], \n",
    "                                  '3_days', \n",
    "                                  72)\n",
    "```\n",
    "\n",
    "The rmse_comp function prompts a manual review of the rmses o the different cv folds to ensure the reviewer agrees with the default selection. See the model_io.py script in the src folder for a review of the code."
   ]
  },
  {
   "cell_type": "markdown",
   "id": "3ba2f60a-95f6-45f2-b27c-976e5fadfceb",
   "metadata": {},
   "source": [
    "With our rmse_comp "
   ]
  },
  {
   "cell_type": "markdown",
   "id": "05f2e28f-a137-44a0-a73c-a8e11fca672d",
   "metadata": {},
   "source": []
  }
 ],
 "metadata": {
  "kernelspec": {
   "display_name": "Python - sprint_13_env",
   "language": "python",
   "name": "sprint_13_env"
  },
  "language_info": {
   "codemirror_mode": {
    "name": "ipython",
    "version": 3
   },
   "file_extension": ".py",
   "mimetype": "text/x-python",
   "name": "python",
   "nbconvert_exporter": "python",
   "pygments_lexer": "ipython3",
   "version": "3.12.11"
  }
 },
 "nbformat": 4,
 "nbformat_minor": 5
}
