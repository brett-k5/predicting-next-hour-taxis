{
 "cells": [
  {
   "cell_type": "code",
   "execution_count": 1,
   "id": "1ccf64c4-dc83-405c-acac-1706a6e74ba3",
   "metadata": {},
   "outputs": [],
   "source": [
    "import pandas as pd \n",
    "from src.model_io import rmse_comp\n",
    "from test_runner import avg_rmse_dfs"
   ]
  },
  {
   "cell_type": "code",
   "execution_count": 2,
   "id": "42d6ffed-9513-45a2-b201-3b440f5adacb",
   "metadata": {},
   "outputs": [],
   "source": [
    "blocked_cv_hour = pd.read_csv('cv_rmse_scores/cv_avg_rmse_scores/blocked_avg_rmse_1h.csv')\n",
    "blocked_cv_12_hours = pd.read_csv('cv_rmse_scores/cv_avg_rmse_scores/blocked_avg_rmse_12h.csv')\n",
    "blocked_cv_day = pd.read_csv('cv_rmse_scores/cv_avg_rmse_scores/blocked_avg_rmse_24h.csv')\n",
    "blocked_cv_3_days = pd.read_csv('cv_rmse_scores/cv_avg_rmse_scores/blocked_avg_rmse_72h.csv')\n",
    "blocked_cv_week = pd.read_csv('cv_rmse_scores/cv_avg_rmse_scores/blocked_avg_rmse_168h.csv')\n",
    "expanded_w_cv_hour = pd.read_csv('cv_rmse_scores/cv_avg_rmse_scores/expanded_w_avg_rmse_1h.csv')\n",
    "expanded_w_cv_12_hours = pd.read_csv('cv_rmse_scores/cv_avg_rmse_scores/expanded_w_avg_rmse_12h.csv')\n",
    "expanded_w_cv_day = pd.read_csv('cv_rmse_scores/cv_avg_rmse_scores/expanded_w_avg_rmse_24h.csv')\n",
    "expanded_w_cv_3_days = pd.read_csv('cv_rmse_scores/cv_avg_rmse_scores/expanded_w_avg_rmse_72h.csv')\n",
    "expanded_w_cv_week = pd.read_csv('cv_rmse_scores/cv_avg_rmse_scores/expanded_w_avg_rmse_168h.csv')"
   ]
  },
  {
   "cell_type": "code",
   "execution_count": 3,
   "id": "f8bf9e37-776c-448a-adc5-f68d112e56a8",
   "metadata": {
    "scrolled": true
   },
   "outputs": [
    {
     "data": {
      "text/html": [
       "<div>\n",
       "<style scoped>\n",
       "    .dataframe tbody tr th:only-of-type {\n",
       "        vertical-align: middle;\n",
       "    }\n",
       "\n",
       "    .dataframe tbody tr th {\n",
       "        vertical-align: top;\n",
       "    }\n",
       "\n",
       "    .dataframe thead th {\n",
       "        text-align: right;\n",
       "    }\n",
       "</style>\n",
       "<table border=\"1\" class=\"dataframe\">\n",
       "  <thead>\n",
       "    <tr style=\"text-align: right;\">\n",
       "      <th></th>\n",
       "      <th>model_lin_rmse</th>\n",
       "      <th>model_sarima_rmse</th>\n",
       "      <th>model_tbats_rmse</th>\n",
       "    </tr>\n",
       "  </thead>\n",
       "  <tbody>\n",
       "    <tr>\n",
       "      <th>0</th>\n",
       "      <td>22.453145</td>\n",
       "      <td>26.457072</td>\n",
       "      <td>20.514575</td>\n",
       "    </tr>\n",
       "  </tbody>\n",
       "</table>\n",
       "</div>"
      ],
      "text/plain": [
       "   model_lin_rmse  model_sarima_rmse  model_tbats_rmse\n",
       "0       22.453145          26.457072         20.514575"
      ]
     },
     "execution_count": 3,
     "metadata": {},
     "output_type": "execute_result"
    }
   ],
   "source": [
    "blocked_cv_hour"
   ]
  },
  {
   "cell_type": "code",
   "execution_count": 4,
   "id": "f733cd6f-6d8f-4db6-b3e8-1e97296a9f8b",
   "metadata": {},
   "outputs": [
    {
     "data": {
      "text/html": [
       "<div>\n",
       "<style scoped>\n",
       "    .dataframe tbody tr th:only-of-type {\n",
       "        vertical-align: middle;\n",
       "    }\n",
       "\n",
       "    .dataframe tbody tr th {\n",
       "        vertical-align: top;\n",
       "    }\n",
       "\n",
       "    .dataframe thead th {\n",
       "        text-align: right;\n",
       "    }\n",
       "</style>\n",
       "<table border=\"1\" class=\"dataframe\">\n",
       "  <thead>\n",
       "    <tr style=\"text-align: right;\">\n",
       "      <th></th>\n",
       "      <th>model_lin_rmse</th>\n",
       "      <th>model_sarima_rmse</th>\n",
       "      <th>model_tbats_rmse</th>\n",
       "    </tr>\n",
       "  </thead>\n",
       "  <tbody>\n",
       "    <tr>\n",
       "      <th>0</th>\n",
       "      <td>23.070098</td>\n",
       "      <td>26.507655</td>\n",
       "      <td>23.407214</td>\n",
       "    </tr>\n",
       "  </tbody>\n",
       "</table>\n",
       "</div>"
      ],
      "text/plain": [
       "   model_lin_rmse  model_sarima_rmse  model_tbats_rmse\n",
       "0       23.070098          26.507655         23.407214"
      ]
     },
     "execution_count": 4,
     "metadata": {},
     "output_type": "execute_result"
    }
   ],
   "source": [
    "expanded_w_cv_hour"
   ]
  },
  {
   "cell_type": "code",
   "execution_count": 5,
   "id": "dced0736-4b92-4148-adac-08904f45a6af",
   "metadata": {},
   "outputs": [
    {
     "data": {
      "text/html": [
       "<div>\n",
       "<style scoped>\n",
       "    .dataframe tbody tr th:only-of-type {\n",
       "        vertical-align: middle;\n",
       "    }\n",
       "\n",
       "    .dataframe tbody tr th {\n",
       "        vertical-align: top;\n",
       "    }\n",
       "\n",
       "    .dataframe thead th {\n",
       "        text-align: right;\n",
       "    }\n",
       "</style>\n",
       "<table border=\"1\" class=\"dataframe\">\n",
       "  <thead>\n",
       "    <tr style=\"text-align: right;\">\n",
       "      <th></th>\n",
       "      <th>model_lin_rmse</th>\n",
       "      <th>model_sarima_rmse</th>\n",
       "      <th>model_tbats_rmse</th>\n",
       "    </tr>\n",
       "  </thead>\n",
       "  <tbody>\n",
       "    <tr>\n",
       "      <th>0</th>\n",
       "      <td>32.051933</td>\n",
       "      <td>44.520043</td>\n",
       "      <td>32.696293</td>\n",
       "    </tr>\n",
       "  </tbody>\n",
       "</table>\n",
       "</div>"
      ],
      "text/plain": [
       "   model_lin_rmse  model_sarima_rmse  model_tbats_rmse\n",
       "0       32.051933          44.520043         32.696293"
      ]
     },
     "execution_count": 5,
     "metadata": {},
     "output_type": "execute_result"
    }
   ],
   "source": [
    "blocked_cv_12_hours"
   ]
  },
  {
   "cell_type": "code",
   "execution_count": 6,
   "id": "65659ed6-d991-4961-93ed-f9fe8e179023",
   "metadata": {},
   "outputs": [
    {
     "data": {
      "text/html": [
       "<div>\n",
       "<style scoped>\n",
       "    .dataframe tbody tr th:only-of-type {\n",
       "        vertical-align: middle;\n",
       "    }\n",
       "\n",
       "    .dataframe tbody tr th {\n",
       "        vertical-align: top;\n",
       "    }\n",
       "\n",
       "    .dataframe thead th {\n",
       "        text-align: right;\n",
       "    }\n",
       "</style>\n",
       "<table border=\"1\" class=\"dataframe\">\n",
       "  <thead>\n",
       "    <tr style=\"text-align: right;\">\n",
       "      <th></th>\n",
       "      <th>model_lin_rmse</th>\n",
       "      <th>model_sarima_rmse</th>\n",
       "      <th>model_tbats_rmse</th>\n",
       "    </tr>\n",
       "  </thead>\n",
       "  <tbody>\n",
       "    <tr>\n",
       "      <th>0</th>\n",
       "      <td>31.565206</td>\n",
       "      <td>43.837525</td>\n",
       "      <td>35.094361</td>\n",
       "    </tr>\n",
       "  </tbody>\n",
       "</table>\n",
       "</div>"
      ],
      "text/plain": [
       "   model_lin_rmse  model_sarima_rmse  model_tbats_rmse\n",
       "0       31.565206          43.837525         35.094361"
      ]
     },
     "execution_count": 6,
     "metadata": {},
     "output_type": "execute_result"
    }
   ],
   "source": [
    "expanded_w_cv_12_hours"
   ]
  },
  {
   "cell_type": "code",
   "execution_count": 25,
   "id": "4d3efea3-174d-4d82-95dc-8891b5757f45",
   "metadata": {},
   "outputs": [
    {
     "name": "stdout",
     "output_type": "stream",
     "text": [
      "   model_lin_rmse  model_sarima_rmse  model_tbats_rmse\n",
      "0       27.250748          33.939043         26.399424\n"
     ]
    }
   ],
   "source": [
    "print(blocked_cv_day)"
   ]
  },
  {
   "cell_type": "code",
   "execution_count": 26,
   "id": "7a65979b-40cc-4133-90a2-603fbed67627",
   "metadata": {},
   "outputs": [
    {
     "name": "stdout",
     "output_type": "stream",
     "text": [
      "   model_lin_rmse  model_sarima_rmse  model_tbats_rmse\n",
      "0       26.646916          33.436231         27.814538\n"
     ]
    }
   ],
   "source": [
    "print(expanded_w_cv_day)"
   ]
  },
  {
   "cell_type": "code",
   "execution_count": 27,
   "id": "def96b81-7e02-48da-bd57-8a1b32ae7ed0",
   "metadata": {},
   "outputs": [
    {
     "name": "stdout",
     "output_type": "stream",
     "text": [
      "   model_lin_rmse  model_sarima_rmse  model_tbats_rmse\n",
      "0       25.555083          40.261222         29.471842\n"
     ]
    }
   ],
   "source": [
    "print(blocked_cv_3_days)"
   ]
  },
  {
   "cell_type": "code",
   "execution_count": 28,
   "id": "2cb4aeef-62cb-4101-834b-2430fea40ed5",
   "metadata": {},
   "outputs": [
    {
     "name": "stdout",
     "output_type": "stream",
     "text": [
      "   model_lin_rmse  model_sarima_rmse  model_tbats_rmse\n",
      "0       25.896538          39.909022         28.899388\n"
     ]
    }
   ],
   "source": [
    "print(expanded_w_cv_3_days)"
   ]
  },
  {
   "cell_type": "code",
   "execution_count": 11,
   "id": "837232a7-a04d-4736-9e63-23b53e20456b",
   "metadata": {},
   "outputs": [
    {
     "data": {
      "text/html": [
       "<div>\n",
       "<style scoped>\n",
       "    .dataframe tbody tr th:only-of-type {\n",
       "        vertical-align: middle;\n",
       "    }\n",
       "\n",
       "    .dataframe tbody tr th {\n",
       "        vertical-align: top;\n",
       "    }\n",
       "\n",
       "    .dataframe thead th {\n",
       "        text-align: right;\n",
       "    }\n",
       "</style>\n",
       "<table border=\"1\" class=\"dataframe\">\n",
       "  <thead>\n",
       "    <tr style=\"text-align: right;\">\n",
       "      <th></th>\n",
       "      <th>model_lin_rmse</th>\n",
       "      <th>model_sarima_rmse</th>\n",
       "      <th>model_tbats_rmse</th>\n",
       "    </tr>\n",
       "  </thead>\n",
       "  <tbody>\n",
       "    <tr>\n",
       "      <th>0</th>\n",
       "      <td>26.1467</td>\n",
       "      <td>55.074858</td>\n",
       "      <td>29.036996</td>\n",
       "    </tr>\n",
       "  </tbody>\n",
       "</table>\n",
       "</div>"
      ],
      "text/plain": [
       "   model_lin_rmse  model_sarima_rmse  model_tbats_rmse\n",
       "0         26.1467          55.074858         29.036996"
      ]
     },
     "execution_count": 11,
     "metadata": {},
     "output_type": "execute_result"
    }
   ],
   "source": [
    "blocked_cv_week"
   ]
  },
  {
   "cell_type": "code",
   "execution_count": 12,
   "id": "fbf07bd5-9f1c-44cf-bce8-49425fa293c5",
   "metadata": {},
   "outputs": [
    {
     "data": {
      "text/html": [
       "<div>\n",
       "<style scoped>\n",
       "    .dataframe tbody tr th:only-of-type {\n",
       "        vertical-align: middle;\n",
       "    }\n",
       "\n",
       "    .dataframe tbody tr th {\n",
       "        vertical-align: top;\n",
       "    }\n",
       "\n",
       "    .dataframe thead th {\n",
       "        text-align: right;\n",
       "    }\n",
       "</style>\n",
       "<table border=\"1\" class=\"dataframe\">\n",
       "  <thead>\n",
       "    <tr style=\"text-align: right;\">\n",
       "      <th></th>\n",
       "      <th>model_lin_rmse</th>\n",
       "      <th>model_sarima_rmse</th>\n",
       "      <th>model_tbats_rmse</th>\n",
       "    </tr>\n",
       "  </thead>\n",
       "  <tbody>\n",
       "    <tr>\n",
       "      <th>0</th>\n",
       "      <td>26.525833</td>\n",
       "      <td>56.064825</td>\n",
       "      <td>29.150057</td>\n",
       "    </tr>\n",
       "  </tbody>\n",
       "</table>\n",
       "</div>"
      ],
      "text/plain": [
       "   model_lin_rmse  model_sarima_rmse  model_tbats_rmse\n",
       "0       26.525833          56.064825         29.150057"
      ]
     },
     "execution_count": 12,
     "metadata": {},
     "output_type": "execute_result"
    }
   ],
   "source": [
    "expanded_w_cv_week"
   ]
  },
  {
   "cell_type": "markdown",
   "id": "898ce03a-9f52-4599-b80c-5320f46d0815",
   "metadata": {},
   "source": [
    "LinearRegression and TBATS outperform SARIMA by a wide margin for every cross validation type and forecast length, and LinearRegression edges out TBATS for every forecast length and cross validation type except for expanding window cross validation for a 72 hour forecast. Let's get a look at the cross validation folds for both blocked and expanding window cross validation for a one day forecast length. This is somewhat surprising as increased data is known to benefit TBATs in its ability to capture multiple seasonalities and longer term trends. \n",
    "\n",
    "In fact, I specifically included both blocked_cv and exp_w_cv because I thought using blocked_cv alone would give LinearRegression an unfair advantage. Let's get a closer look to see what the breakdown is fold by fold. "
   ]
  },
  {
   "cell_type": "markdown",
   "id": "ee66101a-fd8b-4093-a12e-fb1a31ec0231",
   "metadata": {},
   "source": [
    "Note that the second value for each fold number is the one that corrsponds to rmses for expanding window cross validation. "
   ]
  },
  {
   "cell_type": "code",
   "execution_count": 13,
   "id": "f2c0bee4-fdc3-45aa-acf4-601680abc793",
   "metadata": {
    "scrolled": true
   },
   "outputs": [],
   "source": [
    "paths_fold_rmses = ['cv_rmse_scores/cv_fold_rmse_scores/blocked_cv_fold_0_24h.csv', 'cv_rmse_scores/cv_fold_rmse_scores/expanded_w_cv_fold_0_24h.csv',\n",
    "                'cv_rmse_scores/cv_fold_rmse_scores/blocked_cv_fold_1_24h.csv', 'cv_rmse_scores/cv_fold_rmse_scores/expanded_w_cv_fold_1_24h.csv',\n",
    "                'cv_rmse_scores/cv_fold_rmse_scores/blocked_cv_fold_2_24h.csv', 'cv_rmse_scores/cv_fold_rmse_scores/expanded_w_cv_fold_2_24h.csv',\n",
    "                'cv_rmse_scores/cv_fold_rmse_scores/blocked_cv_fold_3_24h.csv', 'cv_rmse_scores/cv_fold_rmse_scores/expanded_w_cv_fold_3_24h.csv',\n",
    "                'cv_rmse_scores/cv_fold_rmse_scores/blocked_cv_fold_4_24h.csv', 'cv_rmse_scores/cv_fold_rmse_scores/expanded_w_cv_fold_4_24h.csv']\n",
    "    \n",
    "fold_rmse_names = ['df_blocked_fold_0_24h', 'df_exp_w_fold_0_24h',\n",
    "                'df_blocked_fold_1_24h', 'df_exp_w_fold_1_24h',\n",
    "                'df_blocked_fold_2_24h', 'df_exp_w_fold_2_24h',\n",
    "                'df_blocked_fold_3_24h', 'df_exp_w_fold_3_24h',\n",
    "                'df_blocked_fold_4_24h', 'df_exp_w_fold_4_24h']\n",
    "\n",
    "    \n",
    "fold_rmse_dfs = {}\n",
    "\n",
    "for file_path, name in zip(paths_fold_rmses, fold_rmse_names):\n",
    "    fold_rmse_dfs[name] = pd.read_csv(file_path)"
   ]
  },
  {
   "cell_type": "code",
   "execution_count": 14,
   "id": "5d1685e8-13c2-4bfe-8918-ce5520e0b0a2",
   "metadata": {},
   "outputs": [
    {
     "data": {
      "text/html": [
       "<div>\n",
       "<style scoped>\n",
       "    .dataframe tbody tr th:only-of-type {\n",
       "        vertical-align: middle;\n",
       "    }\n",
       "\n",
       "    .dataframe tbody tr th {\n",
       "        vertical-align: top;\n",
       "    }\n",
       "\n",
       "    .dataframe thead th {\n",
       "        text-align: right;\n",
       "    }\n",
       "</style>\n",
       "<table border=\"1\" class=\"dataframe\">\n",
       "  <thead>\n",
       "    <tr style=\"text-align: right;\">\n",
       "      <th></th>\n",
       "      <th>fold</th>\n",
       "      <th>model_lin_rmse</th>\n",
       "      <th>model_sarima_rmse</th>\n",
       "      <th>model_tbats_rmse</th>\n",
       "    </tr>\n",
       "  </thead>\n",
       "  <tbody>\n",
       "    <tr>\n",
       "      <th>0</th>\n",
       "      <td>0</td>\n",
       "      <td>15.951337</td>\n",
       "      <td>23.103068</td>\n",
       "      <td>16.263123</td>\n",
       "    </tr>\n",
       "  </tbody>\n",
       "</table>\n",
       "</div>"
      ],
      "text/plain": [
       "   fold  model_lin_rmse  model_sarima_rmse  model_tbats_rmse\n",
       "0     0       15.951337          23.103068         16.263123"
      ]
     },
     "execution_count": 14,
     "metadata": {},
     "output_type": "execute_result"
    }
   ],
   "source": [
    "fold_rmse_dfs['df_blocked_fold_0_24h']"
   ]
  },
  {
   "cell_type": "code",
   "execution_count": 15,
   "id": "e640c8a8-08d4-4a56-871b-523e99a5871d",
   "metadata": {},
   "outputs": [
    {
     "data": {
      "text/html": [
       "<div>\n",
       "<style scoped>\n",
       "    .dataframe tbody tr th:only-of-type {\n",
       "        vertical-align: middle;\n",
       "    }\n",
       "\n",
       "    .dataframe tbody tr th {\n",
       "        vertical-align: top;\n",
       "    }\n",
       "\n",
       "    .dataframe thead th {\n",
       "        text-align: right;\n",
       "    }\n",
       "</style>\n",
       "<table border=\"1\" class=\"dataframe\">\n",
       "  <thead>\n",
       "    <tr style=\"text-align: right;\">\n",
       "      <th></th>\n",
       "      <th>fold</th>\n",
       "      <th>model_lin_rmse</th>\n",
       "      <th>model_sarima_rmse</th>\n",
       "      <th>model_tbats_rmse</th>\n",
       "    </tr>\n",
       "  </thead>\n",
       "  <tbody>\n",
       "    <tr>\n",
       "      <th>0</th>\n",
       "      <td>0</td>\n",
       "      <td>15.951337</td>\n",
       "      <td>23.103068</td>\n",
       "      <td>16.263123</td>\n",
       "    </tr>\n",
       "  </tbody>\n",
       "</table>\n",
       "</div>"
      ],
      "text/plain": [
       "   fold  model_lin_rmse  model_sarima_rmse  model_tbats_rmse\n",
       "0     0       15.951337          23.103068         16.263123"
      ]
     },
     "execution_count": 15,
     "metadata": {},
     "output_type": "execute_result"
    }
   ],
   "source": [
    "fold_rmse_dfs['df_exp_w_fold_0_24h']"
   ]
  },
  {
   "cell_type": "code",
   "execution_count": 16,
   "id": "0593655b-5de5-4270-b47b-e2f512dc7d24",
   "metadata": {},
   "outputs": [
    {
     "data": {
      "text/html": [
       "<div>\n",
       "<style scoped>\n",
       "    .dataframe tbody tr th:only-of-type {\n",
       "        vertical-align: middle;\n",
       "    }\n",
       "\n",
       "    .dataframe tbody tr th {\n",
       "        vertical-align: top;\n",
       "    }\n",
       "\n",
       "    .dataframe thead th {\n",
       "        text-align: right;\n",
       "    }\n",
       "</style>\n",
       "<table border=\"1\" class=\"dataframe\">\n",
       "  <thead>\n",
       "    <tr style=\"text-align: right;\">\n",
       "      <th></th>\n",
       "      <th>fold</th>\n",
       "      <th>model_lin_rmse</th>\n",
       "      <th>model_sarima_rmse</th>\n",
       "      <th>model_tbats_rmse</th>\n",
       "    </tr>\n",
       "  </thead>\n",
       "  <tbody>\n",
       "    <tr>\n",
       "      <th>0</th>\n",
       "      <td>1</td>\n",
       "      <td>21.11044</td>\n",
       "      <td>26.142512</td>\n",
       "      <td>19.742483</td>\n",
       "    </tr>\n",
       "  </tbody>\n",
       "</table>\n",
       "</div>"
      ],
      "text/plain": [
       "   fold  model_lin_rmse  model_sarima_rmse  model_tbats_rmse\n",
       "0     1        21.11044          26.142512         19.742483"
      ]
     },
     "execution_count": 16,
     "metadata": {},
     "output_type": "execute_result"
    }
   ],
   "source": [
    "fold_rmse_dfs['df_blocked_fold_1_24h']"
   ]
  },
  {
   "cell_type": "code",
   "execution_count": 17,
   "id": "2d56370a-f0f3-4d87-b9ec-f4927402515d",
   "metadata": {},
   "outputs": [
    {
     "data": {
      "text/html": [
       "<div>\n",
       "<style scoped>\n",
       "    .dataframe tbody tr th:only-of-type {\n",
       "        vertical-align: middle;\n",
       "    }\n",
       "\n",
       "    .dataframe tbody tr th {\n",
       "        vertical-align: top;\n",
       "    }\n",
       "\n",
       "    .dataframe thead th {\n",
       "        text-align: right;\n",
       "    }\n",
       "</style>\n",
       "<table border=\"1\" class=\"dataframe\">\n",
       "  <thead>\n",
       "    <tr style=\"text-align: right;\">\n",
       "      <th></th>\n",
       "      <th>fold</th>\n",
       "      <th>model_lin_rmse</th>\n",
       "      <th>model_sarima_rmse</th>\n",
       "      <th>model_tbats_rmse</th>\n",
       "    </tr>\n",
       "  </thead>\n",
       "  <tbody>\n",
       "    <tr>\n",
       "      <th>0</th>\n",
       "      <td>1</td>\n",
       "      <td>21.448145</td>\n",
       "      <td>25.906981</td>\n",
       "      <td>22.654166</td>\n",
       "    </tr>\n",
       "  </tbody>\n",
       "</table>\n",
       "</div>"
      ],
      "text/plain": [
       "   fold  model_lin_rmse  model_sarima_rmse  model_tbats_rmse\n",
       "0     1       21.448145          25.906981         22.654166"
      ]
     },
     "execution_count": 17,
     "metadata": {},
     "output_type": "execute_result"
    }
   ],
   "source": [
    "fold_rmse_dfs['df_exp_w_fold_1_24h']"
   ]
  },
  {
   "cell_type": "code",
   "execution_count": 18,
   "id": "38736708-b00e-44f5-8a5d-19d78c49442c",
   "metadata": {},
   "outputs": [
    {
     "data": {
      "text/html": [
       "<div>\n",
       "<style scoped>\n",
       "    .dataframe tbody tr th:only-of-type {\n",
       "        vertical-align: middle;\n",
       "    }\n",
       "\n",
       "    .dataframe tbody tr th {\n",
       "        vertical-align: top;\n",
       "    }\n",
       "\n",
       "    .dataframe thead th {\n",
       "        text-align: right;\n",
       "    }\n",
       "</style>\n",
       "<table border=\"1\" class=\"dataframe\">\n",
       "  <thead>\n",
       "    <tr style=\"text-align: right;\">\n",
       "      <th></th>\n",
       "      <th>fold</th>\n",
       "      <th>model_lin_rmse</th>\n",
       "      <th>model_sarima_rmse</th>\n",
       "      <th>model_tbats_rmse</th>\n",
       "    </tr>\n",
       "  </thead>\n",
       "  <tbody>\n",
       "    <tr>\n",
       "      <th>0</th>\n",
       "      <td>2</td>\n",
       "      <td>21.141054</td>\n",
       "      <td>29.094704</td>\n",
       "      <td>23.341672</td>\n",
       "    </tr>\n",
       "  </tbody>\n",
       "</table>\n",
       "</div>"
      ],
      "text/plain": [
       "   fold  model_lin_rmse  model_sarima_rmse  model_tbats_rmse\n",
       "0     2       21.141054          29.094704         23.341672"
      ]
     },
     "execution_count": 18,
     "metadata": {},
     "output_type": "execute_result"
    }
   ],
   "source": [
    "fold_rmse_dfs['df_blocked_fold_2_24h']"
   ]
  },
  {
   "cell_type": "code",
   "execution_count": 19,
   "id": "36bca439-1437-43f3-a7a0-e7a3e8e15864",
   "metadata": {},
   "outputs": [
    {
     "data": {
      "text/html": [
       "<div>\n",
       "<style scoped>\n",
       "    .dataframe tbody tr th:only-of-type {\n",
       "        vertical-align: middle;\n",
       "    }\n",
       "\n",
       "    .dataframe tbody tr th {\n",
       "        vertical-align: top;\n",
       "    }\n",
       "\n",
       "    .dataframe thead th {\n",
       "        text-align: right;\n",
       "    }\n",
       "</style>\n",
       "<table border=\"1\" class=\"dataframe\">\n",
       "  <thead>\n",
       "    <tr style=\"text-align: right;\">\n",
       "      <th></th>\n",
       "      <th>fold</th>\n",
       "      <th>model_lin_rmse</th>\n",
       "      <th>model_sarima_rmse</th>\n",
       "      <th>model_tbats_rmse</th>\n",
       "    </tr>\n",
       "  </thead>\n",
       "  <tbody>\n",
       "    <tr>\n",
       "      <th>0</th>\n",
       "      <td>2</td>\n",
       "      <td>20.296105</td>\n",
       "      <td>29.212697</td>\n",
       "      <td>23.249334</td>\n",
       "    </tr>\n",
       "  </tbody>\n",
       "</table>\n",
       "</div>"
      ],
      "text/plain": [
       "   fold  model_lin_rmse  model_sarima_rmse  model_tbats_rmse\n",
       "0     2       20.296105          29.212697         23.249334"
      ]
     },
     "execution_count": 19,
     "metadata": {},
     "output_type": "execute_result"
    }
   ],
   "source": [
    "fold_rmse_dfs['df_exp_w_fold_2_24h']"
   ]
  },
  {
   "cell_type": "code",
   "execution_count": 20,
   "id": "9fe8962b-ae28-4ee9-bd22-c02de148b498",
   "metadata": {},
   "outputs": [
    {
     "data": {
      "text/html": [
       "<div>\n",
       "<style scoped>\n",
       "    .dataframe tbody tr th:only-of-type {\n",
       "        vertical-align: middle;\n",
       "    }\n",
       "\n",
       "    .dataframe tbody tr th {\n",
       "        vertical-align: top;\n",
       "    }\n",
       "\n",
       "    .dataframe thead th {\n",
       "        text-align: right;\n",
       "    }\n",
       "</style>\n",
       "<table border=\"1\" class=\"dataframe\">\n",
       "  <thead>\n",
       "    <tr style=\"text-align: right;\">\n",
       "      <th></th>\n",
       "      <th>fold</th>\n",
       "      <th>model_lin_rmse</th>\n",
       "      <th>model_sarima_rmse</th>\n",
       "      <th>model_tbats_rmse</th>\n",
       "    </tr>\n",
       "  </thead>\n",
       "  <tbody>\n",
       "    <tr>\n",
       "      <th>0</th>\n",
       "      <td>3</td>\n",
       "      <td>20.983668</td>\n",
       "      <td>31.795311</td>\n",
       "      <td>24.574369</td>\n",
       "    </tr>\n",
       "  </tbody>\n",
       "</table>\n",
       "</div>"
      ],
      "text/plain": [
       "   fold  model_lin_rmse  model_sarima_rmse  model_tbats_rmse\n",
       "0     3       20.983668          31.795311         24.574369"
      ]
     },
     "execution_count": 20,
     "metadata": {},
     "output_type": "execute_result"
    }
   ],
   "source": [
    "fold_rmse_dfs['df_blocked_fold_3_24h']"
   ]
  },
  {
   "cell_type": "code",
   "execution_count": 21,
   "id": "5304ca9b-8c06-4a44-a7a3-189688eb7069",
   "metadata": {},
   "outputs": [
    {
     "data": {
      "text/html": [
       "<div>\n",
       "<style scoped>\n",
       "    .dataframe tbody tr th:only-of-type {\n",
       "        vertical-align: middle;\n",
       "    }\n",
       "\n",
       "    .dataframe tbody tr th {\n",
       "        vertical-align: top;\n",
       "    }\n",
       "\n",
       "    .dataframe thead th {\n",
       "        text-align: right;\n",
       "    }\n",
       "</style>\n",
       "<table border=\"1\" class=\"dataframe\">\n",
       "  <thead>\n",
       "    <tr style=\"text-align: right;\">\n",
       "      <th></th>\n",
       "      <th>fold</th>\n",
       "      <th>model_lin_rmse</th>\n",
       "      <th>model_sarima_rmse</th>\n",
       "      <th>model_tbats_rmse</th>\n",
       "    </tr>\n",
       "  </thead>\n",
       "  <tbody>\n",
       "    <tr>\n",
       "      <th>0</th>\n",
       "      <td>3</td>\n",
       "      <td>20.22987</td>\n",
       "      <td>31.33188</td>\n",
       "      <td>28.204973</td>\n",
       "    </tr>\n",
       "  </tbody>\n",
       "</table>\n",
       "</div>"
      ],
      "text/plain": [
       "   fold  model_lin_rmse  model_sarima_rmse  model_tbats_rmse\n",
       "0     3        20.22987           31.33188         28.204973"
      ]
     },
     "execution_count": 21,
     "metadata": {},
     "output_type": "execute_result"
    }
   ],
   "source": [
    "fold_rmse_dfs['df_exp_w_fold_3_24h']"
   ]
  },
  {
   "cell_type": "code",
   "execution_count": 22,
   "id": "7150347c-11ac-4a51-8365-3fffcc017b92",
   "metadata": {},
   "outputs": [
    {
     "data": {
      "text/html": [
       "<div>\n",
       "<style scoped>\n",
       "    .dataframe tbody tr th:only-of-type {\n",
       "        vertical-align: middle;\n",
       "    }\n",
       "\n",
       "    .dataframe tbody tr th {\n",
       "        vertical-align: top;\n",
       "    }\n",
       "\n",
       "    .dataframe thead th {\n",
       "        text-align: right;\n",
       "    }\n",
       "</style>\n",
       "<table border=\"1\" class=\"dataframe\">\n",
       "  <thead>\n",
       "    <tr style=\"text-align: right;\">\n",
       "      <th></th>\n",
       "      <th>fold</th>\n",
       "      <th>model_lin_rmse</th>\n",
       "      <th>model_sarima_rmse</th>\n",
       "      <th>model_tbats_rmse</th>\n",
       "    </tr>\n",
       "  </thead>\n",
       "  <tbody>\n",
       "    <tr>\n",
       "      <th>0</th>\n",
       "      <td>4</td>\n",
       "      <td>46.104902</td>\n",
       "      <td>51.813772</td>\n",
       "      <td>41.008047</td>\n",
       "    </tr>\n",
       "  </tbody>\n",
       "</table>\n",
       "</div>"
      ],
      "text/plain": [
       "   fold  model_lin_rmse  model_sarima_rmse  model_tbats_rmse\n",
       "0     4       46.104902          51.813772         41.008047"
      ]
     },
     "execution_count": 22,
     "metadata": {},
     "output_type": "execute_result"
    }
   ],
   "source": [
    "fold_rmse_dfs['df_blocked_fold_4_24h']"
   ]
  },
  {
   "cell_type": "code",
   "execution_count": 23,
   "id": "ae603d67-8b44-4e7e-9efd-596c6e24d19c",
   "metadata": {
    "scrolled": true
   },
   "outputs": [
    {
     "data": {
      "text/html": [
       "<div>\n",
       "<style scoped>\n",
       "    .dataframe tbody tr th:only-of-type {\n",
       "        vertical-align: middle;\n",
       "    }\n",
       "\n",
       "    .dataframe tbody tr th {\n",
       "        vertical-align: top;\n",
       "    }\n",
       "\n",
       "    .dataframe thead th {\n",
       "        text-align: right;\n",
       "    }\n",
       "</style>\n",
       "<table border=\"1\" class=\"dataframe\">\n",
       "  <thead>\n",
       "    <tr style=\"text-align: right;\">\n",
       "      <th></th>\n",
       "      <th>fold</th>\n",
       "      <th>model_lin_rmse</th>\n",
       "      <th>model_sarima_rmse</th>\n",
       "      <th>model_tbats_rmse</th>\n",
       "    </tr>\n",
       "  </thead>\n",
       "  <tbody>\n",
       "    <tr>\n",
       "      <th>0</th>\n",
       "      <td>4</td>\n",
       "      <td>44.884775</td>\n",
       "      <td>50.496694</td>\n",
       "      <td>41.886635</td>\n",
       "    </tr>\n",
       "  </tbody>\n",
       "</table>\n",
       "</div>"
      ],
      "text/plain": [
       "   fold  model_lin_rmse  model_sarima_rmse  model_tbats_rmse\n",
       "0     4       44.884775          50.496694         41.886635"
      ]
     },
     "execution_count": 23,
     "metadata": {},
     "output_type": "execute_result"
    }
   ],
   "source": [
    "fold_rmse_dfs['df_exp_w_fold_4_24h']"
   ]
  },
  {
   "cell_type": "markdown",
   "id": "7f9bef0a-643c-4c0f-bf61-077808112570",
   "metadata": {},
   "source": [
    "We can see that TBATS' comparative advantage over linear regression is inconcsistent. It underperforms LinearRegression on every exp_w fold except for the final one. Moreover, it also underperforms LinearRegression on 3 of the 5 blocked folds (folds 0, 2, and 3). When the best cv performancence differs on the two cv methods, the code is set to select the ore consistent model (measured in standard deviation size). However, given that the logic behind including expanding windwo cross validation was to give SARIMA and TBATS a fighting chance, and TBATs was still outperformed on this metric, was outperformed on 3 of five folds during blocked cv, and had only a marginal advantage in blocked_cv (27.25 to 26.40) it is reasonable to set the override parameter to True on our rmse_comp function and pass the function LinearRegression as the override model. This decision is further justified by the fact that LinearRegression trains much faster than TBATS and is significantly more computationally efficient. \n",
    "\n",
    "Therefore, our rmse_comp() function call will look like this in the test_runner script:\n",
    "\n",
    "```\n",
    "best_model_day = rmse_comp(avg_rmse_dfs['df_one_day_blocked'], \n",
    "                                  avg_rmse_dfs['df_ond_day_exp_w'], \n",
    "                                  'day', \n",
    "                                  24, \n",
    "                                  override=True, \n",
    "                                  override_model=TBATS)\n",
    "```\n",
    "This is different from the call we used when we were happy with the default result which looked like this:\n",
    "```\n",
    "best_model_day = rmse_comp(avg_rmse_dfs['df_one_day_blocked'], \n",
    "                                  avg_rmse_dfs['df_one_day_exp_w'], \n",
    "                                  'day', \n",
    "                                  24)\n",
    "```\n",
    "\n",
    "The rmse_comp function prompts a manual review of the rmses to the different cv folds to ensure the reviewer agrees with the default selection. See the model_io.py script in the src folder for a review of the code."
   ]
  },
  {
   "cell_type": "markdown",
   "id": "3ba2f60a-95f6-45f2-b27c-976e5fadfceb",
   "metadata": {},
   "source": [
    "With our rmse_comp "
   ]
  },
  {
   "cell_type": "code",
   "execution_count": 24,
   "id": "d4b5b68f-a6ee-4a1e-b6ae-fb614fadeffc",
   "metadata": {},
   "outputs": [
    {
     "data": {
      "text/html": [
       "<div>\n",
       "<style scoped>\n",
       "    .dataframe tbody tr th:only-of-type {\n",
       "        vertical-align: middle;\n",
       "    }\n",
       "\n",
       "    .dataframe tbody tr th {\n",
       "        vertical-align: top;\n",
       "    }\n",
       "\n",
       "    .dataframe thead th {\n",
       "        text-align: right;\n",
       "    }\n",
       "</style>\n",
       "<table border=\"1\" class=\"dataframe\">\n",
       "  <thead>\n",
       "    <tr style=\"text-align: right;\">\n",
       "      <th></th>\n",
       "      <th>index</th>\n",
       "      <th>best_hour_model: LinearRegression</th>\n",
       "      <th>lag_1</th>\n",
       "      <th>lag_24</th>\n",
       "      <th>lag_72</th>\n",
       "      <th>lag_168</th>\n",
       "    </tr>\n",
       "  </thead>\n",
       "  <tbody>\n",
       "    <tr>\n",
       "      <th>0</th>\n",
       "      <td>rmse</td>\n",
       "      <td>41.069461</td>\n",
       "      <td>74.296422</td>\n",
       "      <td>58.339166</td>\n",
       "      <td>49.678131</td>\n",
       "      <td>51.645426</td>\n",
       "    </tr>\n",
       "    <tr>\n",
       "      <th>1</th>\n",
       "      <td>nrmse</td>\n",
       "      <td>0.674510</td>\n",
       "      <td>1.220218</td>\n",
       "      <td>0.958142</td>\n",
       "      <td>0.815896</td>\n",
       "      <td>0.848206</td>\n",
       "    </tr>\n",
       "    <tr>\n",
       "      <th>2</th>\n",
       "      <td>r2</td>\n",
       "      <td>0.545036</td>\n",
       "      <td>-0.488932</td>\n",
       "      <td>0.081964</td>\n",
       "      <td>0.334314</td>\n",
       "      <td>0.280546</td>\n",
       "    </tr>\n",
       "  </tbody>\n",
       "</table>\n",
       "</div>"
      ],
      "text/plain": [
       "   index  best_hour_model: LinearRegression      lag_1     lag_24     lag_72  \\\n",
       "0   rmse                          41.069461  74.296422  58.339166  49.678131   \n",
       "1  nrmse                           0.674510   1.220218   0.958142   0.815896   \n",
       "2     r2                           0.545036  -0.488932   0.081964   0.334314   \n",
       "\n",
       "     lag_168  \n",
       "0  51.645426  \n",
       "1   0.848206  \n",
       "2   0.280546  "
      ]
     },
     "execution_count": 24,
     "metadata": {},
     "output_type": "execute_result"
    }
   ],
   "source": [
    "hour_test_results_df = pd.read_csv('hour_test_results.csv', index_col=0)\n",
    "hour_test_results_df"
   ]
  },
  {
   "cell_type": "code",
   "execution_count": 25,
   "id": "4808e9f8-56b3-47fe-9fb8-4c2cca94fedd",
   "metadata": {},
   "outputs": [
    {
     "data": {
      "text/html": [
       "<div>\n",
       "<style scoped>\n",
       "    .dataframe tbody tr th:only-of-type {\n",
       "        vertical-align: middle;\n",
       "    }\n",
       "\n",
       "    .dataframe tbody tr th {\n",
       "        vertical-align: top;\n",
       "    }\n",
       "\n",
       "    .dataframe thead th {\n",
       "        text-align: right;\n",
       "    }\n",
       "</style>\n",
       "<table border=\"1\" class=\"dataframe\">\n",
       "  <thead>\n",
       "    <tr style=\"text-align: right;\">\n",
       "      <th></th>\n",
       "      <th>index</th>\n",
       "      <th>best_12_hours_model: LinearRegression</th>\n",
       "      <th>lag_24</th>\n",
       "      <th>lag_72</th>\n",
       "      <th>lag_168</th>\n",
       "    </tr>\n",
       "  </thead>\n",
       "  <tbody>\n",
       "    <tr>\n",
       "      <th>0</th>\n",
       "      <td>rmse</td>\n",
       "      <td>37.367556</td>\n",
       "      <td>49.678131</td>\n",
       "      <td>58.339166</td>\n",
       "      <td>51.645426</td>\n",
       "    </tr>\n",
       "    <tr>\n",
       "      <th>1</th>\n",
       "      <td>nrmse</td>\n",
       "      <td>0.672130</td>\n",
       "      <td>0.815896</td>\n",
       "      <td>0.958142</td>\n",
       "      <td>0.848206</td>\n",
       "    </tr>\n",
       "    <tr>\n",
       "      <th>2</th>\n",
       "      <td>r2</td>\n",
       "      <td>0.548241</td>\n",
       "      <td>0.334314</td>\n",
       "      <td>0.081964</td>\n",
       "      <td>0.280546</td>\n",
       "    </tr>\n",
       "  </tbody>\n",
       "</table>\n",
       "</div>"
      ],
      "text/plain": [
       "   index  best_12_hours_model: LinearRegression     lag_24     lag_72  \\\n",
       "0   rmse                              37.367556  49.678131  58.339166   \n",
       "1  nrmse                               0.672130   0.815896   0.958142   \n",
       "2     r2                               0.548241   0.334314   0.081964   \n",
       "\n",
       "     lag_168  \n",
       "0  51.645426  \n",
       "1   0.848206  \n",
       "2   0.280546  "
      ]
     },
     "execution_count": 25,
     "metadata": {},
     "output_type": "execute_result"
    }
   ],
   "source": [
    "twelve_hours_test_results_df = pd.read_csv('12_hours_test_results.csv', index_col=0)\n",
    "twelve_hours_test_results_df"
   ]
  },
  {
   "cell_type": "code",
   "execution_count": 26,
   "id": "c850bf26-50ec-4b42-b285-b89bc3805fab",
   "metadata": {},
   "outputs": [
    {
     "data": {
      "text/html": [
       "<div>\n",
       "<style scoped>\n",
       "    .dataframe tbody tr th:only-of-type {\n",
       "        vertical-align: middle;\n",
       "    }\n",
       "\n",
       "    .dataframe tbody tr th {\n",
       "        vertical-align: top;\n",
       "    }\n",
       "\n",
       "    .dataframe thead th {\n",
       "        text-align: right;\n",
       "    }\n",
       "</style>\n",
       "<table border=\"1\" class=\"dataframe\">\n",
       "  <thead>\n",
       "    <tr style=\"text-align: right;\">\n",
       "      <th></th>\n",
       "      <th>Unnamed: 0</th>\n",
       "      <th>best_day_model: TBATS</th>\n",
       "      <th>lag_24</th>\n",
       "      <th>lag_72</th>\n",
       "      <th>lag_168</th>\n",
       "    </tr>\n",
       "  </thead>\n",
       "  <tbody>\n",
       "    <tr>\n",
       "      <th>0</th>\n",
       "      <td>rmse</td>\n",
       "      <td>58.488358</td>\n",
       "      <td>47.485712</td>\n",
       "      <td>57.959653</td>\n",
       "      <td>51.073826</td>\n",
       "    </tr>\n",
       "    <tr>\n",
       "      <th>1</th>\n",
       "      <td>nrmse</td>\n",
       "      <td>0.947651</td>\n",
       "      <td>0.808351</td>\n",
       "      <td>0.986649</td>\n",
       "      <td>0.869431</td>\n",
       "    </tr>\n",
       "    <tr>\n",
       "      <th>2</th>\n",
       "      <td>r2</td>\n",
       "      <td>0.101958</td>\n",
       "      <td>0.346569</td>\n",
       "      <td>0.026524</td>\n",
       "      <td>0.244089</td>\n",
       "    </tr>\n",
       "  </tbody>\n",
       "</table>\n",
       "</div>"
      ],
      "text/plain": [
       "  Unnamed: 0  best_day_model: TBATS     lag_24     lag_72    lag_168\n",
       "0       rmse              58.488358  47.485712  57.959653  51.073826\n",
       "1      nrmse               0.947651   0.808351   0.986649   0.869431\n",
       "2         r2               0.101958   0.346569   0.026524   0.244089"
      ]
     },
     "execution_count": 26,
     "metadata": {},
     "output_type": "execute_result"
    }
   ],
   "source": [
    "day_test_results_df = pd.read_csv('day_test_results.csv', index_col=0)\n",
    "day_test_results_df"
   ]
  },
  {
   "cell_type": "code",
   "execution_count": 27,
   "id": "e93bc407-84b5-4ca3-a96b-f39e614b96e4",
   "metadata": {},
   "outputs": [
    {
     "data": {
      "text/html": [
       "<div>\n",
       "<style scoped>\n",
       "    .dataframe tbody tr th:only-of-type {\n",
       "        vertical-align: middle;\n",
       "    }\n",
       "\n",
       "    .dataframe tbody tr th {\n",
       "        vertical-align: top;\n",
       "    }\n",
       "\n",
       "    .dataframe thead th {\n",
       "        text-align: right;\n",
       "    }\n",
       "</style>\n",
       "<table border=\"1\" class=\"dataframe\">\n",
       "  <thead>\n",
       "    <tr style=\"text-align: right;\">\n",
       "      <th></th>\n",
       "      <th>Unnamed: 0</th>\n",
       "      <th>best_3_days_model: LinearRegression</th>\n",
       "      <th>lag_72</th>\n",
       "      <th>lag_168</th>\n",
       "    </tr>\n",
       "  </thead>\n",
       "  <tbody>\n",
       "    <tr>\n",
       "      <th>0</th>\n",
       "      <td>rmse</td>\n",
       "      <td>50.824971</td>\n",
       "      <td>52.414467</td>\n",
       "      <td>57.757433</td>\n",
       "    </tr>\n",
       "    <tr>\n",
       "      <th>1</th>\n",
       "      <td>nrmse</td>\n",
       "      <td>0.808470</td>\n",
       "      <td>0.845097</td>\n",
       "      <td>0.931244</td>\n",
       "    </tr>\n",
       "    <tr>\n",
       "      <th>2</th>\n",
       "      <td>r2</td>\n",
       "      <td>0.346376</td>\n",
       "      <td>0.285811</td>\n",
       "      <td>0.132785</td>\n",
       "    </tr>\n",
       "  </tbody>\n",
       "</table>\n",
       "</div>"
      ],
      "text/plain": [
       "  Unnamed: 0  best_3_days_model: LinearRegression     lag_72    lag_168\n",
       "0       rmse                            50.824971  52.414467  57.757433\n",
       "1      nrmse                             0.808470   0.845097   0.931244\n",
       "2         r2                             0.346376   0.285811   0.132785"
      ]
     },
     "execution_count": 27,
     "metadata": {},
     "output_type": "execute_result"
    }
   ],
   "source": [
    "three_days_test_results_df = pd.read_csv('3_days_test_results.csv', index_col=0)\n",
    "three_days_test_results_df"
   ]
  },
  {
   "cell_type": "code",
   "execution_count": 28,
   "id": "0823aee3-52b5-4135-9a72-972f4786d777",
   "metadata": {},
   "outputs": [
    {
     "data": {
      "text/html": [
       "<div>\n",
       "<style scoped>\n",
       "    .dataframe tbody tr th:only-of-type {\n",
       "        vertical-align: middle;\n",
       "    }\n",
       "\n",
       "    .dataframe tbody tr th {\n",
       "        vertical-align: top;\n",
       "    }\n",
       "\n",
       "    .dataframe thead th {\n",
       "        text-align: right;\n",
       "    }\n",
       "</style>\n",
       "<table border=\"1\" class=\"dataframe\">\n",
       "  <thead>\n",
       "    <tr style=\"text-align: right;\">\n",
       "      <th></th>\n",
       "      <th>Unnamed: 0</th>\n",
       "      <th>best_week_model: LinearRegression</th>\n",
       "      <th>lag_168</th>\n",
       "    </tr>\n",
       "  </thead>\n",
       "  <tbody>\n",
       "    <tr>\n",
       "      <th>0</th>\n",
       "      <td>rmse</td>\n",
       "      <td>50.027583</td>\n",
       "      <td>46.985030</td>\n",
       "    </tr>\n",
       "    <tr>\n",
       "      <th>1</th>\n",
       "      <td>nrmse</td>\n",
       "      <td>0.798322</td>\n",
       "      <td>0.753809</td>\n",
       "    </tr>\n",
       "    <tr>\n",
       "      <th>2</th>\n",
       "      <td>r2</td>\n",
       "      <td>0.362682</td>\n",
       "      <td>0.431772</td>\n",
       "    </tr>\n",
       "  </tbody>\n",
       "</table>\n",
       "</div>"
      ],
      "text/plain": [
       "  Unnamed: 0  best_week_model: LinearRegression    lag_168\n",
       "0       rmse                          50.027583  46.985030\n",
       "1      nrmse                           0.798322   0.753809\n",
       "2         r2                           0.362682   0.431772"
      ]
     },
     "execution_count": 28,
     "metadata": {},
     "output_type": "execute_result"
    }
   ],
   "source": [
    "week_test_results_df = pd.read_csv('week_test_results.csv', index_col=0)\n",
    "week_test_results_df"
   ]
  },
  {
   "cell_type": "code",
   "execution_count": null,
   "id": "43528417-ae98-40f1-9073-9d117c0c53d7",
   "metadata": {},
   "outputs": [],
   "source": []
  }
 ],
 "metadata": {
  "kernelspec": {
   "display_name": "Python - sprint_13_env",
   "language": "python",
   "name": "sprint_13_env"
  },
  "language_info": {
   "codemirror_mode": {
    "name": "ipython",
    "version": 3
   },
   "file_extension": ".py",
   "mimetype": "text/x-python",
   "name": "python",
   "nbconvert_exporter": "python",
   "pygments_lexer": "ipython3",
   "version": "3.12.11"
  }
 },
 "nbformat": 4,
 "nbformat_minor": 5
}
