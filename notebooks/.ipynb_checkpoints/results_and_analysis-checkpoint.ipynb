{
 "cells": [
  {
   "cell_type": "code",
   "execution_count": 1,
   "id": "54c17431-2f87-413a-9a7b-a2fa8683dcc6",
   "metadata": {},
   "outputs": [
    {
     "name": "stdout",
     "output_type": "stream",
     "text": [
      "C:\\Users\\Caitlin\\Documents\\Brett_TTT_projects\\predicting_next_hour_taxis\n"
     ]
    }
   ],
   "source": [
    "%cd .."
   ]
  },
  {
   "cell_type": "code",
   "execution_count": 2,
   "id": "1ccf64c4-dc83-405c-acac-1706a6e74ba3",
   "metadata": {},
   "outputs": [],
   "source": [
    "import pandas as pd \n",
    "import src.pre_processing as pre\n",
    "from src.model_io import rmse_comp\n",
    "from test_runner import avg_rmse_dfs"
   ]
  },
  {
   "cell_type": "code",
   "execution_count": 3,
   "id": "42d6ffed-9513-45a2-b201-3b440f5adacb",
   "metadata": {},
   "outputs": [],
   "source": [
    "blocked_cv_hour = pd.read_csv('cv_rmse_scores/cv_avg_rmse_scores/blocked_avg_rmse_1h.csv')\n",
    "blocked_cv_12_hours = pd.read_csv('cv_rmse_scores/cv_avg_rmse_scores/blocked_avg_rmse_12h.csv')\n",
    "blocked_cv_day = pd.read_csv('cv_rmse_scores/cv_avg_rmse_scores/blocked_avg_rmse_24h.csv')\n",
    "blocked_cv_3_days = pd.read_csv('cv_rmse_scores/cv_avg_rmse_scores/blocked_avg_rmse_72h.csv')\n",
    "blocked_cv_week = pd.read_csv('cv_rmse_scores/cv_avg_rmse_scores/blocked_avg_rmse_168h.csv')\n",
    "expanded_w_cv_hour = pd.read_csv('cv_rmse_scores/cv_avg_rmse_scores/expanded_w_avg_rmse_1h.csv')\n",
    "expanded_w_cv_12_hours = pd.read_csv('cv_rmse_scores/cv_avg_rmse_scores/expanded_w_avg_rmse_12h.csv')\n",
    "expanded_w_cv_day = pd.read_csv('cv_rmse_scores/cv_avg_rmse_scores/expanded_w_avg_rmse_24h.csv')\n",
    "expanded_w_cv_3_days = pd.read_csv('cv_rmse_scores/cv_avg_rmse_scores/expanded_w_avg_rmse_72h.csv')\n",
    "expanded_w_cv_week = pd.read_csv('cv_rmse_scores/cv_avg_rmse_scores/expanded_w_avg_rmse_168h.csv')"
   ]
  },
  {
   "cell_type": "markdown",
   "id": "d72d23b4-b773-4f8d-ac63-61ee2342039a",
   "metadata": {},
   "source": [
    "## Average Cross Validation Performance"
   ]
  },
  {
   "cell_type": "markdown",
   "id": "cf436364-64dc-437f-82ed-fd78f684b292",
   "metadata": {},
   "source": [
    "If you took a look at the corss validation script, you know we tried both expanding window cross validation and blocked cross validation for each model for each forecast length. Listed below are the average rmse scores for all of the models and both cv methods for all forecast lengths. "
   ]
  },
  {
   "cell_type": "markdown",
   "id": "8153d226-1b4b-4fbe-85a8-e039cb3adb6b",
   "metadata": {},
   "source": [
    "### Hour Forecast"
   ]
  },
  {
   "cell_type": "code",
   "execution_count": 4,
   "id": "f8bf9e37-776c-448a-adc5-f68d112e56a8",
   "metadata": {
    "scrolled": true
   },
   "outputs": [
    {
     "data": {
      "text/html": [
       "<div>\n",
       "<style scoped>\n",
       "    .dataframe tbody tr th:only-of-type {\n",
       "        vertical-align: middle;\n",
       "    }\n",
       "\n",
       "    .dataframe tbody tr th {\n",
       "        vertical-align: top;\n",
       "    }\n",
       "\n",
       "    .dataframe thead th {\n",
       "        text-align: right;\n",
       "    }\n",
       "</style>\n",
       "<table border=\"1\" class=\"dataframe\">\n",
       "  <thead>\n",
       "    <tr style=\"text-align: right;\">\n",
       "      <th></th>\n",
       "      <th>model_lin_rmse</th>\n",
       "      <th>model_sarima_rmse</th>\n",
       "      <th>model_tbats_rmse</th>\n",
       "    </tr>\n",
       "  </thead>\n",
       "  <tbody>\n",
       "    <tr>\n",
       "      <th>0</th>\n",
       "      <td>22.453145</td>\n",
       "      <td>26.457072</td>\n",
       "      <td>20.514575</td>\n",
       "    </tr>\n",
       "  </tbody>\n",
       "</table>\n",
       "</div>"
      ],
      "text/plain": [
       "   model_lin_rmse  model_sarima_rmse  model_tbats_rmse\n",
       "0       22.453145          26.457072         20.514575"
      ]
     },
     "execution_count": 4,
     "metadata": {},
     "output_type": "execute_result"
    }
   ],
   "source": [
    "blocked_cv_hour"
   ]
  },
  {
   "cell_type": "code",
   "execution_count": 5,
   "id": "f733cd6f-6d8f-4db6-b3e8-1e97296a9f8b",
   "metadata": {},
   "outputs": [
    {
     "data": {
      "text/html": [
       "<div>\n",
       "<style scoped>\n",
       "    .dataframe tbody tr th:only-of-type {\n",
       "        vertical-align: middle;\n",
       "    }\n",
       "\n",
       "    .dataframe tbody tr th {\n",
       "        vertical-align: top;\n",
       "    }\n",
       "\n",
       "    .dataframe thead th {\n",
       "        text-align: right;\n",
       "    }\n",
       "</style>\n",
       "<table border=\"1\" class=\"dataframe\">\n",
       "  <thead>\n",
       "    <tr style=\"text-align: right;\">\n",
       "      <th></th>\n",
       "      <th>model_lin_rmse</th>\n",
       "      <th>model_sarima_rmse</th>\n",
       "      <th>model_tbats_rmse</th>\n",
       "    </tr>\n",
       "  </thead>\n",
       "  <tbody>\n",
       "    <tr>\n",
       "      <th>0</th>\n",
       "      <td>23.070098</td>\n",
       "      <td>26.507655</td>\n",
       "      <td>23.407214</td>\n",
       "    </tr>\n",
       "  </tbody>\n",
       "</table>\n",
       "</div>"
      ],
      "text/plain": [
       "   model_lin_rmse  model_sarima_rmse  model_tbats_rmse\n",
       "0       23.070098          26.507655         23.407214"
      ]
     },
     "execution_count": 5,
     "metadata": {},
     "output_type": "execute_result"
    }
   ],
   "source": [
    "expanded_w_cv_hour"
   ]
  },
  {
   "cell_type": "markdown",
   "id": "02cda832-e385-4ffa-840c-8c101ce06534",
   "metadata": {},
   "source": [
    "### 12 Hour Forecast"
   ]
  },
  {
   "cell_type": "code",
   "execution_count": 6,
   "id": "dced0736-4b92-4148-adac-08904f45a6af",
   "metadata": {
    "scrolled": true
   },
   "outputs": [
    {
     "data": {
      "text/html": [
       "<div>\n",
       "<style scoped>\n",
       "    .dataframe tbody tr th:only-of-type {\n",
       "        vertical-align: middle;\n",
       "    }\n",
       "\n",
       "    .dataframe tbody tr th {\n",
       "        vertical-align: top;\n",
       "    }\n",
       "\n",
       "    .dataframe thead th {\n",
       "        text-align: right;\n",
       "    }\n",
       "</style>\n",
       "<table border=\"1\" class=\"dataframe\">\n",
       "  <thead>\n",
       "    <tr style=\"text-align: right;\">\n",
       "      <th></th>\n",
       "      <th>model_lin_rmse</th>\n",
       "      <th>model_sarima_rmse</th>\n",
       "      <th>model_tbats_rmse</th>\n",
       "    </tr>\n",
       "  </thead>\n",
       "  <tbody>\n",
       "    <tr>\n",
       "      <th>0</th>\n",
       "      <td>32.051933</td>\n",
       "      <td>44.520043</td>\n",
       "      <td>32.696293</td>\n",
       "    </tr>\n",
       "  </tbody>\n",
       "</table>\n",
       "</div>"
      ],
      "text/plain": [
       "   model_lin_rmse  model_sarima_rmse  model_tbats_rmse\n",
       "0       32.051933          44.520043         32.696293"
      ]
     },
     "execution_count": 6,
     "metadata": {},
     "output_type": "execute_result"
    }
   ],
   "source": [
    "blocked_cv_12_hours"
   ]
  },
  {
   "cell_type": "code",
   "execution_count": 7,
   "id": "65659ed6-d991-4961-93ed-f9fe8e179023",
   "metadata": {},
   "outputs": [
    {
     "data": {
      "text/html": [
       "<div>\n",
       "<style scoped>\n",
       "    .dataframe tbody tr th:only-of-type {\n",
       "        vertical-align: middle;\n",
       "    }\n",
       "\n",
       "    .dataframe tbody tr th {\n",
       "        vertical-align: top;\n",
       "    }\n",
       "\n",
       "    .dataframe thead th {\n",
       "        text-align: right;\n",
       "    }\n",
       "</style>\n",
       "<table border=\"1\" class=\"dataframe\">\n",
       "  <thead>\n",
       "    <tr style=\"text-align: right;\">\n",
       "      <th></th>\n",
       "      <th>model_lin_rmse</th>\n",
       "      <th>model_sarima_rmse</th>\n",
       "      <th>model_tbats_rmse</th>\n",
       "    </tr>\n",
       "  </thead>\n",
       "  <tbody>\n",
       "    <tr>\n",
       "      <th>0</th>\n",
       "      <td>31.565206</td>\n",
       "      <td>43.837525</td>\n",
       "      <td>35.094361</td>\n",
       "    </tr>\n",
       "  </tbody>\n",
       "</table>\n",
       "</div>"
      ],
      "text/plain": [
       "   model_lin_rmse  model_sarima_rmse  model_tbats_rmse\n",
       "0       31.565206          43.837525         35.094361"
      ]
     },
     "execution_count": 7,
     "metadata": {},
     "output_type": "execute_result"
    }
   ],
   "source": [
    "expanded_w_cv_12_hours"
   ]
  },
  {
   "cell_type": "markdown",
   "id": "566311da-50d0-4b25-bb9d-12554871184f",
   "metadata": {},
   "source": [
    "### Day Forecast"
   ]
  },
  {
   "cell_type": "code",
   "execution_count": 8,
   "id": "4d3efea3-174d-4d82-95dc-8891b5757f45",
   "metadata": {},
   "outputs": [
    {
     "name": "stdout",
     "output_type": "stream",
     "text": [
      "   model_lin_rmse  model_sarima_rmse  model_tbats_rmse\n",
      "0       27.250748          33.939043         26.399424\n"
     ]
    }
   ],
   "source": [
    "print(blocked_cv_day)"
   ]
  },
  {
   "cell_type": "code",
   "execution_count": 9,
   "id": "7a65979b-40cc-4133-90a2-603fbed67627",
   "metadata": {},
   "outputs": [
    {
     "name": "stdout",
     "output_type": "stream",
     "text": [
      "   model_lin_rmse  model_sarima_rmse  model_tbats_rmse\n",
      "0       26.646916          33.436231         27.814538\n"
     ]
    }
   ],
   "source": [
    "print(expanded_w_cv_day)"
   ]
  },
  {
   "cell_type": "markdown",
   "id": "29237e3f-b955-46db-a091-df8aeedc9658",
   "metadata": {},
   "source": [
    "### 3 Day Forecast"
   ]
  },
  {
   "cell_type": "code",
   "execution_count": 10,
   "id": "def96b81-7e02-48da-bd57-8a1b32ae7ed0",
   "metadata": {},
   "outputs": [
    {
     "name": "stdout",
     "output_type": "stream",
     "text": [
      "   model_lin_rmse  model_sarima_rmse  model_tbats_rmse\n",
      "0       25.555083          40.261222         29.471842\n"
     ]
    }
   ],
   "source": [
    "print(blocked_cv_3_days)"
   ]
  },
  {
   "cell_type": "code",
   "execution_count": 11,
   "id": "2cb4aeef-62cb-4101-834b-2430fea40ed5",
   "metadata": {},
   "outputs": [
    {
     "name": "stdout",
     "output_type": "stream",
     "text": [
      "   model_lin_rmse  model_sarima_rmse  model_tbats_rmse\n",
      "0       25.896538          39.909022         28.899388\n"
     ]
    }
   ],
   "source": [
    "print(expanded_w_cv_3_days)"
   ]
  },
  {
   "cell_type": "markdown",
   "id": "21eb8662-37dc-46a4-bbc2-f06882a7bf1e",
   "metadata": {},
   "source": [
    "### Week Forecast"
   ]
  },
  {
   "cell_type": "code",
   "execution_count": 12,
   "id": "837232a7-a04d-4736-9e63-23b53e20456b",
   "metadata": {},
   "outputs": [
    {
     "data": {
      "text/html": [
       "<div>\n",
       "<style scoped>\n",
       "    .dataframe tbody tr th:only-of-type {\n",
       "        vertical-align: middle;\n",
       "    }\n",
       "\n",
       "    .dataframe tbody tr th {\n",
       "        vertical-align: top;\n",
       "    }\n",
       "\n",
       "    .dataframe thead th {\n",
       "        text-align: right;\n",
       "    }\n",
       "</style>\n",
       "<table border=\"1\" class=\"dataframe\">\n",
       "  <thead>\n",
       "    <tr style=\"text-align: right;\">\n",
       "      <th></th>\n",
       "      <th>model_lin_rmse</th>\n",
       "      <th>model_sarima_rmse</th>\n",
       "      <th>model_tbats_rmse</th>\n",
       "    </tr>\n",
       "  </thead>\n",
       "  <tbody>\n",
       "    <tr>\n",
       "      <th>0</th>\n",
       "      <td>26.1467</td>\n",
       "      <td>55.074858</td>\n",
       "      <td>29.036996</td>\n",
       "    </tr>\n",
       "  </tbody>\n",
       "</table>\n",
       "</div>"
      ],
      "text/plain": [
       "   model_lin_rmse  model_sarima_rmse  model_tbats_rmse\n",
       "0         26.1467          55.074858         29.036996"
      ]
     },
     "execution_count": 12,
     "metadata": {},
     "output_type": "execute_result"
    }
   ],
   "source": [
    "blocked_cv_week"
   ]
  },
  {
   "cell_type": "code",
   "execution_count": 13,
   "id": "fbf07bd5-9f1c-44cf-bce8-49425fa293c5",
   "metadata": {},
   "outputs": [
    {
     "data": {
      "text/html": [
       "<div>\n",
       "<style scoped>\n",
       "    .dataframe tbody tr th:only-of-type {\n",
       "        vertical-align: middle;\n",
       "    }\n",
       "\n",
       "    .dataframe tbody tr th {\n",
       "        vertical-align: top;\n",
       "    }\n",
       "\n",
       "    .dataframe thead th {\n",
       "        text-align: right;\n",
       "    }\n",
       "</style>\n",
       "<table border=\"1\" class=\"dataframe\">\n",
       "  <thead>\n",
       "    <tr style=\"text-align: right;\">\n",
       "      <th></th>\n",
       "      <th>model_lin_rmse</th>\n",
       "      <th>model_sarima_rmse</th>\n",
       "      <th>model_tbats_rmse</th>\n",
       "    </tr>\n",
       "  </thead>\n",
       "  <tbody>\n",
       "    <tr>\n",
       "      <th>0</th>\n",
       "      <td>26.525833</td>\n",
       "      <td>56.064825</td>\n",
       "      <td>29.150057</td>\n",
       "    </tr>\n",
       "  </tbody>\n",
       "</table>\n",
       "</div>"
      ],
      "text/plain": [
       "   model_lin_rmse  model_sarima_rmse  model_tbats_rmse\n",
       "0       26.525833          56.064825         29.150057"
      ]
     },
     "execution_count": 13,
     "metadata": {},
     "output_type": "execute_result"
    }
   ],
   "source": [
    "expanded_w_cv_week"
   ]
  },
  {
   "cell_type": "markdown",
   "id": "898ce03a-9f52-4599-b80c-5320f46d0815",
   "metadata": {},
   "source": [
    "LinearRegression and TBATS outperform SARIMA by a wide margin for every cross validation type and forecast length, and LinearRegression edges out TBATS for every forecast length and cross validation type except for expanding window cross validation for a 72 hour forecast. This is somewhat surprising as increased data is known to benefit TBATs in its ability to capture multiple seasonalities and longer term trends. \n",
    "\n",
    "In fact, I specifically included both blocked_cv and exp_w_cv because I thought using blocked_cv alone would give LinearRegression an unfair advantage. Let's get a closer look to see what the breakdown is fold by fold. "
   ]
  },
  {
   "cell_type": "markdown",
   "id": "1ffc4b46-403f-4026-b3c6-eea61b745b9b",
   "metadata": {},
   "source": [
    "## Per Fold Cross Validation Performance 24 Hour Forecast"
   ]
  },
  {
   "cell_type": "markdown",
   "id": "55dcb213-dc5d-439c-8670-e4784b048315",
   "metadata": {},
   "source": [
    "Please note that the second value for each fold number is the one that corrsponds to rmses for expanding window cross validation."
   ]
  },
  {
   "cell_type": "code",
   "execution_count": 14,
   "id": "f2c0bee4-fdc3-45aa-acf4-601680abc793",
   "metadata": {
    "scrolled": true
   },
   "outputs": [],
   "source": [
    "paths_fold_rmses = ['cv_rmse_scores/cv_fold_rmse_scores/blocked_cv_fold_0_24h.csv', 'cv_rmse_scores/cv_fold_rmse_scores/expanded_w_cv_fold_0_24h.csv',\n",
    "                'cv_rmse_scores/cv_fold_rmse_scores/blocked_cv_fold_1_24h.csv', 'cv_rmse_scores/cv_fold_rmse_scores/expanded_w_cv_fold_1_24h.csv',\n",
    "                'cv_rmse_scores/cv_fold_rmse_scores/blocked_cv_fold_2_24h.csv', 'cv_rmse_scores/cv_fold_rmse_scores/expanded_w_cv_fold_2_24h.csv',\n",
    "                'cv_rmse_scores/cv_fold_rmse_scores/blocked_cv_fold_3_24h.csv', 'cv_rmse_scores/cv_fold_rmse_scores/expanded_w_cv_fold_3_24h.csv',\n",
    "                'cv_rmse_scores/cv_fold_rmse_scores/blocked_cv_fold_4_24h.csv', 'cv_rmse_scores/cv_fold_rmse_scores/expanded_w_cv_fold_4_24h.csv']\n",
    "    \n",
    "fold_rmse_names = ['df_blocked_fold_0_24h', 'df_exp_w_fold_0_24h',\n",
    "                'df_blocked_fold_1_24h', 'df_exp_w_fold_1_24h',\n",
    "                'df_blocked_fold_2_24h', 'df_exp_w_fold_2_24h',\n",
    "                'df_blocked_fold_3_24h', 'df_exp_w_fold_3_24h',\n",
    "                'df_blocked_fold_4_24h', 'df_exp_w_fold_4_24h']\n",
    "\n",
    "    \n",
    "fold_rmse_dfs = {}\n",
    "\n",
    "for file_path, name in zip(paths_fold_rmses, fold_rmse_names):\n",
    "    fold_rmse_dfs[name] = pd.read_csv(file_path)"
   ]
  },
  {
   "cell_type": "code",
   "execution_count": 15,
   "id": "5d1685e8-13c2-4bfe-8918-ce5520e0b0a2",
   "metadata": {},
   "outputs": [
    {
     "data": {
      "text/html": [
       "<div>\n",
       "<style scoped>\n",
       "    .dataframe tbody tr th:only-of-type {\n",
       "        vertical-align: middle;\n",
       "    }\n",
       "\n",
       "    .dataframe tbody tr th {\n",
       "        vertical-align: top;\n",
       "    }\n",
       "\n",
       "    .dataframe thead th {\n",
       "        text-align: right;\n",
       "    }\n",
       "</style>\n",
       "<table border=\"1\" class=\"dataframe\">\n",
       "  <thead>\n",
       "    <tr style=\"text-align: right;\">\n",
       "      <th></th>\n",
       "      <th>fold</th>\n",
       "      <th>model_lin_rmse</th>\n",
       "      <th>model_sarima_rmse</th>\n",
       "      <th>model_tbats_rmse</th>\n",
       "    </tr>\n",
       "  </thead>\n",
       "  <tbody>\n",
       "    <tr>\n",
       "      <th>0</th>\n",
       "      <td>0</td>\n",
       "      <td>15.951337</td>\n",
       "      <td>23.103068</td>\n",
       "      <td>16.263123</td>\n",
       "    </tr>\n",
       "  </tbody>\n",
       "</table>\n",
       "</div>"
      ],
      "text/plain": [
       "   fold  model_lin_rmse  model_sarima_rmse  model_tbats_rmse\n",
       "0     0       15.951337          23.103068         16.263123"
      ]
     },
     "execution_count": 15,
     "metadata": {},
     "output_type": "execute_result"
    }
   ],
   "source": [
    "fold_rmse_dfs['df_blocked_fold_0_24h']"
   ]
  },
  {
   "cell_type": "code",
   "execution_count": 16,
   "id": "e640c8a8-08d4-4a56-871b-523e99a5871d",
   "metadata": {},
   "outputs": [
    {
     "data": {
      "text/html": [
       "<div>\n",
       "<style scoped>\n",
       "    .dataframe tbody tr th:only-of-type {\n",
       "        vertical-align: middle;\n",
       "    }\n",
       "\n",
       "    .dataframe tbody tr th {\n",
       "        vertical-align: top;\n",
       "    }\n",
       "\n",
       "    .dataframe thead th {\n",
       "        text-align: right;\n",
       "    }\n",
       "</style>\n",
       "<table border=\"1\" class=\"dataframe\">\n",
       "  <thead>\n",
       "    <tr style=\"text-align: right;\">\n",
       "      <th></th>\n",
       "      <th>fold</th>\n",
       "      <th>model_lin_rmse</th>\n",
       "      <th>model_sarima_rmse</th>\n",
       "      <th>model_tbats_rmse</th>\n",
       "    </tr>\n",
       "  </thead>\n",
       "  <tbody>\n",
       "    <tr>\n",
       "      <th>0</th>\n",
       "      <td>0</td>\n",
       "      <td>15.951337</td>\n",
       "      <td>23.103068</td>\n",
       "      <td>16.263123</td>\n",
       "    </tr>\n",
       "  </tbody>\n",
       "</table>\n",
       "</div>"
      ],
      "text/plain": [
       "   fold  model_lin_rmse  model_sarima_rmse  model_tbats_rmse\n",
       "0     0       15.951337          23.103068         16.263123"
      ]
     },
     "execution_count": 16,
     "metadata": {},
     "output_type": "execute_result"
    }
   ],
   "source": [
    "fold_rmse_dfs['df_exp_w_fold_0_24h']"
   ]
  },
  {
   "cell_type": "code",
   "execution_count": 17,
   "id": "0593655b-5de5-4270-b47b-e2f512dc7d24",
   "metadata": {},
   "outputs": [
    {
     "data": {
      "text/html": [
       "<div>\n",
       "<style scoped>\n",
       "    .dataframe tbody tr th:only-of-type {\n",
       "        vertical-align: middle;\n",
       "    }\n",
       "\n",
       "    .dataframe tbody tr th {\n",
       "        vertical-align: top;\n",
       "    }\n",
       "\n",
       "    .dataframe thead th {\n",
       "        text-align: right;\n",
       "    }\n",
       "</style>\n",
       "<table border=\"1\" class=\"dataframe\">\n",
       "  <thead>\n",
       "    <tr style=\"text-align: right;\">\n",
       "      <th></th>\n",
       "      <th>fold</th>\n",
       "      <th>model_lin_rmse</th>\n",
       "      <th>model_sarima_rmse</th>\n",
       "      <th>model_tbats_rmse</th>\n",
       "    </tr>\n",
       "  </thead>\n",
       "  <tbody>\n",
       "    <tr>\n",
       "      <th>0</th>\n",
       "      <td>1</td>\n",
       "      <td>21.11044</td>\n",
       "      <td>26.142512</td>\n",
       "      <td>19.742483</td>\n",
       "    </tr>\n",
       "  </tbody>\n",
       "</table>\n",
       "</div>"
      ],
      "text/plain": [
       "   fold  model_lin_rmse  model_sarima_rmse  model_tbats_rmse\n",
       "0     1        21.11044          26.142512         19.742483"
      ]
     },
     "execution_count": 17,
     "metadata": {},
     "output_type": "execute_result"
    }
   ],
   "source": [
    "fold_rmse_dfs['df_blocked_fold_1_24h']"
   ]
  },
  {
   "cell_type": "code",
   "execution_count": 18,
   "id": "2d56370a-f0f3-4d87-b9ec-f4927402515d",
   "metadata": {},
   "outputs": [
    {
     "data": {
      "text/html": [
       "<div>\n",
       "<style scoped>\n",
       "    .dataframe tbody tr th:only-of-type {\n",
       "        vertical-align: middle;\n",
       "    }\n",
       "\n",
       "    .dataframe tbody tr th {\n",
       "        vertical-align: top;\n",
       "    }\n",
       "\n",
       "    .dataframe thead th {\n",
       "        text-align: right;\n",
       "    }\n",
       "</style>\n",
       "<table border=\"1\" class=\"dataframe\">\n",
       "  <thead>\n",
       "    <tr style=\"text-align: right;\">\n",
       "      <th></th>\n",
       "      <th>fold</th>\n",
       "      <th>model_lin_rmse</th>\n",
       "      <th>model_sarima_rmse</th>\n",
       "      <th>model_tbats_rmse</th>\n",
       "    </tr>\n",
       "  </thead>\n",
       "  <tbody>\n",
       "    <tr>\n",
       "      <th>0</th>\n",
       "      <td>1</td>\n",
       "      <td>21.448145</td>\n",
       "      <td>25.906981</td>\n",
       "      <td>22.654166</td>\n",
       "    </tr>\n",
       "  </tbody>\n",
       "</table>\n",
       "</div>"
      ],
      "text/plain": [
       "   fold  model_lin_rmse  model_sarima_rmse  model_tbats_rmse\n",
       "0     1       21.448145          25.906981         22.654166"
      ]
     },
     "execution_count": 18,
     "metadata": {},
     "output_type": "execute_result"
    }
   ],
   "source": [
    "fold_rmse_dfs['df_exp_w_fold_1_24h']"
   ]
  },
  {
   "cell_type": "code",
   "execution_count": 19,
   "id": "38736708-b00e-44f5-8a5d-19d78c49442c",
   "metadata": {},
   "outputs": [
    {
     "data": {
      "text/html": [
       "<div>\n",
       "<style scoped>\n",
       "    .dataframe tbody tr th:only-of-type {\n",
       "        vertical-align: middle;\n",
       "    }\n",
       "\n",
       "    .dataframe tbody tr th {\n",
       "        vertical-align: top;\n",
       "    }\n",
       "\n",
       "    .dataframe thead th {\n",
       "        text-align: right;\n",
       "    }\n",
       "</style>\n",
       "<table border=\"1\" class=\"dataframe\">\n",
       "  <thead>\n",
       "    <tr style=\"text-align: right;\">\n",
       "      <th></th>\n",
       "      <th>fold</th>\n",
       "      <th>model_lin_rmse</th>\n",
       "      <th>model_sarima_rmse</th>\n",
       "      <th>model_tbats_rmse</th>\n",
       "    </tr>\n",
       "  </thead>\n",
       "  <tbody>\n",
       "    <tr>\n",
       "      <th>0</th>\n",
       "      <td>2</td>\n",
       "      <td>21.141054</td>\n",
       "      <td>29.094704</td>\n",
       "      <td>23.341672</td>\n",
       "    </tr>\n",
       "  </tbody>\n",
       "</table>\n",
       "</div>"
      ],
      "text/plain": [
       "   fold  model_lin_rmse  model_sarima_rmse  model_tbats_rmse\n",
       "0     2       21.141054          29.094704         23.341672"
      ]
     },
     "execution_count": 19,
     "metadata": {},
     "output_type": "execute_result"
    }
   ],
   "source": [
    "fold_rmse_dfs['df_blocked_fold_2_24h']"
   ]
  },
  {
   "cell_type": "code",
   "execution_count": 20,
   "id": "36bca439-1437-43f3-a7a0-e7a3e8e15864",
   "metadata": {},
   "outputs": [
    {
     "data": {
      "text/html": [
       "<div>\n",
       "<style scoped>\n",
       "    .dataframe tbody tr th:only-of-type {\n",
       "        vertical-align: middle;\n",
       "    }\n",
       "\n",
       "    .dataframe tbody tr th {\n",
       "        vertical-align: top;\n",
       "    }\n",
       "\n",
       "    .dataframe thead th {\n",
       "        text-align: right;\n",
       "    }\n",
       "</style>\n",
       "<table border=\"1\" class=\"dataframe\">\n",
       "  <thead>\n",
       "    <tr style=\"text-align: right;\">\n",
       "      <th></th>\n",
       "      <th>fold</th>\n",
       "      <th>model_lin_rmse</th>\n",
       "      <th>model_sarima_rmse</th>\n",
       "      <th>model_tbats_rmse</th>\n",
       "    </tr>\n",
       "  </thead>\n",
       "  <tbody>\n",
       "    <tr>\n",
       "      <th>0</th>\n",
       "      <td>2</td>\n",
       "      <td>20.296105</td>\n",
       "      <td>29.212697</td>\n",
       "      <td>23.249334</td>\n",
       "    </tr>\n",
       "  </tbody>\n",
       "</table>\n",
       "</div>"
      ],
      "text/plain": [
       "   fold  model_lin_rmse  model_sarima_rmse  model_tbats_rmse\n",
       "0     2       20.296105          29.212697         23.249334"
      ]
     },
     "execution_count": 20,
     "metadata": {},
     "output_type": "execute_result"
    }
   ],
   "source": [
    "fold_rmse_dfs['df_exp_w_fold_2_24h']"
   ]
  },
  {
   "cell_type": "code",
   "execution_count": 21,
   "id": "9fe8962b-ae28-4ee9-bd22-c02de148b498",
   "metadata": {},
   "outputs": [
    {
     "data": {
      "text/html": [
       "<div>\n",
       "<style scoped>\n",
       "    .dataframe tbody tr th:only-of-type {\n",
       "        vertical-align: middle;\n",
       "    }\n",
       "\n",
       "    .dataframe tbody tr th {\n",
       "        vertical-align: top;\n",
       "    }\n",
       "\n",
       "    .dataframe thead th {\n",
       "        text-align: right;\n",
       "    }\n",
       "</style>\n",
       "<table border=\"1\" class=\"dataframe\">\n",
       "  <thead>\n",
       "    <tr style=\"text-align: right;\">\n",
       "      <th></th>\n",
       "      <th>fold</th>\n",
       "      <th>model_lin_rmse</th>\n",
       "      <th>model_sarima_rmse</th>\n",
       "      <th>model_tbats_rmse</th>\n",
       "    </tr>\n",
       "  </thead>\n",
       "  <tbody>\n",
       "    <tr>\n",
       "      <th>0</th>\n",
       "      <td>3</td>\n",
       "      <td>20.983668</td>\n",
       "      <td>31.795311</td>\n",
       "      <td>24.574369</td>\n",
       "    </tr>\n",
       "  </tbody>\n",
       "</table>\n",
       "</div>"
      ],
      "text/plain": [
       "   fold  model_lin_rmse  model_sarima_rmse  model_tbats_rmse\n",
       "0     3       20.983668          31.795311         24.574369"
      ]
     },
     "execution_count": 21,
     "metadata": {},
     "output_type": "execute_result"
    }
   ],
   "source": [
    "fold_rmse_dfs['df_blocked_fold_3_24h']"
   ]
  },
  {
   "cell_type": "code",
   "execution_count": 22,
   "id": "5304ca9b-8c06-4a44-a7a3-189688eb7069",
   "metadata": {},
   "outputs": [
    {
     "data": {
      "text/html": [
       "<div>\n",
       "<style scoped>\n",
       "    .dataframe tbody tr th:only-of-type {\n",
       "        vertical-align: middle;\n",
       "    }\n",
       "\n",
       "    .dataframe tbody tr th {\n",
       "        vertical-align: top;\n",
       "    }\n",
       "\n",
       "    .dataframe thead th {\n",
       "        text-align: right;\n",
       "    }\n",
       "</style>\n",
       "<table border=\"1\" class=\"dataframe\">\n",
       "  <thead>\n",
       "    <tr style=\"text-align: right;\">\n",
       "      <th></th>\n",
       "      <th>fold</th>\n",
       "      <th>model_lin_rmse</th>\n",
       "      <th>model_sarima_rmse</th>\n",
       "      <th>model_tbats_rmse</th>\n",
       "    </tr>\n",
       "  </thead>\n",
       "  <tbody>\n",
       "    <tr>\n",
       "      <th>0</th>\n",
       "      <td>3</td>\n",
       "      <td>20.22987</td>\n",
       "      <td>31.33188</td>\n",
       "      <td>28.204973</td>\n",
       "    </tr>\n",
       "  </tbody>\n",
       "</table>\n",
       "</div>"
      ],
      "text/plain": [
       "   fold  model_lin_rmse  model_sarima_rmse  model_tbats_rmse\n",
       "0     3        20.22987           31.33188         28.204973"
      ]
     },
     "execution_count": 22,
     "metadata": {},
     "output_type": "execute_result"
    }
   ],
   "source": [
    "fold_rmse_dfs['df_exp_w_fold_3_24h']"
   ]
  },
  {
   "cell_type": "code",
   "execution_count": 23,
   "id": "7150347c-11ac-4a51-8365-3fffcc017b92",
   "metadata": {},
   "outputs": [
    {
     "data": {
      "text/html": [
       "<div>\n",
       "<style scoped>\n",
       "    .dataframe tbody tr th:only-of-type {\n",
       "        vertical-align: middle;\n",
       "    }\n",
       "\n",
       "    .dataframe tbody tr th {\n",
       "        vertical-align: top;\n",
       "    }\n",
       "\n",
       "    .dataframe thead th {\n",
       "        text-align: right;\n",
       "    }\n",
       "</style>\n",
       "<table border=\"1\" class=\"dataframe\">\n",
       "  <thead>\n",
       "    <tr style=\"text-align: right;\">\n",
       "      <th></th>\n",
       "      <th>fold</th>\n",
       "      <th>model_lin_rmse</th>\n",
       "      <th>model_sarima_rmse</th>\n",
       "      <th>model_tbats_rmse</th>\n",
       "    </tr>\n",
       "  </thead>\n",
       "  <tbody>\n",
       "    <tr>\n",
       "      <th>0</th>\n",
       "      <td>4</td>\n",
       "      <td>46.104902</td>\n",
       "      <td>51.813772</td>\n",
       "      <td>41.008047</td>\n",
       "    </tr>\n",
       "  </tbody>\n",
       "</table>\n",
       "</div>"
      ],
      "text/plain": [
       "   fold  model_lin_rmse  model_sarima_rmse  model_tbats_rmse\n",
       "0     4       46.104902          51.813772         41.008047"
      ]
     },
     "execution_count": 23,
     "metadata": {},
     "output_type": "execute_result"
    }
   ],
   "source": [
    "fold_rmse_dfs['df_blocked_fold_4_24h']"
   ]
  },
  {
   "cell_type": "code",
   "execution_count": 24,
   "id": "ae603d67-8b44-4e7e-9efd-596c6e24d19c",
   "metadata": {
    "scrolled": true
   },
   "outputs": [
    {
     "data": {
      "text/html": [
       "<div>\n",
       "<style scoped>\n",
       "    .dataframe tbody tr th:only-of-type {\n",
       "        vertical-align: middle;\n",
       "    }\n",
       "\n",
       "    .dataframe tbody tr th {\n",
       "        vertical-align: top;\n",
       "    }\n",
       "\n",
       "    .dataframe thead th {\n",
       "        text-align: right;\n",
       "    }\n",
       "</style>\n",
       "<table border=\"1\" class=\"dataframe\">\n",
       "  <thead>\n",
       "    <tr style=\"text-align: right;\">\n",
       "      <th></th>\n",
       "      <th>fold</th>\n",
       "      <th>model_lin_rmse</th>\n",
       "      <th>model_sarima_rmse</th>\n",
       "      <th>model_tbats_rmse</th>\n",
       "    </tr>\n",
       "  </thead>\n",
       "  <tbody>\n",
       "    <tr>\n",
       "      <th>0</th>\n",
       "      <td>4</td>\n",
       "      <td>44.884775</td>\n",
       "      <td>50.496694</td>\n",
       "      <td>41.886635</td>\n",
       "    </tr>\n",
       "  </tbody>\n",
       "</table>\n",
       "</div>"
      ],
      "text/plain": [
       "   fold  model_lin_rmse  model_sarima_rmse  model_tbats_rmse\n",
       "0     4       44.884775          50.496694         41.886635"
      ]
     },
     "execution_count": 24,
     "metadata": {},
     "output_type": "execute_result"
    }
   ],
   "source": [
    "fold_rmse_dfs['df_exp_w_fold_4_24h']"
   ]
  },
  {
   "cell_type": "markdown",
   "id": "7f9bef0a-643c-4c0f-bf61-077808112570",
   "metadata": {},
   "source": [
    "We can see that TBATS' comparative advantage over linear regression is inconcsistent. It underperforms LinearRegression on every exp_w fold except for the final one. Moreover, it also underperforms LinearRegression on 3 of the 5 blocked folds (folds 0, 2, and 3). When the best cv performancence differs on the two cv methods, the code is set to select the ore consistent model (measured in standard deviation size). However, given that the logic behind including expanding windwo cross validation was to give SARIMA and TBATS a fighting chance, and TBATs was still outperformed on this metric, was outperformed on 3 of five folds during blocked cv, and had only a marginal advantage in blocked_cv (27.25 to 26.40) it is reasonable to set the override parameter to True on our rmse_comp function and pass the function LinearRegression as the override model. This decision is further justified by the fact that LinearRegression trains much faster than TBATS and is significantly more computationally efficient. \n",
    "\n",
    "Therefore, our rmse_comp() function call will look like this in the test_runner script:\n",
    "\n",
    "```\n",
    "best_model_day = rmse_comp(avg_rmse_dfs['df_one_day_blocked'], \n",
    "                                  avg_rmse_dfs['df_ond_day_exp_w'], \n",
    "                                  'day', \n",
    "                                  24, \n",
    "                                  override=True, \n",
    "                                  override_model=TBATS)\n",
    "```\n",
    "This is different from the call we used when we were happy with the default result which looked like this:\n",
    "```\n",
    "best_model_day = rmse_comp(avg_rmse_dfs['df_one_day_blocked'], \n",
    "                                  avg_rmse_dfs['df_one_day_exp_w'], \n",
    "                                  'day', \n",
    "                                  24)\n",
    "```\n",
    "\n",
    "The rmse_comp function prompts a manual review of the rmses of the different cv folds to ensure the reviewer agrees with the default selection. See the model_io.py script in the src folder for a review of the code."
   ]
  },
  {
   "cell_type": "markdown",
   "id": "3ba2f60a-95f6-45f2-b27c-976e5fadfceb",
   "metadata": {},
   "source": [
    "Let's get a look at how our models' performance compares to naive models that simply predict either the taxis from 1 hour past, 24 hours past, 72 hours past, or 168 hours past. "
   ]
  },
  {
   "cell_type": "code",
   "execution_count": 25,
   "id": "d4b5b68f-a6ee-4a1e-b6ae-fb614fadeffc",
   "metadata": {},
   "outputs": [
    {
     "data": {
      "text/html": [
       "<div>\n",
       "<style scoped>\n",
       "    .dataframe tbody tr th:only-of-type {\n",
       "        vertical-align: middle;\n",
       "    }\n",
       "\n",
       "    .dataframe tbody tr th {\n",
       "        vertical-align: top;\n",
       "    }\n",
       "\n",
       "    .dataframe thead th {\n",
       "        text-align: right;\n",
       "    }\n",
       "</style>\n",
       "<table border=\"1\" class=\"dataframe\">\n",
       "  <thead>\n",
       "    <tr style=\"text-align: right;\">\n",
       "      <th></th>\n",
       "      <th>best_hour_model: LinearRegression</th>\n",
       "      <th>lag_1</th>\n",
       "      <th>lag_24</th>\n",
       "      <th>lag_72</th>\n",
       "      <th>lag_168</th>\n",
       "    </tr>\n",
       "  </thead>\n",
       "  <tbody>\n",
       "    <tr>\n",
       "      <th>rmse</th>\n",
       "      <td>41.069461</td>\n",
       "      <td>74.296422</td>\n",
       "      <td>49.678131</td>\n",
       "      <td>58.339166</td>\n",
       "      <td>51.645426</td>\n",
       "    </tr>\n",
       "    <tr>\n",
       "      <th>nrmse</th>\n",
       "      <td>0.674510</td>\n",
       "      <td>1.220218</td>\n",
       "      <td>0.815896</td>\n",
       "      <td>0.958142</td>\n",
       "      <td>0.848206</td>\n",
       "    </tr>\n",
       "    <tr>\n",
       "      <th>r2</th>\n",
       "      <td>0.545036</td>\n",
       "      <td>-0.488932</td>\n",
       "      <td>0.334314</td>\n",
       "      <td>0.081964</td>\n",
       "      <td>0.280546</td>\n",
       "    </tr>\n",
       "  </tbody>\n",
       "</table>\n",
       "</div>"
      ],
      "text/plain": [
       "       best_hour_model: LinearRegression      lag_1     lag_24     lag_72  \\\n",
       "rmse                           41.069461  74.296422  49.678131  58.339166   \n",
       "nrmse                           0.674510   1.220218   0.815896   0.958142   \n",
       "r2                              0.545036  -0.488932   0.334314   0.081964   \n",
       "\n",
       "         lag_168  \n",
       "rmse   51.645426  \n",
       "nrmse   0.848206  \n",
       "r2      0.280546  "
      ]
     },
     "execution_count": 25,
     "metadata": {},
     "output_type": "execute_result"
    }
   ],
   "source": [
    "hour_test_results_df = pd.read_csv('hour_test_results.csv', index_col=0)\n",
    "hour_test_results_df"
   ]
  },
  {
   "cell_type": "code",
   "execution_count": 26,
   "id": "4808e9f8-56b3-47fe-9fb8-4c2cca94fedd",
   "metadata": {},
   "outputs": [
    {
     "data": {
      "text/html": [
       "<div>\n",
       "<style scoped>\n",
       "    .dataframe tbody tr th:only-of-type {\n",
       "        vertical-align: middle;\n",
       "    }\n",
       "\n",
       "    .dataframe tbody tr th {\n",
       "        vertical-align: top;\n",
       "    }\n",
       "\n",
       "    .dataframe thead th {\n",
       "        text-align: right;\n",
       "    }\n",
       "</style>\n",
       "<table border=\"1\" class=\"dataframe\">\n",
       "  <thead>\n",
       "    <tr style=\"text-align: right;\">\n",
       "      <th></th>\n",
       "      <th>best_12_hours_model: LinearRegression</th>\n",
       "      <th>lag_24</th>\n",
       "      <th>lag_72</th>\n",
       "      <th>lag_168</th>\n",
       "    </tr>\n",
       "  </thead>\n",
       "  <tbody>\n",
       "    <tr>\n",
       "      <th>rmse</th>\n",
       "      <td>37.367556</td>\n",
       "      <td>49.678131</td>\n",
       "      <td>58.339166</td>\n",
       "      <td>51.645426</td>\n",
       "    </tr>\n",
       "    <tr>\n",
       "      <th>nrmse</th>\n",
       "      <td>0.672130</td>\n",
       "      <td>0.815896</td>\n",
       "      <td>0.958142</td>\n",
       "      <td>0.848206</td>\n",
       "    </tr>\n",
       "    <tr>\n",
       "      <th>r2</th>\n",
       "      <td>0.548241</td>\n",
       "      <td>0.334314</td>\n",
       "      <td>0.081964</td>\n",
       "      <td>0.280546</td>\n",
       "    </tr>\n",
       "  </tbody>\n",
       "</table>\n",
       "</div>"
      ],
      "text/plain": [
       "       best_12_hours_model: LinearRegression     lag_24     lag_72    lag_168\n",
       "rmse                               37.367556  49.678131  58.339166  51.645426\n",
       "nrmse                               0.672130   0.815896   0.958142   0.848206\n",
       "r2                                  0.548241   0.334314   0.081964   0.280546"
      ]
     },
     "execution_count": 26,
     "metadata": {},
     "output_type": "execute_result"
    }
   ],
   "source": [
    "twelve_hours_test_results_df = pd.read_csv('12_hours_test_results.csv', index_col=0)\n",
    "twelve_hours_test_results_df"
   ]
  },
  {
   "cell_type": "code",
   "execution_count": 27,
   "id": "c850bf26-50ec-4b42-b285-b89bc3805fab",
   "metadata": {},
   "outputs": [
    {
     "data": {
      "text/html": [
       "<div>\n",
       "<style scoped>\n",
       "    .dataframe tbody tr th:only-of-type {\n",
       "        vertical-align: middle;\n",
       "    }\n",
       "\n",
       "    .dataframe tbody tr th {\n",
       "        vertical-align: top;\n",
       "    }\n",
       "\n",
       "    .dataframe thead th {\n",
       "        text-align: right;\n",
       "    }\n",
       "</style>\n",
       "<table border=\"1\" class=\"dataframe\">\n",
       "  <thead>\n",
       "    <tr style=\"text-align: right;\">\n",
       "      <th></th>\n",
       "      <th>best_day_model: LinearRegression</th>\n",
       "      <th>lag_24</th>\n",
       "      <th>lag_72</th>\n",
       "      <th>lag_168</th>\n",
       "    </tr>\n",
       "  </thead>\n",
       "  <tbody>\n",
       "    <tr>\n",
       "      <th>rmse</th>\n",
       "      <td>43.119087</td>\n",
       "      <td>47.485712</td>\n",
       "      <td>57.959653</td>\n",
       "      <td>51.073826</td>\n",
       "    </tr>\n",
       "    <tr>\n",
       "      <th>nrmse</th>\n",
       "      <td>0.698632</td>\n",
       "      <td>0.808351</td>\n",
       "      <td>0.986649</td>\n",
       "      <td>0.869431</td>\n",
       "    </tr>\n",
       "    <tr>\n",
       "      <th>r2</th>\n",
       "      <td>0.511913</td>\n",
       "      <td>0.346569</td>\n",
       "      <td>0.026524</td>\n",
       "      <td>0.244089</td>\n",
       "    </tr>\n",
       "  </tbody>\n",
       "</table>\n",
       "</div>"
      ],
      "text/plain": [
       "       best_day_model: LinearRegression     lag_24     lag_72    lag_168\n",
       "rmse                          43.119087  47.485712  57.959653  51.073826\n",
       "nrmse                          0.698632   0.808351   0.986649   0.869431\n",
       "r2                             0.511913   0.346569   0.026524   0.244089"
      ]
     },
     "execution_count": 27,
     "metadata": {},
     "output_type": "execute_result"
    }
   ],
   "source": [
    "day_test_results_df = pd.read_csv('day_test_results.csv', index_col=0)\n",
    "day_test_results_df"
   ]
  },
  {
   "cell_type": "code",
   "execution_count": 28,
   "id": "e93bc407-84b5-4ca3-a96b-f39e614b96e4",
   "metadata": {},
   "outputs": [
    {
     "data": {
      "text/html": [
       "<div>\n",
       "<style scoped>\n",
       "    .dataframe tbody tr th:only-of-type {\n",
       "        vertical-align: middle;\n",
       "    }\n",
       "\n",
       "    .dataframe tbody tr th {\n",
       "        vertical-align: top;\n",
       "    }\n",
       "\n",
       "    .dataframe thead th {\n",
       "        text-align: right;\n",
       "    }\n",
       "</style>\n",
       "<table border=\"1\" class=\"dataframe\">\n",
       "  <thead>\n",
       "    <tr style=\"text-align: right;\">\n",
       "      <th></th>\n",
       "      <th>best_3_days_model: LinearRegression</th>\n",
       "      <th>lag_72</th>\n",
       "      <th>lag_168</th>\n",
       "    </tr>\n",
       "  </thead>\n",
       "  <tbody>\n",
       "    <tr>\n",
       "      <th>rmse</th>\n",
       "      <td>50.824971</td>\n",
       "      <td>57.757433</td>\n",
       "      <td>52.414467</td>\n",
       "    </tr>\n",
       "    <tr>\n",
       "      <th>nrmse</th>\n",
       "      <td>0.808470</td>\n",
       "      <td>0.931244</td>\n",
       "      <td>0.845097</td>\n",
       "    </tr>\n",
       "    <tr>\n",
       "      <th>r2</th>\n",
       "      <td>0.346376</td>\n",
       "      <td>0.132785</td>\n",
       "      <td>0.285811</td>\n",
       "    </tr>\n",
       "  </tbody>\n",
       "</table>\n",
       "</div>"
      ],
      "text/plain": [
       "       best_3_days_model: LinearRegression     lag_72    lag_168\n",
       "rmse                             50.824971  57.757433  52.414467\n",
       "nrmse                             0.808470   0.931244   0.845097\n",
       "r2                                0.346376   0.132785   0.285811"
      ]
     },
     "execution_count": 28,
     "metadata": {},
     "output_type": "execute_result"
    }
   ],
   "source": [
    "three_days_test_results_df = pd.read_csv('3_days_test_results.csv', index_col=0)\n",
    "three_days_test_results_df"
   ]
  },
  {
   "cell_type": "code",
   "execution_count": 29,
   "id": "0823aee3-52b5-4135-9a72-972f4786d777",
   "metadata": {},
   "outputs": [
    {
     "data": {
      "text/html": [
       "<div>\n",
       "<style scoped>\n",
       "    .dataframe tbody tr th:only-of-type {\n",
       "        vertical-align: middle;\n",
       "    }\n",
       "\n",
       "    .dataframe tbody tr th {\n",
       "        vertical-align: top;\n",
       "    }\n",
       "\n",
       "    .dataframe thead th {\n",
       "        text-align: right;\n",
       "    }\n",
       "</style>\n",
       "<table border=\"1\" class=\"dataframe\">\n",
       "  <thead>\n",
       "    <tr style=\"text-align: right;\">\n",
       "      <th></th>\n",
       "      <th>best_week_model: LinearRegression</th>\n",
       "      <th>lag_168</th>\n",
       "    </tr>\n",
       "  </thead>\n",
       "  <tbody>\n",
       "    <tr>\n",
       "      <th>rmse</th>\n",
       "      <td>50.027583</td>\n",
       "      <td>46.985030</td>\n",
       "    </tr>\n",
       "    <tr>\n",
       "      <th>nrmse</th>\n",
       "      <td>0.798322</td>\n",
       "      <td>0.753809</td>\n",
       "    </tr>\n",
       "    <tr>\n",
       "      <th>r2</th>\n",
       "      <td>0.362682</td>\n",
       "      <td>0.431772</td>\n",
       "    </tr>\n",
       "  </tbody>\n",
       "</table>\n",
       "</div>"
      ],
      "text/plain": [
       "       best_week_model: LinearRegression    lag_168\n",
       "rmse                           50.027583  46.985030\n",
       "nrmse                           0.798322   0.753809\n",
       "r2                              0.362682   0.431772"
      ]
     },
     "execution_count": 29,
     "metadata": {},
     "output_type": "execute_result"
    }
   ],
   "source": [
    "week_test_results_df = pd.read_csv('week_test_results.csv', index_col=0)\n",
    "week_test_results_df"
   ]
  },
  {
   "cell_type": "code",
   "execution_count": 30,
   "id": "9254daf0-dca6-4b17-804f-0ec2bc586989",
   "metadata": {},
   "outputs": [
    {
     "data": {
      "text/html": [
       "<div>\n",
       "<style scoped>\n",
       "    .dataframe tbody tr th:only-of-type {\n",
       "        vertical-align: middle;\n",
       "    }\n",
       "\n",
       "    .dataframe tbody tr th {\n",
       "        vertical-align: top;\n",
       "    }\n",
       "\n",
       "    .dataframe thead th {\n",
       "        text-align: right;\n",
       "    }\n",
       "</style>\n",
       "<table border=\"1\" class=\"dataframe\">\n",
       "  <thead>\n",
       "    <tr style=\"text-align: right;\">\n",
       "      <th></th>\n",
       "      <th>lag_168</th>\n",
       "      <th>hour</th>\n",
       "      <th>day_of_week</th>\n",
       "      <th>day_of_month</th>\n",
       "      <th>hour_sin</th>\n",
       "      <th>hour_cos</th>\n",
       "      <th>dow_sin</th>\n",
       "      <th>dow_cos</th>\n",
       "      <th>dom_sin</th>\n",
       "      <th>dom_cos</th>\n",
       "    </tr>\n",
       "    <tr>\n",
       "      <th>datetime</th>\n",
       "      <th></th>\n",
       "      <th></th>\n",
       "      <th></th>\n",
       "      <th></th>\n",
       "      <th></th>\n",
       "      <th></th>\n",
       "      <th></th>\n",
       "      <th></th>\n",
       "      <th></th>\n",
       "      <th></th>\n",
       "    </tr>\n",
       "  </thead>\n",
       "  <tbody>\n",
       "    <tr>\n",
       "      <th>2018-03-08 00:00:00</th>\n",
       "      <td>124.0</td>\n",
       "      <td>0</td>\n",
       "      <td>3</td>\n",
       "      <td>8</td>\n",
       "      <td>0.000000</td>\n",
       "      <td>1.000000</td>\n",
       "      <td>0.433884</td>\n",
       "      <td>-0.900969</td>\n",
       "      <td>0.996762</td>\n",
       "      <td>-0.080414</td>\n",
       "    </tr>\n",
       "    <tr>\n",
       "      <th>2018-03-08 01:00:00</th>\n",
       "      <td>85.0</td>\n",
       "      <td>1</td>\n",
       "      <td>3</td>\n",
       "      <td>8</td>\n",
       "      <td>0.258819</td>\n",
       "      <td>0.965926</td>\n",
       "      <td>0.433884</td>\n",
       "      <td>-0.900969</td>\n",
       "      <td>0.996762</td>\n",
       "      <td>-0.080414</td>\n",
       "    </tr>\n",
       "    <tr>\n",
       "      <th>2018-03-08 02:00:00</th>\n",
       "      <td>71.0</td>\n",
       "      <td>2</td>\n",
       "      <td>3</td>\n",
       "      <td>8</td>\n",
       "      <td>0.500000</td>\n",
       "      <td>0.866025</td>\n",
       "      <td>0.433884</td>\n",
       "      <td>-0.900969</td>\n",
       "      <td>0.996762</td>\n",
       "      <td>-0.080414</td>\n",
       "    </tr>\n",
       "    <tr>\n",
       "      <th>2018-03-08 03:00:00</th>\n",
       "      <td>66.0</td>\n",
       "      <td>3</td>\n",
       "      <td>3</td>\n",
       "      <td>8</td>\n",
       "      <td>0.707107</td>\n",
       "      <td>0.707107</td>\n",
       "      <td>0.433884</td>\n",
       "      <td>-0.900969</td>\n",
       "      <td>0.996762</td>\n",
       "      <td>-0.080414</td>\n",
       "    </tr>\n",
       "    <tr>\n",
       "      <th>2018-03-08 04:00:00</th>\n",
       "      <td>43.0</td>\n",
       "      <td>4</td>\n",
       "      <td>3</td>\n",
       "      <td>8</td>\n",
       "      <td>0.866025</td>\n",
       "      <td>0.500000</td>\n",
       "      <td>0.433884</td>\n",
       "      <td>-0.900969</td>\n",
       "      <td>0.996762</td>\n",
       "      <td>-0.080414</td>\n",
       "    </tr>\n",
       "  </tbody>\n",
       "</table>\n",
       "</div>"
      ],
      "text/plain": [
       "                     lag_168 hour day_of_week day_of_month  hour_sin  \\\n",
       "datetime                                                               \n",
       "2018-03-08 00:00:00    124.0    0           3            8  0.000000   \n",
       "2018-03-08 01:00:00     85.0    1           3            8  0.258819   \n",
       "2018-03-08 02:00:00     71.0    2           3            8  0.500000   \n",
       "2018-03-08 03:00:00     66.0    3           3            8  0.707107   \n",
       "2018-03-08 04:00:00     43.0    4           3            8  0.866025   \n",
       "\n",
       "                     hour_cos   dow_sin   dow_cos   dom_sin   dom_cos  \n",
       "datetime                                                               \n",
       "2018-03-08 00:00:00  1.000000  0.433884 -0.900969  0.996762 -0.080414  \n",
       "2018-03-08 01:00:00  0.965926  0.433884 -0.900969  0.996762 -0.080414  \n",
       "2018-03-08 02:00:00  0.866025  0.433884 -0.900969  0.996762 -0.080414  \n",
       "2018-03-08 03:00:00  0.707107  0.433884 -0.900969  0.996762 -0.080414  \n",
       "2018-03-08 04:00:00  0.500000  0.433884 -0.900969  0.996762 -0.080414  "
      ]
     },
     "execution_count": 30,
     "metadata": {},
     "output_type": "execute_result"
    }
   ],
   "source": [
    "pre.X_train_week.head()"
   ]
  },
  {
   "cell_type": "markdown",
   "id": "27e9d969-0cd4-4d96-b1d0-62fff3228595",
   "metadata": {},
   "source": [
    "Our models which forecast 1 hour, 12 hours, and 1 day into the future significantly outperform any naive models we might apply to the test data. This is not trivial. Each of the naive predictors we used was a feature which the regression model trained on. Moreover, we know our data has significant seasonality at both daily and weekly intervals. It is unsurprising, therefore, that lag_24 andd lag_168 accounted for a significantly greater proportion of the variance than did lag_1 and lag_72. lag_24 and lag_168 regularly account for between 24 and 43 percent of the variance on a given forecast task, while lag_72 tops out at 13 percent and lag_1 appears to perform worse than a naive mean predictor, effectly adding error to the model. \n",
    "\n",
    "Our model which attempted to forecast for 3 days into the future did not significantly outperform the lag_168 predictor and the one week forecaster underperformed the lag_168 model, although the disparity between the 3 days predictor and the week predictor on this point likely results from the fact that lag_168 just happened to fit the test data for the week forecaster a little better than it did the 3 days test data, especially considerin that the LinearRegression models for those two forecast lengths had nearly identical rmse scores. It is also worth noting that the lag_168 predictor outperformed the LinearRegression model which consisted of only categorical and cyclical hour, day_of_week, and day_of_month features (see above). This suggests that these features may also be adding error to the model, rather than increasing its performance. \n",
    "\n",
    "Some caveats shoudl be noted. In particular, each of our test sets were rather short. This was simply for the sake of time in the event that TBATS or SARIMA came out to be the best model. The 1 hour and 12_hour forecasts were 24 hours long, the day long forecast had a test set of 28 samples, the 72 hour forecast had a test set of 76, and the week long forecast had a test set of 172. Each of the test sets were intentionally set to to be a little longer than the the forecast length so we could implement a rolling horizon for each model to simulate real world deployment. This means that on each iteration the model re-trains on the same data set with the addition of one new sample which leads to a time consuiming process for TBATS and SARIMA.\n",
    "\n",
    "All things considered, if we want to demonstrate that our models are robust, we would want to test them on a larger test set. "
   ]
  },
  {
   "cell_type": "markdown",
   "id": "45dafc50-b326-427a-8c20-d35162e4dd25",
   "metadata": {},
   "source": [
    "## Summary and Conclusions"
   ]
  },
  {
   "cell_type": "markdown",
   "id": "f80e8925-f4a0-4754-b20a-44c63bdcc6be",
   "metadata": {},
   "source": [
    "Our first three models performed well by comparison to naive predictors. However, as we had to drop more lag features to prevent data leakage, the model performance significantly reduced at a forecast length of 3 days. Still, there is some reason to think we could improve this performance. We know that the lag_1 feature added error and the only difference between the feature set for the hour forecast and the 12 hour forecast was the absence of this feature. Since they were tested on the same test set samples, we can say with near certainty that the absence of this lag_1 variable would improve the metrics of the hour long forecast to match those of the 12 hour long forecast. The lag_168 predictor outperformed the LinearRegression model that was trained on only that same lag_168 feature, and categorical and cyclical encodings for hour, day_of_week, and day_of_month. We would assume that a LinearRegression model utilizing only a lag_168 feature would outperform a naive predictor that simply predicts lag_168 each time. \n",
    "\n",
    "In fact, this is almost (but not quite) true by definition. If the LinearRegression model has enough samples then, even if lag_168 is a perfect predictor, the ordinary least squares approach for LinearRegression ensures that we are finding the relationship between lag_168 and the target variable that optimizes for the least amount of loss. The normal equation - $\\theta = (X^T X)^{-1} X^T y$ - is optimized to ensure that the mean squared error is minimized. This is done by taking the partial derivative of  $\\frac{1}{n} \\| Xw - y \\|^2$ (i.e. mean squared error) with respect to w where w represents your weights vector. The partial derivative of $\\frac{1}{n} \\| Xw - y \\|^2$ with respect to w is $\\frac{1}{m} X^T (Xw - y)$ This means that for a tiny change in an amount approaching zero to each of the weights, the output of the mean squared loss function will change by the amount specified by $\\frac{1}{n} X^T (Xw - y)$. Another way of putting this is that $\\frac{1}{n} X^T (Xw - y)$ is the gradient vector of mean squared loss with respect to w, which means that it is the vector defining the direction of steepest ascent at any point in the function which means it gives the direction of steepest ascent generally (symbolically), and at a specific point when evaluated at a particular set of weight values.  You then set the gradient vector to 0 and solve for w which gives you the normal equaion: $\\theta = (X^T X)^{-1} X^T y$. The reason you do this is that setting the gradient vector equal to zero means that there will be no change in the function output for a tiny change approaching zero to all of the weights. This means that the point where the gradient vector equals 0 has a slope of 0. Since the mean squared loss function has the shape of a paraboloid (multi-dimensional parabola) the only point where its slope will be 0 will be at the vertex of the function which is the lowest point on the function for a paraboloid, thereby ensuring that we are choosing the weights which yield the global minimum output for the mean squared loss function.  \n",
    "\n",
    "This process gives us a pretty strong assurance that a LinearRegression model passed a lag_168 feature would outperform a lag_168 predictor when modeling the same data set, assuming the LinearRegression model has a sufficient number of samples. In which case, in the absence of any noise (which we have stipulated by claiming the lag_168 predictor is a perfect predictor) the model would be identical to the lag_168 predictor \n",
    "\n",
    "However, in practice this is not a guarantee, principally because, in our case, lag_168 is choosing lag values for the test set and our LinearRegression model was trained on the training set. Therefore, since the model is optimizing loss for a different data set before making predictions on a different data set it is no gurauntee it would approach the performance of lag_168 with the addition of new samples if lag_168 were a perfect predictor. Of course, we know based on our rmse, normalized rmse, and r2 scores that lag_168 is not a perfect predictor of the test set. Therefore, all of the logic laid out above in conjunction with the fact that lag_168 outperformed the LinearRegression model trained on lag_168 and hour, day_of_week, and day_of_month features, is a pretty good indication that the model would perform better without the latter features. This suggests that the models with shorter forecast lengths may have also benefitted from a leaner feature set.\n",
    "\n",
    "Finally, it is worth noting that the portion of the data we tested the model on had the most variance and was the most difficult to predict. This is apparant from the plots we drew in our EDA. This can also be seen from the per fold cross validation data laid out above. Even for blocked cv, where no training set is any larger than any other, validation performance is much better on the early months (starting at March 1st) of the data set than it is on the later months of the data set. Each of the per fold results had this characteristic. We will not load them here to avoid all of the clutter, but if you run the cross validation scripts in the project directory, this is the pattern you will see. "
   ]
  },
  {
   "cell_type": "code",
   "execution_count": null,
   "id": "90fede2d-c737-432a-b1b0-48cdec28f5a4",
   "metadata": {},
   "outputs": [],
   "source": []
  }
 ],
 "metadata": {
  "kernelspec": {
   "display_name": "Python - sprint_13_env",
   "language": "python",
   "name": "sprint_13_env"
  },
  "language_info": {
   "codemirror_mode": {
    "name": "ipython",
    "version": 3
   },
   "file_extension": ".py",
   "mimetype": "text/x-python",
   "name": "python",
   "nbconvert_exporter": "python",
   "pygments_lexer": "ipython3",
   "version": "3.12.11"
  }
 },
 "nbformat": 4,
 "nbformat_minor": 5
}
