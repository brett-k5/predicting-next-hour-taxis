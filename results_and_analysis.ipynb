{
 "cells": [
  {
   "cell_type": "code",
   "execution_count": 1,
   "id": "1ccf64c4-dc83-405c-acac-1706a6e74ba3",
   "metadata": {},
   "outputs": [],
   "source": [
    "import pandas as pd \n",
    "from src.model_io import rmse_comp\n",
    "from test_runner import avg_rmse_dfs"
   ]
  },
  {
   "cell_type": "code",
   "execution_count": 2,
   "id": "42d6ffed-9513-45a2-b201-3b440f5adacb",
   "metadata": {},
   "outputs": [],
   "source": [
    "blocked_cv_hour = pd.read_csv('cv_rmse_scores/cv_avg_rmse_scores/blocked_avg_rmse_1h.csv')\n",
    "blocked_cv_12_hours = pd.read_csv('cv_rmse_scores/cv_avg_rmse_scores/blocked_avg_rmse_12h.csv')\n",
    "blocked_cv_day = pd.read_csv('cv_rmse_scores/cv_avg_rmse_scores/blocked_avg_rmse_24h.csv')\n",
    "blocked_cv_3_days = pd.read_csv('cv_rmse_scores/cv_avg_rmse_scores/blocked_avg_rmse_72h.csv')\n",
    "blocked_cv_week = pd.read_csv('cv_rmse_scores/cv_avg_rmse_scores/blocked_avg_rmse_168h.csv')\n",
    "expanded_w_cv_hour = pd.read_csv('cv_rmse_scores/cv_avg_rmse_scores/expanded_w_avg_rmse_1h.csv')\n",
    "expanded_w_cv_12_hours = pd.read_csv('cv_rmse_scores/cv_avg_rmse_scores/expanded_w_avg_rmse_12h.csv')\n",
    "expanded_w_cv_day = pd.read_csv('cv_rmse_scores/cv_avg_rmse_scores/expanded_w_avg_rmse_24h.csv')\n",
    "expanded_w_cv_3_days = pd.read_csv('cv_rmse_scores/cv_avg_rmse_scores/expanded_w_avg_rmse_72h.csv')\n",
    "expanded_w_cv_week = pd.read_csv('cv_rmse_scores/cv_avg_rmse_scores/expanded_w_avg_rmse_168h.csv')"
   ]
  },
  {
   "cell_type": "code",
   "execution_count": 3,
   "id": "f8bf9e37-776c-448a-adc5-f68d112e56a8",
   "metadata": {
    "scrolled": true
   },
   "outputs": [
    {
     "data": {
      "text/html": [
       "<div>\n",
       "<style scoped>\n",
       "    .dataframe tbody tr th:only-of-type {\n",
       "        vertical-align: middle;\n",
       "    }\n",
       "\n",
       "    .dataframe tbody tr th {\n",
       "        vertical-align: top;\n",
       "    }\n",
       "\n",
       "    .dataframe thead th {\n",
       "        text-align: right;\n",
       "    }\n",
       "</style>\n",
       "<table border=\"1\" class=\"dataframe\">\n",
       "  <thead>\n",
       "    <tr style=\"text-align: right;\">\n",
       "      <th></th>\n",
       "      <th>model_lin_rmse</th>\n",
       "      <th>model_sarima_rmse</th>\n",
       "      <th>model_tbats_rmse</th>\n",
       "    </tr>\n",
       "  </thead>\n",
       "  <tbody>\n",
       "    <tr>\n",
       "      <th>0</th>\n",
       "      <td>22.453145</td>\n",
       "      <td>26.457072</td>\n",
       "      <td>20.514575</td>\n",
       "    </tr>\n",
       "  </tbody>\n",
       "</table>\n",
       "</div>"
      ],
      "text/plain": [
       "   model_lin_rmse  model_sarima_rmse  model_tbats_rmse\n",
       "0       22.453145          26.457072         20.514575"
      ]
     },
     "execution_count": 3,
     "metadata": {},
     "output_type": "execute_result"
    }
   ],
   "source": [
    "blocked_cv_hour"
   ]
  },
  {
   "cell_type": "code",
   "execution_count": 4,
   "id": "f733cd6f-6d8f-4db6-b3e8-1e97296a9f8b",
   "metadata": {},
   "outputs": [
    {
     "data": {
      "text/html": [
       "<div>\n",
       "<style scoped>\n",
       "    .dataframe tbody tr th:only-of-type {\n",
       "        vertical-align: middle;\n",
       "    }\n",
       "\n",
       "    .dataframe tbody tr th {\n",
       "        vertical-align: top;\n",
       "    }\n",
       "\n",
       "    .dataframe thead th {\n",
       "        text-align: right;\n",
       "    }\n",
       "</style>\n",
       "<table border=\"1\" class=\"dataframe\">\n",
       "  <thead>\n",
       "    <tr style=\"text-align: right;\">\n",
       "      <th></th>\n",
       "      <th>model_lin_rmse</th>\n",
       "      <th>model_sarima_rmse</th>\n",
       "      <th>model_tbats_rmse</th>\n",
       "    </tr>\n",
       "  </thead>\n",
       "  <tbody>\n",
       "    <tr>\n",
       "      <th>0</th>\n",
       "      <td>23.070098</td>\n",
       "      <td>26.507655</td>\n",
       "      <td>23.407214</td>\n",
       "    </tr>\n",
       "  </tbody>\n",
       "</table>\n",
       "</div>"
      ],
      "text/plain": [
       "   model_lin_rmse  model_sarima_rmse  model_tbats_rmse\n",
       "0       23.070098          26.507655         23.407214"
      ]
     },
     "execution_count": 4,
     "metadata": {},
     "output_type": "execute_result"
    }
   ],
   "source": [
    "expanded_w_cv_hour"
   ]
  },
  {
   "cell_type": "code",
   "execution_count": 5,
   "id": "dced0736-4b92-4148-adac-08904f45a6af",
   "metadata": {},
   "outputs": [
    {
     "data": {
      "text/html": [
       "<div>\n",
       "<style scoped>\n",
       "    .dataframe tbody tr th:only-of-type {\n",
       "        vertical-align: middle;\n",
       "    }\n",
       "\n",
       "    .dataframe tbody tr th {\n",
       "        vertical-align: top;\n",
       "    }\n",
       "\n",
       "    .dataframe thead th {\n",
       "        text-align: right;\n",
       "    }\n",
       "</style>\n",
       "<table border=\"1\" class=\"dataframe\">\n",
       "  <thead>\n",
       "    <tr style=\"text-align: right;\">\n",
       "      <th></th>\n",
       "      <th>model_lin_rmse</th>\n",
       "      <th>model_sarima_rmse</th>\n",
       "      <th>model_tbats_rmse</th>\n",
       "    </tr>\n",
       "  </thead>\n",
       "  <tbody>\n",
       "    <tr>\n",
       "      <th>0</th>\n",
       "      <td>32.051933</td>\n",
       "      <td>44.520043</td>\n",
       "      <td>32.696293</td>\n",
       "    </tr>\n",
       "  </tbody>\n",
       "</table>\n",
       "</div>"
      ],
      "text/plain": [
       "   model_lin_rmse  model_sarima_rmse  model_tbats_rmse\n",
       "0       32.051933          44.520043         32.696293"
      ]
     },
     "execution_count": 5,
     "metadata": {},
     "output_type": "execute_result"
    }
   ],
   "source": [
    "blocked_cv_12_hours"
   ]
  },
  {
   "cell_type": "code",
   "execution_count": 6,
   "id": "65659ed6-d991-4961-93ed-f9fe8e179023",
   "metadata": {},
   "outputs": [
    {
     "data": {
      "text/html": [
       "<div>\n",
       "<style scoped>\n",
       "    .dataframe tbody tr th:only-of-type {\n",
       "        vertical-align: middle;\n",
       "    }\n",
       "\n",
       "    .dataframe tbody tr th {\n",
       "        vertical-align: top;\n",
       "    }\n",
       "\n",
       "    .dataframe thead th {\n",
       "        text-align: right;\n",
       "    }\n",
       "</style>\n",
       "<table border=\"1\" class=\"dataframe\">\n",
       "  <thead>\n",
       "    <tr style=\"text-align: right;\">\n",
       "      <th></th>\n",
       "      <th>model_lin_rmse</th>\n",
       "      <th>model_sarima_rmse</th>\n",
       "      <th>model_tbats_rmse</th>\n",
       "    </tr>\n",
       "  </thead>\n",
       "  <tbody>\n",
       "    <tr>\n",
       "      <th>0</th>\n",
       "      <td>31.565206</td>\n",
       "      <td>43.837525</td>\n",
       "      <td>35.094361</td>\n",
       "    </tr>\n",
       "  </tbody>\n",
       "</table>\n",
       "</div>"
      ],
      "text/plain": [
       "   model_lin_rmse  model_sarima_rmse  model_tbats_rmse\n",
       "0       31.565206          43.837525         35.094361"
      ]
     },
     "execution_count": 6,
     "metadata": {},
     "output_type": "execute_result"
    }
   ],
   "source": [
    "expanded_w_cv_12_hours"
   ]
  },
  {
   "cell_type": "code",
   "execution_count": 7,
   "id": "4d3efea3-174d-4d82-95dc-8891b5757f45",
   "metadata": {},
   "outputs": [
    {
     "data": {
      "text/html": [
       "<div>\n",
       "<style scoped>\n",
       "    .dataframe tbody tr th:only-of-type {\n",
       "        vertical-align: middle;\n",
       "    }\n",
       "\n",
       "    .dataframe tbody tr th {\n",
       "        vertical-align: top;\n",
       "    }\n",
       "\n",
       "    .dataframe thead th {\n",
       "        text-align: right;\n",
       "    }\n",
       "</style>\n",
       "<table border=\"1\" class=\"dataframe\">\n",
       "  <thead>\n",
       "    <tr style=\"text-align: right;\">\n",
       "      <th></th>\n",
       "      <th>model_lin_rmse</th>\n",
       "      <th>model_sarima_rmse</th>\n",
       "      <th>model_tbats_rmse</th>\n",
       "    </tr>\n",
       "  </thead>\n",
       "  <tbody>\n",
       "    <tr>\n",
       "      <th>0</th>\n",
       "      <td>27.250748</td>\n",
       "      <td>33.939043</td>\n",
       "      <td>26.399424</td>\n",
       "    </tr>\n",
       "  </tbody>\n",
       "</table>\n",
       "</div>"
      ],
      "text/plain": [
       "   model_lin_rmse  model_sarima_rmse  model_tbats_rmse\n",
       "0       27.250748          33.939043         26.399424"
      ]
     },
     "execution_count": 7,
     "metadata": {},
     "output_type": "execute_result"
    }
   ],
   "source": [
    "blocked_cv_day"
   ]
  },
  {
   "cell_type": "code",
   "execution_count": 8,
   "id": "7a65979b-40cc-4133-90a2-603fbed67627",
   "metadata": {},
   "outputs": [
    {
     "data": {
      "text/html": [
       "<div>\n",
       "<style scoped>\n",
       "    .dataframe tbody tr th:only-of-type {\n",
       "        vertical-align: middle;\n",
       "    }\n",
       "\n",
       "    .dataframe tbody tr th {\n",
       "        vertical-align: top;\n",
       "    }\n",
       "\n",
       "    .dataframe thead th {\n",
       "        text-align: right;\n",
       "    }\n",
       "</style>\n",
       "<table border=\"1\" class=\"dataframe\">\n",
       "  <thead>\n",
       "    <tr style=\"text-align: right;\">\n",
       "      <th></th>\n",
       "      <th>model_lin_rmse</th>\n",
       "      <th>model_sarima_rmse</th>\n",
       "      <th>model_tbats_rmse</th>\n",
       "    </tr>\n",
       "  </thead>\n",
       "  <tbody>\n",
       "    <tr>\n",
       "      <th>0</th>\n",
       "      <td>26.646916</td>\n",
       "      <td>33.436231</td>\n",
       "      <td>27.814538</td>\n",
       "    </tr>\n",
       "  </tbody>\n",
       "</table>\n",
       "</div>"
      ],
      "text/plain": [
       "   model_lin_rmse  model_sarima_rmse  model_tbats_rmse\n",
       "0       26.646916          33.436231         27.814538"
      ]
     },
     "execution_count": 8,
     "metadata": {},
     "output_type": "execute_result"
    }
   ],
   "source": [
    "expanded_w_cv_day"
   ]
  },
  {
   "cell_type": "code",
   "execution_count": 9,
   "id": "def96b81-7e02-48da-bd57-8a1b32ae7ed0",
   "metadata": {},
   "outputs": [
    {
     "data": {
      "text/html": [
       "<div>\n",
       "<style scoped>\n",
       "    .dataframe tbody tr th:only-of-type {\n",
       "        vertical-align: middle;\n",
       "    }\n",
       "\n",
       "    .dataframe tbody tr th {\n",
       "        vertical-align: top;\n",
       "    }\n",
       "\n",
       "    .dataframe thead th {\n",
       "        text-align: right;\n",
       "    }\n",
       "</style>\n",
       "<table border=\"1\" class=\"dataframe\">\n",
       "  <thead>\n",
       "    <tr style=\"text-align: right;\">\n",
       "      <th></th>\n",
       "      <th>model_lin_rmse</th>\n",
       "      <th>model_sarima_rmse</th>\n",
       "      <th>model_tbats_rmse</th>\n",
       "    </tr>\n",
       "  </thead>\n",
       "  <tbody>\n",
       "    <tr>\n",
       "      <th>0</th>\n",
       "      <td>25.555083</td>\n",
       "      <td>40.261222</td>\n",
       "      <td>29.471842</td>\n",
       "    </tr>\n",
       "  </tbody>\n",
       "</table>\n",
       "</div>"
      ],
      "text/plain": [
       "   model_lin_rmse  model_sarima_rmse  model_tbats_rmse\n",
       "0       25.555083          40.261222         29.471842"
      ]
     },
     "execution_count": 9,
     "metadata": {},
     "output_type": "execute_result"
    }
   ],
   "source": [
    "blocked_cv_3_days"
   ]
  },
  {
   "cell_type": "code",
   "execution_count": 10,
   "id": "2cb4aeef-62cb-4101-834b-2430fea40ed5",
   "metadata": {},
   "outputs": [
    {
     "data": {
      "text/html": [
       "<div>\n",
       "<style scoped>\n",
       "    .dataframe tbody tr th:only-of-type {\n",
       "        vertical-align: middle;\n",
       "    }\n",
       "\n",
       "    .dataframe tbody tr th {\n",
       "        vertical-align: top;\n",
       "    }\n",
       "\n",
       "    .dataframe thead th {\n",
       "        text-align: right;\n",
       "    }\n",
       "</style>\n",
       "<table border=\"1\" class=\"dataframe\">\n",
       "  <thead>\n",
       "    <tr style=\"text-align: right;\">\n",
       "      <th></th>\n",
       "      <th>model_lin_rmse</th>\n",
       "      <th>model_sarima_rmse</th>\n",
       "      <th>model_tbats_rmse</th>\n",
       "    </tr>\n",
       "  </thead>\n",
       "  <tbody>\n",
       "    <tr>\n",
       "      <th>0</th>\n",
       "      <td>25.896538</td>\n",
       "      <td>39.909022</td>\n",
       "      <td>28.899388</td>\n",
       "    </tr>\n",
       "  </tbody>\n",
       "</table>\n",
       "</div>"
      ],
      "text/plain": [
       "   model_lin_rmse  model_sarima_rmse  model_tbats_rmse\n",
       "0       25.896538          39.909022         28.899388"
      ]
     },
     "execution_count": 10,
     "metadata": {},
     "output_type": "execute_result"
    }
   ],
   "source": [
    "expanded_w_cv_3_days"
   ]
  },
  {
   "cell_type": "code",
   "execution_count": 11,
   "id": "837232a7-a04d-4736-9e63-23b53e20456b",
   "metadata": {},
   "outputs": [
    {
     "data": {
      "text/html": [
       "<div>\n",
       "<style scoped>\n",
       "    .dataframe tbody tr th:only-of-type {\n",
       "        vertical-align: middle;\n",
       "    }\n",
       "\n",
       "    .dataframe tbody tr th {\n",
       "        vertical-align: top;\n",
       "    }\n",
       "\n",
       "    .dataframe thead th {\n",
       "        text-align: right;\n",
       "    }\n",
       "</style>\n",
       "<table border=\"1\" class=\"dataframe\">\n",
       "  <thead>\n",
       "    <tr style=\"text-align: right;\">\n",
       "      <th></th>\n",
       "      <th>model_lin_rmse</th>\n",
       "      <th>model_sarima_rmse</th>\n",
       "      <th>model_tbats_rmse</th>\n",
       "    </tr>\n",
       "  </thead>\n",
       "  <tbody>\n",
       "    <tr>\n",
       "      <th>0</th>\n",
       "      <td>26.1467</td>\n",
       "      <td>55.074858</td>\n",
       "      <td>29.036996</td>\n",
       "    </tr>\n",
       "  </tbody>\n",
       "</table>\n",
       "</div>"
      ],
      "text/plain": [
       "   model_lin_rmse  model_sarima_rmse  model_tbats_rmse\n",
       "0         26.1467          55.074858         29.036996"
      ]
     },
     "execution_count": 11,
     "metadata": {},
     "output_type": "execute_result"
    }
   ],
   "source": [
    "blocked_cv_week"
   ]
  },
  {
   "cell_type": "code",
   "execution_count": 12,
   "id": "fbf07bd5-9f1c-44cf-bce8-49425fa293c5",
   "metadata": {},
   "outputs": [
    {
     "data": {
      "text/html": [
       "<div>\n",
       "<style scoped>\n",
       "    .dataframe tbody tr th:only-of-type {\n",
       "        vertical-align: middle;\n",
       "    }\n",
       "\n",
       "    .dataframe tbody tr th {\n",
       "        vertical-align: top;\n",
       "    }\n",
       "\n",
       "    .dataframe thead th {\n",
       "        text-align: right;\n",
       "    }\n",
       "</style>\n",
       "<table border=\"1\" class=\"dataframe\">\n",
       "  <thead>\n",
       "    <tr style=\"text-align: right;\">\n",
       "      <th></th>\n",
       "      <th>model_lin_rmse</th>\n",
       "      <th>model_sarima_rmse</th>\n",
       "      <th>model_tbats_rmse</th>\n",
       "    </tr>\n",
       "  </thead>\n",
       "  <tbody>\n",
       "    <tr>\n",
       "      <th>0</th>\n",
       "      <td>26.525833</td>\n",
       "      <td>56.064825</td>\n",
       "      <td>29.150057</td>\n",
       "    </tr>\n",
       "  </tbody>\n",
       "</table>\n",
       "</div>"
      ],
      "text/plain": [
       "   model_lin_rmse  model_sarima_rmse  model_tbats_rmse\n",
       "0       26.525833          56.064825         29.150057"
      ]
     },
     "execution_count": 12,
     "metadata": {},
     "output_type": "execute_result"
    }
   ],
   "source": [
    "expanded_w_cv_week"
   ]
  },
  {
   "cell_type": "markdown",
   "id": "898ce03a-9f52-4599-b80c-5320f46d0815",
   "metadata": {},
   "source": [
    "LinearRegression and TBATS outperform SARIMA by a wide margin for every cross validation type and forecast length, and LinearRegression edges out TBATS for every forecast length and cross validation type except for expanding window cross validation for a 72 hour forecast. Let's get a look at the cross validation folds for both blocked and expanding window cross validation for a 72 hour forecast length. "
   ]
  },
  {
   "cell_type": "markdown",
   "id": "ee66101a-fd8b-4093-a12e-fb1a31ec0231",
   "metadata": {},
   "source": [
    "Note that the second value for each fold number is the one that corrsponds to rmses for expanding window cross validation. "
   ]
  },
  {
   "cell_type": "code",
   "execution_count": 13,
   "id": "f2c0bee4-fdc3-45aa-acf4-601680abc793",
   "metadata": {
    "scrolled": true
   },
   "outputs": [],
   "source": [
    "paths_fold_rmses = ['cv_rmse_scores/cv_fold_rmse_scores/blocked_cv_fold_0_72h.csv', 'cv_rmse_scores/cv_fold_rmse_scores/expanded_w_cv_fold_0_72h.csv',\n",
    "                'cv_rmse_scores/cv_fold_rmse_scores/blocked_cv_fold_1_72h.csv', 'cv_rmse_scores/cv_fold_rmse_scores/expanded_w_cv_fold_1_72h.csv',\n",
    "                'cv_rmse_scores/cv_fold_rmse_scores/blocked_cv_fold_2_72h.csv', 'cv_rmse_scores/cv_fold_rmse_scores/expanded_w_cv_fold_2_72h.csv',\n",
    "                'cv_rmse_scores/cv_fold_rmse_scores/blocked_cv_fold_3_72h.csv', 'cv_rmse_scores/cv_fold_rmse_scores/expanded_w_cv_fold_3_72h.csv',\n",
    "                'cv_rmse_scores/cv_fold_rmse_scores/blocked_cv_fold_4_72h.csv', 'cv_rmse_scores/cv_fold_rmse_scores/expanded_w_cv_fold_4_72h.csv']\n",
    "    \n",
    "fold_rmse_names = ['df_blocked_fold_0_72h', 'df_exp_w_fold_0_72h',\n",
    "                'df_blocked_fold_1_72h', 'df_exp_w_fold_1_72h',\n",
    "                'df_blocked_fold_2_72h', 'df_exp_w_fold_2_72h',\n",
    "                'df_blocked_fold_3_72h', 'df_exp_w_fold_3_72h',\n",
    "                'df_blocked_fold_4_72h', 'df_exp_w_fold_4_72h']\n",
    "\n",
    "    \n",
    "fold_rmse_dfs = {}\n",
    "\n",
    "for file_path, name in zip(paths_fold_rmses, fold_rmse_names):\n",
    "    fold_rmse_dfs[name] = pd.read_csv(file_path)"
   ]
  },
  {
   "cell_type": "code",
   "execution_count": 14,
   "id": "5d1685e8-13c2-4bfe-8918-ce5520e0b0a2",
   "metadata": {},
   "outputs": [
    {
     "data": {
      "text/html": [
       "<div>\n",
       "<style scoped>\n",
       "    .dataframe tbody tr th:only-of-type {\n",
       "        vertical-align: middle;\n",
       "    }\n",
       "\n",
       "    .dataframe tbody tr th {\n",
       "        vertical-align: top;\n",
       "    }\n",
       "\n",
       "    .dataframe thead th {\n",
       "        text-align: right;\n",
       "    }\n",
       "</style>\n",
       "<table border=\"1\" class=\"dataframe\">\n",
       "  <thead>\n",
       "    <tr style=\"text-align: right;\">\n",
       "      <th></th>\n",
       "      <th>fold</th>\n",
       "      <th>model_lin_rmse</th>\n",
       "      <th>model_sarima_rmse</th>\n",
       "      <th>model_tbats_rmse</th>\n",
       "    </tr>\n",
       "  </thead>\n",
       "  <tbody>\n",
       "    <tr>\n",
       "      <th>0</th>\n",
       "      <td>0</td>\n",
       "      <td>17.769222</td>\n",
       "      <td>24.801399</td>\n",
       "      <td>20.160621</td>\n",
       "    </tr>\n",
       "  </tbody>\n",
       "</table>\n",
       "</div>"
      ],
      "text/plain": [
       "   fold  model_lin_rmse  model_sarima_rmse  model_tbats_rmse\n",
       "0     0       17.769222          24.801399         20.160621"
      ]
     },
     "execution_count": 14,
     "metadata": {},
     "output_type": "execute_result"
    }
   ],
   "source": [
    "fold_rmse_dfs['df_blocked_fold_0_72h']"
   ]
  },
  {
   "cell_type": "code",
   "execution_count": 15,
   "id": "e640c8a8-08d4-4a56-871b-523e99a5871d",
   "metadata": {},
   "outputs": [
    {
     "data": {
      "text/html": [
       "<div>\n",
       "<style scoped>\n",
       "    .dataframe tbody tr th:only-of-type {\n",
       "        vertical-align: middle;\n",
       "    }\n",
       "\n",
       "    .dataframe tbody tr th {\n",
       "        vertical-align: top;\n",
       "    }\n",
       "\n",
       "    .dataframe thead th {\n",
       "        text-align: right;\n",
       "    }\n",
       "</style>\n",
       "<table border=\"1\" class=\"dataframe\">\n",
       "  <thead>\n",
       "    <tr style=\"text-align: right;\">\n",
       "      <th></th>\n",
       "      <th>fold</th>\n",
       "      <th>model_lin_rmse</th>\n",
       "      <th>model_sarima_rmse</th>\n",
       "      <th>model_tbats_rmse</th>\n",
       "    </tr>\n",
       "  </thead>\n",
       "  <tbody>\n",
       "    <tr>\n",
       "      <th>0</th>\n",
       "      <td>0</td>\n",
       "      <td>17.769222</td>\n",
       "      <td>24.801399</td>\n",
       "      <td>20.160621</td>\n",
       "    </tr>\n",
       "  </tbody>\n",
       "</table>\n",
       "</div>"
      ],
      "text/plain": [
       "   fold  model_lin_rmse  model_sarima_rmse  model_tbats_rmse\n",
       "0     0       17.769222          24.801399         20.160621"
      ]
     },
     "execution_count": 15,
     "metadata": {},
     "output_type": "execute_result"
    }
   ],
   "source": [
    "fold_rmse_dfs['df_exp_w_fold_0_72h']"
   ]
  },
  {
   "cell_type": "code",
   "execution_count": 16,
   "id": "0593655b-5de5-4270-b47b-e2f512dc7d24",
   "metadata": {},
   "outputs": [
    {
     "data": {
      "text/html": [
       "<div>\n",
       "<style scoped>\n",
       "    .dataframe tbody tr th:only-of-type {\n",
       "        vertical-align: middle;\n",
       "    }\n",
       "\n",
       "    .dataframe tbody tr th {\n",
       "        vertical-align: top;\n",
       "    }\n",
       "\n",
       "    .dataframe thead th {\n",
       "        text-align: right;\n",
       "    }\n",
       "</style>\n",
       "<table border=\"1\" class=\"dataframe\">\n",
       "  <thead>\n",
       "    <tr style=\"text-align: right;\">\n",
       "      <th></th>\n",
       "      <th>fold</th>\n",
       "      <th>model_lin_rmse</th>\n",
       "      <th>model_sarima_rmse</th>\n",
       "      <th>model_tbats_rmse</th>\n",
       "    </tr>\n",
       "  </thead>\n",
       "  <tbody>\n",
       "    <tr>\n",
       "      <th>0</th>\n",
       "      <td>1</td>\n",
       "      <td>21.68045</td>\n",
       "      <td>34.697518</td>\n",
       "      <td>18.236773</td>\n",
       "    </tr>\n",
       "  </tbody>\n",
       "</table>\n",
       "</div>"
      ],
      "text/plain": [
       "   fold  model_lin_rmse  model_sarima_rmse  model_tbats_rmse\n",
       "0     1        21.68045          34.697518         18.236773"
      ]
     },
     "execution_count": 16,
     "metadata": {},
     "output_type": "execute_result"
    }
   ],
   "source": [
    "fold_rmse_dfs['df_blocked_fold_1_72h']"
   ]
  },
  {
   "cell_type": "code",
   "execution_count": 17,
   "id": "2d56370a-f0f3-4d87-b9ec-f4927402515d",
   "metadata": {},
   "outputs": [
    {
     "data": {
      "text/html": [
       "<div>\n",
       "<style scoped>\n",
       "    .dataframe tbody tr th:only-of-type {\n",
       "        vertical-align: middle;\n",
       "    }\n",
       "\n",
       "    .dataframe tbody tr th {\n",
       "        vertical-align: top;\n",
       "    }\n",
       "\n",
       "    .dataframe thead th {\n",
       "        text-align: right;\n",
       "    }\n",
       "</style>\n",
       "<table border=\"1\" class=\"dataframe\">\n",
       "  <thead>\n",
       "    <tr style=\"text-align: right;\">\n",
       "      <th></th>\n",
       "      <th>fold</th>\n",
       "      <th>model_lin_rmse</th>\n",
       "      <th>model_sarima_rmse</th>\n",
       "      <th>model_tbats_rmse</th>\n",
       "    </tr>\n",
       "  </thead>\n",
       "  <tbody>\n",
       "    <tr>\n",
       "      <th>0</th>\n",
       "      <td>1</td>\n",
       "      <td>21.930966</td>\n",
       "      <td>34.494381</td>\n",
       "      <td>19.807039</td>\n",
       "    </tr>\n",
       "  </tbody>\n",
       "</table>\n",
       "</div>"
      ],
      "text/plain": [
       "   fold  model_lin_rmse  model_sarima_rmse  model_tbats_rmse\n",
       "0     1       21.930966          34.494381         19.807039"
      ]
     },
     "execution_count": 17,
     "metadata": {},
     "output_type": "execute_result"
    }
   ],
   "source": [
    "fold_rmse_dfs['df_exp_w_fold_1_72h']"
   ]
  },
  {
   "cell_type": "code",
   "execution_count": 18,
   "id": "38736708-b00e-44f5-8a5d-19d78c49442c",
   "metadata": {},
   "outputs": [
    {
     "data": {
      "text/html": [
       "<div>\n",
       "<style scoped>\n",
       "    .dataframe tbody tr th:only-of-type {\n",
       "        vertical-align: middle;\n",
       "    }\n",
       "\n",
       "    .dataframe tbody tr th {\n",
       "        vertical-align: top;\n",
       "    }\n",
       "\n",
       "    .dataframe thead th {\n",
       "        text-align: right;\n",
       "    }\n",
       "</style>\n",
       "<table border=\"1\" class=\"dataframe\">\n",
       "  <thead>\n",
       "    <tr style=\"text-align: right;\">\n",
       "      <th></th>\n",
       "      <th>fold</th>\n",
       "      <th>model_lin_rmse</th>\n",
       "      <th>model_sarima_rmse</th>\n",
       "      <th>model_tbats_rmse</th>\n",
       "    </tr>\n",
       "  </thead>\n",
       "  <tbody>\n",
       "    <tr>\n",
       "      <th>0</th>\n",
       "      <td>2</td>\n",
       "      <td>22.314357</td>\n",
       "      <td>33.888614</td>\n",
       "      <td>21.223949</td>\n",
       "    </tr>\n",
       "  </tbody>\n",
       "</table>\n",
       "</div>"
      ],
      "text/plain": [
       "   fold  model_lin_rmse  model_sarima_rmse  model_tbats_rmse\n",
       "0     2       22.314357          33.888614         21.223949"
      ]
     },
     "execution_count": 18,
     "metadata": {},
     "output_type": "execute_result"
    }
   ],
   "source": [
    "fold_rmse_dfs['df_blocked_fold_2_72h']"
   ]
  },
  {
   "cell_type": "code",
   "execution_count": 19,
   "id": "36bca439-1437-43f3-a7a0-e7a3e8e15864",
   "metadata": {},
   "outputs": [
    {
     "data": {
      "text/html": [
       "<div>\n",
       "<style scoped>\n",
       "    .dataframe tbody tr th:only-of-type {\n",
       "        vertical-align: middle;\n",
       "    }\n",
       "\n",
       "    .dataframe tbody tr th {\n",
       "        vertical-align: top;\n",
       "    }\n",
       "\n",
       "    .dataframe thead th {\n",
       "        text-align: right;\n",
       "    }\n",
       "</style>\n",
       "<table border=\"1\" class=\"dataframe\">\n",
       "  <thead>\n",
       "    <tr style=\"text-align: right;\">\n",
       "      <th></th>\n",
       "      <th>fold</th>\n",
       "      <th>model_lin_rmse</th>\n",
       "      <th>model_sarima_rmse</th>\n",
       "      <th>model_tbats_rmse</th>\n",
       "    </tr>\n",
       "  </thead>\n",
       "  <tbody>\n",
       "    <tr>\n",
       "      <th>0</th>\n",
       "      <td>2</td>\n",
       "      <td>21.633223</td>\n",
       "      <td>35.157888</td>\n",
       "      <td>21.279933</td>\n",
       "    </tr>\n",
       "  </tbody>\n",
       "</table>\n",
       "</div>"
      ],
      "text/plain": [
       "   fold  model_lin_rmse  model_sarima_rmse  model_tbats_rmse\n",
       "0     2       21.633223          35.157888         21.279933"
      ]
     },
     "execution_count": 19,
     "metadata": {},
     "output_type": "execute_result"
    }
   ],
   "source": [
    "fold_rmse_dfs['df_exp_w_fold_2_72h']"
   ]
  },
  {
   "cell_type": "code",
   "execution_count": 20,
   "id": "9fe8962b-ae28-4ee9-bd22-c02de148b498",
   "metadata": {},
   "outputs": [
    {
     "data": {
      "text/html": [
       "<div>\n",
       "<style scoped>\n",
       "    .dataframe tbody tr th:only-of-type {\n",
       "        vertical-align: middle;\n",
       "    }\n",
       "\n",
       "    .dataframe tbody tr th {\n",
       "        vertical-align: top;\n",
       "    }\n",
       "\n",
       "    .dataframe thead th {\n",
       "        text-align: right;\n",
       "    }\n",
       "</style>\n",
       "<table border=\"1\" class=\"dataframe\">\n",
       "  <thead>\n",
       "    <tr style=\"text-align: right;\">\n",
       "      <th></th>\n",
       "      <th>fold</th>\n",
       "      <th>model_lin_rmse</th>\n",
       "      <th>model_sarima_rmse</th>\n",
       "      <th>model_tbats_rmse</th>\n",
       "    </tr>\n",
       "  </thead>\n",
       "  <tbody>\n",
       "    <tr>\n",
       "      <th>0</th>\n",
       "      <td>3</td>\n",
       "      <td>22.045687</td>\n",
       "      <td>42.035402</td>\n",
       "      <td>29.878432</td>\n",
       "    </tr>\n",
       "  </tbody>\n",
       "</table>\n",
       "</div>"
      ],
      "text/plain": [
       "   fold  model_lin_rmse  model_sarima_rmse  model_tbats_rmse\n",
       "0     3       22.045687          42.035402         29.878432"
      ]
     },
     "execution_count": 20,
     "metadata": {},
     "output_type": "execute_result"
    }
   ],
   "source": [
    "fold_rmse_dfs['df_blocked_fold_3_72h']"
   ]
  },
  {
   "cell_type": "code",
   "execution_count": 21,
   "id": "5304ca9b-8c06-4a44-a7a3-189688eb7069",
   "metadata": {},
   "outputs": [
    {
     "data": {
      "text/html": [
       "<div>\n",
       "<style scoped>\n",
       "    .dataframe tbody tr th:only-of-type {\n",
       "        vertical-align: middle;\n",
       "    }\n",
       "\n",
       "    .dataframe tbody tr th {\n",
       "        vertical-align: top;\n",
       "    }\n",
       "\n",
       "    .dataframe thead th {\n",
       "        text-align: right;\n",
       "    }\n",
       "</style>\n",
       "<table border=\"1\" class=\"dataframe\">\n",
       "  <thead>\n",
       "    <tr style=\"text-align: right;\">\n",
       "      <th></th>\n",
       "      <th>fold</th>\n",
       "      <th>model_lin_rmse</th>\n",
       "      <th>model_sarima_rmse</th>\n",
       "      <th>model_tbats_rmse</th>\n",
       "    </tr>\n",
       "  </thead>\n",
       "  <tbody>\n",
       "    <tr>\n",
       "      <th>0</th>\n",
       "      <td>3</td>\n",
       "      <td>22.791508</td>\n",
       "      <td>40.616683</td>\n",
       "      <td>25.317633</td>\n",
       "    </tr>\n",
       "  </tbody>\n",
       "</table>\n",
       "</div>"
      ],
      "text/plain": [
       "   fold  model_lin_rmse  model_sarima_rmse  model_tbats_rmse\n",
       "0     3       22.791508          40.616683         25.317633"
      ]
     },
     "execution_count": 21,
     "metadata": {},
     "output_type": "execute_result"
    }
   ],
   "source": [
    "fold_rmse_dfs['df_exp_w_fold_3_72h']"
   ]
  },
  {
   "cell_type": "code",
   "execution_count": 22,
   "id": "7150347c-11ac-4a51-8365-3fffcc017b92",
   "metadata": {},
   "outputs": [
    {
     "data": {
      "text/html": [
       "<div>\n",
       "<style scoped>\n",
       "    .dataframe tbody tr th:only-of-type {\n",
       "        vertical-align: middle;\n",
       "    }\n",
       "\n",
       "    .dataframe tbody tr th {\n",
       "        vertical-align: top;\n",
       "    }\n",
       "\n",
       "    .dataframe thead th {\n",
       "        text-align: right;\n",
       "    }\n",
       "</style>\n",
       "<table border=\"1\" class=\"dataframe\">\n",
       "  <thead>\n",
       "    <tr style=\"text-align: right;\">\n",
       "      <th></th>\n",
       "      <th>fold</th>\n",
       "      <th>model_lin_rmse</th>\n",
       "      <th>model_sarima_rmse</th>\n",
       "      <th>model_tbats_rmse</th>\n",
       "    </tr>\n",
       "  </thead>\n",
       "  <tbody>\n",
       "    <tr>\n",
       "      <th>0</th>\n",
       "      <td>4</td>\n",
       "      <td>38.672746</td>\n",
       "      <td>58.055057</td>\n",
       "      <td>47.547242</td>\n",
       "    </tr>\n",
       "  </tbody>\n",
       "</table>\n",
       "</div>"
      ],
      "text/plain": [
       "   fold  model_lin_rmse  model_sarima_rmse  model_tbats_rmse\n",
       "0     4       38.672746          58.055057         47.547242"
      ]
     },
     "execution_count": 22,
     "metadata": {},
     "output_type": "execute_result"
    }
   ],
   "source": [
    "fold_rmse_dfs['df_blocked_fold_4_72h']"
   ]
  },
  {
   "cell_type": "code",
   "execution_count": 23,
   "id": "ae603d67-8b44-4e7e-9efd-596c6e24d19c",
   "metadata": {},
   "outputs": [
    {
     "data": {
      "text/html": [
       "<div>\n",
       "<style scoped>\n",
       "    .dataframe tbody tr th:only-of-type {\n",
       "        vertical-align: middle;\n",
       "    }\n",
       "\n",
       "    .dataframe tbody tr th {\n",
       "        vertical-align: top;\n",
       "    }\n",
       "\n",
       "    .dataframe thead th {\n",
       "        text-align: right;\n",
       "    }\n",
       "</style>\n",
       "<table border=\"1\" class=\"dataframe\">\n",
       "  <thead>\n",
       "    <tr style=\"text-align: right;\">\n",
       "      <th></th>\n",
       "      <th>fold</th>\n",
       "      <th>model_lin_rmse</th>\n",
       "      <th>model_sarima_rmse</th>\n",
       "      <th>model_tbats_rmse</th>\n",
       "    </tr>\n",
       "  </thead>\n",
       "  <tbody>\n",
       "    <tr>\n",
       "      <th>0</th>\n",
       "      <td>4</td>\n",
       "      <td>39.610501</td>\n",
       "      <td>57.209146</td>\n",
       "      <td>47.783738</td>\n",
       "    </tr>\n",
       "  </tbody>\n",
       "</table>\n",
       "</div>"
      ],
      "text/plain": [
       "   fold  model_lin_rmse  model_sarima_rmse  model_tbats_rmse\n",
       "0     4       39.610501          57.209146         47.783738"
      ]
     },
     "execution_count": 23,
     "metadata": {},
     "output_type": "execute_result"
    }
   ],
   "source": [
    "fold_rmse_dfs['df_exp_w_fold_4_72h']"
   ]
  },
  {
   "cell_type": "markdown",
   "id": "7f9bef0a-643c-4c0f-bf61-077808112570",
   "metadata": {},
   "source": [
    "We can see that TBATs outperformed LinearRegression on both cross validation types for fold 2, was slightly better for expanded window cv on fold 3, and is better across the board for fold 3. However, our rmse_comp function is set up to pick the model with the lowest standard devation across all folds and cross validation types which would be LinearRegression in this case. The reasons in favor of sticking with the default result would be that, of course, the default result showed more consistent performance during cross validation, and that blocked cross validation is more robust than expanding window cross validation because a given piece of training data that leads to poor performance may be drowned out in expanding window cross validation because in larger training sets, training data a model does not utilize well can be drowned out by training sets the model does utilize well. Of course, we see this occur in the 72 hour forecast window for our TBATS model. The model performs comparably very bad for blocked CV on fold 3, and comparably good for expanding window cv on fold 3. \n",
    "\n",
    "These results favor the default selection of a the more cosistent LinearRegression model. However, in practice, real world implementation with dynamic model training is more closely approximated by expanding window cross validation. The only risk would be that we get a fold like fold 3 as our first set of training data the model performs on, leading to comparably poor early performance. In principle, it's possible we might try to deploy a model with only 6 weeks worth of training for a time series foreasting situation like this, but if we were to deploy a model with the amount of training data we have in this set, it would appear to be a non-issue. Therefore, we would be justified in overwriting the default selection of LinearRegression for this 3 day forecasting window, especially because the performance gap for expanding window cross validation appears to be improving as the amount of data trained on increases. Therefore, we have to set the override parameter to True, and pass the rmse_comp function the name of the model we want to be tested on the test set. Therefore our rmse_comp function call will look like this for a 3 day forecast length:\n",
    "```\n",
    "best_model_3_days = rmse_comp(avg_rmse_dfs['df_72_hours_blocked'], \n",
    "                                  avg_rmse_dfs['df_72_hours_exp_w'], \n",
    "                                  '3_days', \n",
    "                                  72, \n",
    "                                  override=True, \n",
    "                                  override_model=TBATS)\n",
    "```\n",
    "This is different from the call we used when we were happy with the default result which looked like this:\n",
    "```\n",
    "best_model_3_days = rmse_comp(avg_rmse_dfs['df_72_hours_blocked'], \n",
    "                                  avg_rmse_dfs['df_72_hours_exp_w'], \n",
    "                                  '3_days', \n",
    "                                  72)\n",
    "```\n",
    "\n",
    "The rmse_comp function prompts a manual review of the rmses o the different cv folds to ensure the reviewer agrees with the default selection. See the model_io.py script in the src folder for a review of the code."
   ]
  },
  {
   "cell_type": "markdown",
   "id": "3ba2f60a-95f6-45f2-b27c-976e5fadfceb",
   "metadata": {},
   "source": [
    "With our rmse_comp "
   ]
  },
  {
   "cell_type": "code",
   "execution_count": 24,
   "id": "d4b5b68f-a6ee-4a1e-b6ae-fb614fadeffc",
   "metadata": {},
   "outputs": [],
   "source": [
    "test_results_df = pd.read_csv('test_results.csv')"
   ]
  },
  {
   "cell_type": "code",
   "execution_count": 25,
   "id": "731f9eaf-c4a7-40d0-821f-7bcce850dffa",
   "metadata": {},
   "outputs": [
    {
     "data": {
      "text/html": [
       "<div>\n",
       "<style scoped>\n",
       "    .dataframe tbody tr th:only-of-type {\n",
       "        vertical-align: middle;\n",
       "    }\n",
       "\n",
       "    .dataframe tbody tr th {\n",
       "        vertical-align: top;\n",
       "    }\n",
       "\n",
       "    .dataframe thead th {\n",
       "        text-align: right;\n",
       "    }\n",
       "</style>\n",
       "<table border=\"1\" class=\"dataframe\">\n",
       "  <thead>\n",
       "    <tr style=\"text-align: right;\">\n",
       "      <th></th>\n",
       "      <th>best_hour_model: LinearRegression</th>\n",
       "      <th>best_12_hour_model: LinearRegression</th>\n",
       "      <th>best_day_model: TBATS</th>\n",
       "      <th>best_3_day_model: LinearRegression</th>\n",
       "      <th>best_week_model: LinearRegression</th>\n",
       "    </tr>\n",
       "  </thead>\n",
       "  <tbody>\n",
       "    <tr>\n",
       "      <th>0</th>\n",
       "      <td>41.069461</td>\n",
       "      <td>37.367556</td>\n",
       "      <td>58.488358</td>\n",
       "      <td>50.824971</td>\n",
       "      <td>50.027583</td>\n",
       "    </tr>\n",
       "    <tr>\n",
       "      <th>1</th>\n",
       "      <td>0.674510</td>\n",
       "      <td>0.672130</td>\n",
       "      <td>0.947651</td>\n",
       "      <td>0.808470</td>\n",
       "      <td>0.798322</td>\n",
       "    </tr>\n",
       "    <tr>\n",
       "      <th>2</th>\n",
       "      <td>0.545036</td>\n",
       "      <td>0.548241</td>\n",
       "      <td>0.101958</td>\n",
       "      <td>0.346376</td>\n",
       "      <td>0.362682</td>\n",
       "    </tr>\n",
       "  </tbody>\n",
       "</table>\n",
       "</div>"
      ],
      "text/plain": [
       "   best_hour_model: LinearRegression  best_12_hour_model: LinearRegression  \\\n",
       "0                          41.069461                             37.367556   \n",
       "1                           0.674510                              0.672130   \n",
       "2                           0.545036                              0.548241   \n",
       "\n",
       "   best_day_model: TBATS  best_3_day_model: LinearRegression  \\\n",
       "0              58.488358                           50.824971   \n",
       "1               0.947651                            0.808470   \n",
       "2               0.101958                            0.346376   \n",
       "\n",
       "   best_week_model: LinearRegression  \n",
       "0                          50.027583  \n",
       "1                           0.798322  \n",
       "2                           0.362682  "
      ]
     },
     "execution_count": 25,
     "metadata": {},
     "output_type": "execute_result"
    }
   ],
   "source": [
    "test_results_df"
   ]
  },
  {
   "cell_type": "markdown",
   "id": "05f2e28f-a137-44a0-a73c-a8e11fca672d",
   "metadata": {},
   "source": []
  },
  {
   "cell_type": "code",
   "execution_count": null,
   "id": "c850bf26-50ec-4b42-b285-b89bc3805fab",
   "metadata": {},
   "outputs": [],
   "source": []
  }
 ],
 "metadata": {
  "kernelspec": {
   "display_name": "Python - sprint_13_env",
   "language": "python",
   "name": "sprint_13_env"
  },
  "language_info": {
   "codemirror_mode": {
    "name": "ipython",
    "version": 3
   },
   "file_extension": ".py",
   "mimetype": "text/x-python",
   "name": "python",
   "nbconvert_exporter": "python",
   "pygments_lexer": "ipython3",
   "version": "3.12.11"
  }
 },
 "nbformat": 4,
 "nbformat_minor": 5
}
